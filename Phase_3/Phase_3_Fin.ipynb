{
 "cells": [
  {
   "cell_type": "code",
   "execution_count": 2,
   "metadata": {},
   "outputs": [],
   "source": [
    "import pandas as pd\n",
    "import numpy as np\n",
    "import seaborn as sns\n",
    "import matplotlib.pyplot as plt\n",
    "import string\n",
    "import operator\n",
    "import warnings\n",
    "warnings.simplefilter('ignore')\n",
    "%matplotlib inline"
   ]
  },
  {
   "cell_type": "markdown",
   "metadata": {},
   "source": [
    "# Some info about what our questions are"
   ]
  },
  {
   "cell_type": "markdown",
   "metadata": {},
   "source": [
    "## First we will clean the data"
   ]
  },
  {
   "cell_type": "code",
   "execution_count": 3,
   "metadata": {},
   "outputs": [],
   "source": [
    "columns = ['Artist', 'Title', 'Album', '#_of_views', 'Release_date', '#_feat_artists', \n",
    "           'Artist_pop', 'Genre', 'Followers', 'Danceability', 'Track_pop', 'Explicit', \n",
    "           'Energy', 'Valence', 'Duration', 'Loudness', '#_words', 'Lyrics']\n",
    "data = pd.read_csv('lyricDatasetUpdated.csv', names = columns)"
   ]
  },
  {
   "cell_type": "markdown",
   "metadata": {},
   "source": [
    "Based on the greatest similarity between track titles, the data from Spotify was concatenated to the current Genius dataset. Now the dataset has additional features from Spotify. Some of the feature descriptions are grabbed straight from the Spotify API. The full list of features are as follow:<br>\n",
    "\n",
    "1. **`Artist`** - Song artist<br>\n",
    "DESCRIPTION: Name of artist\n",
    "2. **`Title`** - Song title<br>\n",
    "DESCRIPTION: Name of song\n",
    "3. **`Album`** - Album Title<br>\n",
    "DESCRIPTION: Name of album the song is from.\n",
    "4. **`#_of_views`** - Number of pageviews for the lyric<br>\n",
    "DESCRIPTION: Amount of views the lyric page got on the Genius website.\n",
    "5. **`Release_date`** - Release date of song<br>\n",
    "DESCRIPTION: The date the song was released\n",
    "6. **`#_feat_artists`** - How many featured artists<br>\n",
    "DESCRIPTION: The amount of artists featured on song\n",
    "7. **`Artist_pop`** - Artist Popularity<br>\n",
    "DESCRIPTION: How popular an artist is on Spotify. Range is 0-100.\n",
    "8. **`Genre`** - Genre(s)<br>\n",
    "DESCRIPTION: Genre the artist is considered as, separated by ' / '.\n",
    "9. **`Followers`**<br>\n",
    "DESCRIPTION: The amount of users following an artist on Spotify\n",
    "10. **`Danceability`**<br>\n",
    "DESCRIPTION: Danceability describes how suitable a track is for dancing based on a combination of musical elements including tempo, rhythm stability, beat strength, and overall regularity. A value of 0.0 is least danceable and 1.0 is most danceable. (Gotten from Spotify)\n",
    "11. **`Track_pop`**<br>\n",
    "DESCRIPTION: Track popularity is separate from artist popularity. It's the metric grabbed from Spotify on how popular a track is.\n",
    "12. **`Explicit`**<br>\n",
    "DESCRIPTION: If a song has lyrics on mature themes, or foul language, it is considered explicit. This is a binary value.\n",
    "13. **`Energy`**<br>\n",
    "DESCRIPTION: Energy is a measure from 0.0 to 1.0 and represents a perceptual measure of intensity and activity. Typically, energetic tracks feel fast, loud, and noisy. For example, death metal has high energy, while a Bach prelude scores low on the scale. Perceptual features contributing to this attribute include dynamic range, perceived loudness, timbre, onset rate, and general entropy.\n",
    "14. **`Valence`**<br>\n",
    "DESCRIPTION: A measure from 0.0 to 1.0 describing the musical positiveness conveyed by a track. Tracks with high valence sound more positive (e.g. happy, cheerful, euphoric), while tracks with low valence sound more negative (e.g. sad, depressed, angry).\n",
    "15. **`Duration`** - Duration (in Milliseconds)<br>\n",
    "DESCRIPTION: The length of the song in milliseconds\n",
    "16. **`Loudness`**<br>\n",
    "DESCRIPTION: The overall loudness of a track in decibels (dB). Loudness values are averaged across the entire track and are useful for comparing relative loudness of tracks. Loudness is the quality of a sound that is the primary psychological correlate of physical strength (amplitude). Values typical range between -60 and 0 db.\n",
    "17. **`#_words`** - Total words in lyrics<br>\n",
    "DESCRIPTION: How many words each lyric has.\n",
    "18. **`Lyrics`**<br>\n",
    "DESCRIPTION: The lyrics for the specific song."
   ]
  },
  {
   "cell_type": "code",
   "execution_count": 12,
   "metadata": {},
   "outputs": [],
   "source": [
    "data['Genre'].fillna('hip hop', inplace = True)"
   ]
  },
  {
   "cell_type": "code",
   "execution_count": 14,
   "metadata": {},
   "outputs": [],
   "source": [
    "data.dropna(subset = ['Lyrics'], inplace = True)\n",
    "data.reset_index(drop = True, inplace = True)"
   ]
  },
  {
   "cell_type": "code",
   "execution_count": 15,
   "metadata": {},
   "outputs": [],
   "source": [
    "genres = data['Genre']\n",
    "g_list = list(genres)\n",
    "genre_list = ['country', 'hip hop', 'pop', 'rock', 'punk', 'metal', \n",
    "              'australian'] #Australian reggae is outlier"
   ]
  },
  {
   "cell_type": "code",
   "execution_count": 16,
   "metadata": {},
   "outputs": [],
   "source": [
    "correct_guesses = {}\n",
    "for index, genre in enumerate(g_list):\n",
    "    if type(genre) == float:\n",
    "        continue\n",
    "    else:\n",
    "        if len(genre) == 1:\n",
    "            print(genre)\n",
    "            split_genres = genre\n",
    "        else:\n",
    "            split_genres = genre.split(' / ') \n",
    "    for g in genre_list:\n",
    "        correct = 0\n",
    "        if len(split_genres) == 1 and split_genres[0] == 'rap':\n",
    "            correct_guesses['hip hop'] = correct\n",
    "        else:\n",
    "            for split in split_genres:\n",
    "                if g in split:\n",
    "                    correct += 1\n",
    "            correct_guesses[g] = correct\n",
    "    \n",
    "    correct_genre = max(correct_guesses, key=lambda key: correct_guesses[key])\n",
    "    if correct_genre == 'australian':\n",
    "        g_list[index] = 'pop'\n",
    "    elif correct_genre == 'punk':\n",
    "        g_list[index] = 'rock'\n",
    "    else:\n",
    "        g_list[index] = correct_genre\n",
    "    correct_guesses.clear()"
   ]
  },
  {
   "cell_type": "code",
   "execution_count": 17,
   "metadata": {},
   "outputs": [],
   "source": [
    "data['Genre'] = g_list"
   ]
  },
  {
   "cell_type": "code",
   "execution_count": 18,
   "metadata": {},
   "outputs": [],
   "source": [
    "data['Lyrics'] = data['Lyrics'].astype(str)\n",
    "data['Lyrics'] = data['Lyrics'].str.lower()\n",
    "data['Lyrics'] = data['Lyrics'].str.translate(string.punctuation)\n",
    "data['Lyrics'] = data['Lyrics'].str.replace('+', ' ').replace('\\\\', '').replace('\"', '')"
   ]
  },
  {
   "cell_type": "code",
   "execution_count": 19,
   "metadata": {},
   "outputs": [],
   "source": [
    "from vaderSentiment.vaderSentiment import SentimentIntensityAnalyzer\n",
    "sentiment = []\n",
    "analyzer = SentimentIntensityAnalyzer()\n",
    "for label, content in data['Lyrics'].items():\n",
    "    sentiment.append(analyzer.polarity_scores(content))"
   ]
  },
  {
   "cell_type": "code",
   "execution_count": 20,
   "metadata": {},
   "outputs": [],
   "source": [
    "neg = []\n",
    "neu = []\n",
    "pos = []\n",
    "compound = []"
   ]
  },
  {
   "cell_type": "code",
   "execution_count": 21,
   "metadata": {},
   "outputs": [],
   "source": [
    "for sentiments in sentiment:\n",
    "    neg.append(sentiments['neg'])\n",
    "    neu.append(sentiments['neu'])\n",
    "    pos.append(sentiments['pos'])\n",
    "    compound.append(sentiments['compound'])"
   ]
  },
  {
   "cell_type": "code",
   "execution_count": 22,
   "metadata": {},
   "outputs": [],
   "source": [
    "data['negative_score'] = neg\n",
    "data['neutral_score'] = neu\n",
    "data['positive_score'] = pos\n",
    "data['compound_score'] = compound"
   ]
  },
  {
   "cell_type": "code",
   "execution_count": 23,
   "metadata": {},
   "outputs": [
    {
     "data": {
      "text/plain": [
       "Artist              0\n",
       "Title               0\n",
       "Album              42\n",
       "#_of_views          0\n",
       "Release_date      166\n",
       "#_feat_artists      0\n",
       "Artist_pop          0\n",
       "Genre               0\n",
       "Followers           0\n",
       "Danceability        0\n",
       "Track_pop           0\n",
       "Explicit           16\n",
       "Energy              0\n",
       "Valence             0\n",
       "Duration            0\n",
       "Loudness            0\n",
       "#_words             0\n",
       "Lyrics              0\n",
       "negative_score      0\n",
       "neutral_score       0\n",
       "positive_score      0\n",
       "compound_score      0\n",
       "dtype: int64"
      ]
     },
     "execution_count": 23,
     "metadata": {},
     "output_type": "execute_result"
    }
   ],
   "source": [
    "data.isna().sum()"
   ]
  },
  {
   "cell_type": "code",
   "execution_count": 25,
   "metadata": {},
   "outputs": [
    {
     "data": {
      "text/plain": [
       "pop        880\n",
       "hip hop    700\n",
       "rock       619\n",
       "metal      430\n",
       "country    380\n",
       "Name: Genre, dtype: int64"
      ]
     },
     "execution_count": 25,
     "metadata": {},
     "output_type": "execute_result"
    }
   ],
   "source": [
    "data['Genre'].value_counts()"
   ]
  },
  {
   "cell_type": "markdown",
   "metadata": {},
   "source": [
    "# Classification goes below here\n",
    "We will conduct some experiments on which models to use, and which feature combinations work best with these models."
   ]
  },
  {
   "cell_type": "code",
   "execution_count": null,
   "metadata": {},
   "outputs": [],
   "source": []
  },
  {
   "cell_type": "code",
   "execution_count": null,
   "metadata": {},
   "outputs": [],
   "source": []
  },
  {
   "cell_type": "code",
   "execution_count": null,
   "metadata": {},
   "outputs": [],
   "source": []
  },
  {
   "cell_type": "code",
   "execution_count": null,
   "metadata": {},
   "outputs": [],
   "source": []
  },
  {
   "cell_type": "code",
   "execution_count": null,
   "metadata": {},
   "outputs": [],
   "source": []
  },
  {
   "cell_type": "code",
   "execution_count": null,
   "metadata": {},
   "outputs": [],
   "source": []
  },
  {
   "cell_type": "code",
   "execution_count": null,
   "metadata": {},
   "outputs": [],
   "source": []
  },
  {
   "cell_type": "code",
   "execution_count": null,
   "metadata": {},
   "outputs": [],
   "source": []
  },
  {
   "cell_type": "code",
   "execution_count": null,
   "metadata": {},
   "outputs": [],
   "source": []
  },
  {
   "cell_type": "code",
   "execution_count": null,
   "metadata": {},
   "outputs": [],
   "source": []
  }
 ],
 "metadata": {
  "kernelspec": {
   "display_name": "Python 3",
   "language": "python",
   "name": "python3"
  },
  "language_info": {
   "codemirror_mode": {
    "name": "ipython",
    "version": 3
   },
   "file_extension": ".py",
   "mimetype": "text/x-python",
   "name": "python",
   "nbconvert_exporter": "python",
   "pygments_lexer": "ipython3",
   "version": "3.7.1"
  }
 },
 "nbformat": 4,
 "nbformat_minor": 2
}
