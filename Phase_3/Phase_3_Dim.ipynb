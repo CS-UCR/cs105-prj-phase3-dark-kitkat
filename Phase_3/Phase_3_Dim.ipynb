{
 "cells": [
  {
   "cell_type": "code",
   "execution_count": 1,
   "metadata": {},
   "outputs": [],
   "source": [
    "import pandas as pd\n",
    "import numpy as np\n",
    "import seaborn as sns\n",
    "import matplotlib.pyplot as plt\n",
    "import string\n",
    "import operator\n",
    "import warnings\n",
    "warnings.simplefilter('ignore')\n",
    "%matplotlib inline"
   ]
  },
  {
   "cell_type": "code",
   "execution_count": 2,
   "metadata": {},
   "outputs": [],
   "source": []
  },
  {
   "cell_type": "markdown",
   "metadata": {},
   "source": [
    "# Some info about what our questions are"
   ]
  },
  {
   "cell_type": "markdown",
   "metadata": {},
   "source": [
    "## First we will clean the data"
   ]
  },
  {
   "cell_type": "code",
   "execution_count": 3,
   "metadata": {},
   "outputs": [],
   "source": [
    "columns = ['Artist', 'Title', 'Album', '#_of_views', 'Release_date', '#_feat_artists', \n",
    "           'Artist_pop', 'Genre', 'Followers', 'Danceability', 'Track_pop', 'Explicit', \n",
    "           'Energy', 'Valence', 'Duration', 'Loudness', '#_words', 'Lyrics']\n",
    "data = pd.read_csv('lyricDatasetUpdated.csv', names = columns)"
   ]
  },
  {
   "cell_type": "markdown",
   "metadata": {},
   "source": [
    "Based on the greatest similarity between track titles, the data from Spotify was concatenated to the current Genius dataset. Now the dataset has additional features from Spotify. Some of the feature descriptions are grabbed straight from the Spotify API. The full list of features are as follow:<br>\n",
    "\n",
    "1. **`Artist`** - Song artist<br>\n",
    "DESCRIPTION: Name of artist\n",
    "2. **`Title`** - Song title<br>\n",
    "DESCRIPTION: Name of song\n",
    "3. **`Album`** - Album Title<br>\n",
    "DESCRIPTION: Name of album the song is from.\n",
    "4. **`#_of_views`** - Number of pageviews for the lyric<br>\n",
    "DESCRIPTION: Amount of views the lyric page got on the Genius website.\n",
    "5. **`Release_date`** - Release date of song<br>\n",
    "DESCRIPTION: The date the song was released\n",
    "6. **`#_feat_artists`** - How many featured artists<br>\n",
    "DESCRIPTION: The amount of artists featured on song\n",
    "7. **`Artist_pop`** - Artist Popularity<br>\n",
    "DESCRIPTION: How popular an artist is on Spotify. Range is 0-100.\n",
    "8. **`Genre`** - Genre(s)<br>\n",
    "DESCRIPTION: Genre the artist is considered as, separated by ' / '.\n",
    "9. **`Followers`**<br>\n",
    "DESCRIPTION: The amount of users following an artist on Spotify\n",
    "10. **`Danceability`**<br>\n",
    "DESCRIPTION: Danceability describes how suitable a track is for dancing based on a combination of musical elements including tempo, rhythm stability, beat strength, and overall regularity. A value of 0.0 is least danceable and 1.0 is most danceable. (Gotten from Spotify)\n",
    "11. **`Track_pop`**<br>\n",
    "DESCRIPTION: Track popularity is separate from artist popularity. It's the metric grabbed from Spotify on how popular a track is.\n",
    "12. **`Explicit`**<br>\n",
    "DESCRIPTION: If a song has lyrics on mature themes, or foul language, it is considered explicit. This is a binary value.\n",
    "13. **`Energy`**<br>\n",
    "DESCRIPTION: Energy is a measure from 0.0 to 1.0 and represents a perceptual measure of intensity and activity. Typically, energetic tracks feel fast, loud, and noisy. For example, death metal has high energy, while a Bach prelude scores low on the scale. Perceptual features contributing to this attribute include dynamic range, perceived loudness, timbre, onset rate, and general entropy.\n",
    "14. **`Valence`**<br>\n",
    "DESCRIPTION: A measure from 0.0 to 1.0 describing the musical positiveness conveyed by a track. Tracks with high valence sound more positive (e.g. happy, cheerful, euphoric), while tracks with low valence sound more negative (e.g. sad, depressed, angry).\n",
    "15. **`Duration`** - Duration (in Milliseconds)<br>\n",
    "DESCRIPTION: The length of the song in milliseconds\n",
    "16. **`Loudness`**<br>\n",
    "DESCRIPTION: The overall loudness of a track in decibels (dB). Loudness values are averaged across the entire track and are useful for comparing relative loudness of tracks. Loudness is the quality of a sound that is the primary psychological correlate of physical strength (amplitude). Values typical range between -60 and 0 db.\n",
    "17. **`#_words`** - Total words in lyrics<br>\n",
    "DESCRIPTION: How many words each lyric has.\n",
    "18. **`Lyrics`**<br>\n",
    "DESCRIPTION: The lyrics for the specific song."
   ]
  },
  {
   "cell_type": "code",
   "execution_count": 4,
   "metadata": {},
   "outputs": [],
   "source": [
    "data['Genre'].fillna('hip hop', inplace = True)"
   ]
  },
  {
   "cell_type": "code",
   "execution_count": 5,
   "metadata": {},
   "outputs": [],
   "source": [
    "data.dropna(subset = ['Lyrics'], inplace = True)\n",
    "data.reset_index(drop = True, inplace = True)"
   ]
  },
  {
   "cell_type": "code",
   "execution_count": 6,
   "metadata": {},
   "outputs": [],
   "source": [
    "genres = data['Genre']\n",
    "g_list = list(genres)\n",
    "genre_list = ['country', 'hip hop', 'pop', 'rock', 'punk', 'metal', \n",
    "              'australian'] #Australian reggae is outlier"
   ]
  },
  {
   "cell_type": "code",
   "execution_count": 7,
   "metadata": {},
   "outputs": [],
   "source": [
    "correct_guesses = {}\n",
    "for index, genre in enumerate(g_list):\n",
    "    if type(genre) == float:\n",
    "        continue\n",
    "    else:\n",
    "        if len(genre) == 1:\n",
    "            print(genre)\n",
    "            split_genres = genre\n",
    "        else:\n",
    "            split_genres = genre.split(' / ') \n",
    "    for g in genre_list:\n",
    "        correct = 0\n",
    "        if len(split_genres) == 1 and split_genres[0] == 'rap':\n",
    "            correct_guesses['hip hop'] = correct\n",
    "        else:\n",
    "            for split in split_genres:\n",
    "                if g in split:\n",
    "                    correct += 1\n",
    "            correct_guesses[g] = correct\n",
    "    \n",
    "    correct_genre = max(correct_guesses, key=lambda key: correct_guesses[key])\n",
    "    if correct_genre == 'australian':\n",
    "        g_list[index] = 'pop'\n",
    "    elif correct_genre == 'punk':\n",
    "        g_list[index] = 'rock'\n",
    "    else:\n",
    "        g_list[index] = correct_genre\n",
    "    correct_guesses.clear()"
   ]
  },
  {
   "cell_type": "code",
   "execution_count": 8,
   "metadata": {},
   "outputs": [],
   "source": [
    "data['Genre'] = g_list"
   ]
  },
  {
   "cell_type": "code",
   "execution_count": 9,
   "metadata": {},
   "outputs": [],
   "source": [
    "data['Lyrics'] = data['Lyrics'].astype(str)\n",
    "data['Lyrics'] = data['Lyrics'].str.lower()\n",
    "data['Lyrics'] = data['Lyrics'].str.translate(string.punctuation)\n",
    "data['Lyrics'] = data['Lyrics'].str.replace('+', ' ').replace('\\\\', '').replace('\"', '')"
   ]
  },
  {
   "cell_type": "code",
   "execution_count": 10,
   "metadata": {},
   "outputs": [],
   "source": [
    "from vaderSentiment.vaderSentiment import SentimentIntensityAnalyzer\n",
    "sentiment = []\n",
    "analyzer = SentimentIntensityAnalyzer()\n",
    "for label, content in data['Lyrics'].items():\n",
    "    sentiment.append(analyzer.polarity_scores(content))"
   ]
  },
  {
   "cell_type": "code",
   "execution_count": 11,
   "metadata": {},
   "outputs": [],
   "source": [
    "neg = []\n",
    "neu = []\n",
    "pos = []\n",
    "compound = []"
   ]
  },
  {
   "cell_type": "code",
   "execution_count": 12,
   "metadata": {},
   "outputs": [],
   "source": [
    "for sentiments in sentiment:\n",
    "    neg.append(sentiments['neg'])\n",
    "    neu.append(sentiments['neu'])\n",
    "    pos.append(sentiments['pos'])\n",
    "    compound.append(sentiments['compound'])"
   ]
  },
  {
   "cell_type": "code",
   "execution_count": 13,
   "metadata": {},
   "outputs": [],
   "source": [
    "data['negative_score'] = neg\n",
    "data['neutral_score'] = neu\n",
    "data['positive_score'] = pos\n",
    "data['compound_score'] = compound"
   ]
  },
  {
   "cell_type": "code",
   "execution_count": null,
   "metadata": {},
   "outputs": [],
   "source": []
  },
  {
   "cell_type": "code",
   "execution_count": null,
   "metadata": {},
   "outputs": [],
   "source": []
  },
  {
   "cell_type": "code",
   "execution_count": null,
   "metadata": {},
   "outputs": [],
   "source": []
  },
  {
   "cell_type": "markdown",
   "metadata": {},
   "source": [
    "# Classification goes below here\n",
    "We will conduct some experiments on which models to use, and which feature combinations work best with these models."
   ]
  },
  {
   "cell_type": "markdown",
   "metadata": {},
   "source": [
    "# Predict Popularity"
   ]
  },
  {
   "cell_type": "code",
   "execution_count": 30,
   "metadata": {},
   "outputs": [
    {
     "data": {
      "text/html": [
       "<div>\n",
       "<style scoped>\n",
       "    .dataframe tbody tr th:only-of-type {\n",
       "        vertical-align: middle;\n",
       "    }\n",
       "\n",
       "    .dataframe tbody tr th {\n",
       "        vertical-align: top;\n",
       "    }\n",
       "\n",
       "    .dataframe thead th {\n",
       "        text-align: right;\n",
       "    }\n",
       "</style>\n",
       "<table border=\"1\" class=\"dataframe\">\n",
       "  <thead>\n",
       "    <tr style=\"text-align: right;\">\n",
       "      <th></th>\n",
       "      <th>Artist</th>\n",
       "      <th>Title</th>\n",
       "      <th>Album</th>\n",
       "      <th>#_of_views</th>\n",
       "      <th>Release_date</th>\n",
       "      <th>#_feat_artists</th>\n",
       "      <th>Artist_pop</th>\n",
       "      <th>Genre</th>\n",
       "      <th>Followers</th>\n",
       "      <th>Danceability</th>\n",
       "      <th>Track_pop</th>\n",
       "      <th>Explicit</th>\n",
       "      <th>Energy</th>\n",
       "      <th>Valence</th>\n",
       "      <th>Duration</th>\n",
       "      <th>Loudness</th>\n",
       "      <th>#_words</th>\n",
       "      <th>Lyrics</th>\n",
       "    </tr>\n",
       "  </thead>\n",
       "  <tbody>\n",
       "    <tr>\n",
       "      <th>0</th>\n",
       "      <td>Miranda Lambert</td>\n",
       "      <td>Vice</td>\n",
       "      <td>The Weight of These Wings</td>\n",
       "      <td>42261</td>\n",
       "      <td>2016-07-18</td>\n",
       "      <td>0</td>\n",
       "      <td>72</td>\n",
       "      <td>country</td>\n",
       "      <td>2205152</td>\n",
       "      <td>0.568</td>\n",
       "      <td>57</td>\n",
       "      <td>False</td>\n",
       "      <td>0.562</td>\n",
       "      <td>0.247</td>\n",
       "      <td>240280</td>\n",
       "      <td>-7.775</td>\n",
       "      <td>233</td>\n",
       "      <td>sting of the needle dropping on a vinyl neon s...</td>\n",
       "    </tr>\n",
       "  </tbody>\n",
       "</table>\n",
       "</div>"
      ],
      "text/plain": [
       "            Artist Title                      Album  #_of_views Release_date  \\\n",
       "0  Miranda Lambert  Vice  The Weight of These Wings       42261   2016-07-18   \n",
       "\n",
       "   #_feat_artists  Artist_pop    Genre  Followers  Danceability  Track_pop  \\\n",
       "0               0          72  country    2205152         0.568         57   \n",
       "\n",
       "  Explicit  Energy  Valence  Duration  Loudness  #_words  \\\n",
       "0    False   0.562    0.247    240280    -7.775      233   \n",
       "\n",
       "                                              Lyrics  \n",
       "0  sting of the needle dropping on a vinyl neon s...  "
      ]
     },
     "execution_count": 30,
     "metadata": {},
     "output_type": "execute_result"
    }
   ],
   "source": [
    "data.head(1)"
   ]
  },
  {
   "cell_type": "code",
   "execution_count": 51,
   "metadata": {},
   "outputs": [],
   "source": [
    "data_pop = data.loc[:,'Danceability':'Loudness']"
   ]
  },
  {
   "cell_type": "code",
   "execution_count": 52,
   "metadata": {},
   "outputs": [],
   "source": [
    "data_pop['Genre'] = data['Genre']"
   ]
  },
  {
   "cell_type": "code",
   "execution_count": 53,
   "metadata": {},
   "outputs": [
    {
     "data": {
      "text/plain": [
       "Danceability     0\n",
       "Track_pop        0\n",
       "Explicit        16\n",
       "Energy           0\n",
       "Valence          0\n",
       "Duration         0\n",
       "Loudness         0\n",
       "Genre            0\n",
       "dtype: int64"
      ]
     },
     "execution_count": 53,
     "metadata": {},
     "output_type": "execute_result"
    }
   ],
   "source": [
    "data_pop.isnull().sum()"
   ]
  },
  {
   "cell_type": "code",
   "execution_count": 54,
   "metadata": {},
   "outputs": [],
   "source": [
    "data_pop.dropna(subset = ['Explicit'], inplace = True)\n",
    "data_pop.reset_index(drop = True, inplace = True)"
   ]
  },
  {
   "cell_type": "code",
   "execution_count": 55,
   "metadata": {},
   "outputs": [],
   "source": [
    "data_pop['Explicit'] = data_pop['Explicit'].astype(int)"
   ]
  },
  {
   "cell_type": "code",
   "execution_count": null,
   "metadata": {},
   "outputs": [],
   "source": []
  },
  {
   "cell_type": "code",
   "execution_count": 56,
   "metadata": {},
   "outputs": [],
   "source": [
    "data_pop = pd.concat([data_pop, pd.get_dummies(data_pop['Genre'], \n",
    "                    dummy_na=True)], axis = 1).drop(['Genre'], axis = 1)"
   ]
  },
  {
   "cell_type": "code",
   "execution_count": 57,
   "metadata": {},
   "outputs": [
    {
     "data": {
      "text/html": [
       "<div>\n",
       "<style scoped>\n",
       "    .dataframe tbody tr th:only-of-type {\n",
       "        vertical-align: middle;\n",
       "    }\n",
       "\n",
       "    .dataframe tbody tr th {\n",
       "        vertical-align: top;\n",
       "    }\n",
       "\n",
       "    .dataframe thead th {\n",
       "        text-align: right;\n",
       "    }\n",
       "</style>\n",
       "<table border=\"1\" class=\"dataframe\">\n",
       "  <thead>\n",
       "    <tr style=\"text-align: right;\">\n",
       "      <th></th>\n",
       "      <th>Danceability</th>\n",
       "      <th>Track_pop</th>\n",
       "      <th>Explicit</th>\n",
       "      <th>Energy</th>\n",
       "      <th>Valence</th>\n",
       "      <th>Duration</th>\n",
       "      <th>Loudness</th>\n",
       "      <th>country</th>\n",
       "      <th>hip hop</th>\n",
       "      <th>metal</th>\n",
       "      <th>pop</th>\n",
       "      <th>rock</th>\n",
       "      <th>NaN</th>\n",
       "    </tr>\n",
       "  </thead>\n",
       "  <tbody>\n",
       "    <tr>\n",
       "      <th>0</th>\n",
       "      <td>0.568</td>\n",
       "      <td>57</td>\n",
       "      <td>0</td>\n",
       "      <td>0.562</td>\n",
       "      <td>0.247</td>\n",
       "      <td>240280</td>\n",
       "      <td>-7.775</td>\n",
       "      <td>1</td>\n",
       "      <td>0</td>\n",
       "      <td>0</td>\n",
       "      <td>0</td>\n",
       "      <td>0</td>\n",
       "      <td>0</td>\n",
       "    </tr>\n",
       "  </tbody>\n",
       "</table>\n",
       "</div>"
      ],
      "text/plain": [
       "   Danceability  Track_pop  Explicit  Energy  Valence  Duration  Loudness  \\\n",
       "0         0.568         57         0   0.562    0.247    240280    -7.775   \n",
       "\n",
       "   country  hip hop  metal  pop  rock  NaN  \n",
       "0        1        0      0    0     0    0  "
      ]
     },
     "execution_count": 57,
     "metadata": {},
     "output_type": "execute_result"
    }
   ],
   "source": [
    "data_pop.head(1)"
   ]
  },
  {
   "cell_type": "code",
   "execution_count": 58,
   "metadata": {},
   "outputs": [],
   "source": [
    "from sklearn.model_selection import cross_val_score\n",
    "from sklearn.metrics import mean_squared_error\n",
    "from sklearn.preprocessing import StandardScaler\n",
    "from sklearn.preprocessing import OneHotEncoder\n",
    "from sklearn.linear_model import SGDRegressor\n",
    "from sklearn.pipeline import make_pipeline"
   ]
  },
  {
   "cell_type": "code",
   "execution_count": 59,
   "metadata": {},
   "outputs": [
    {
     "data": {
      "text/plain": [
       "array([-0.06318534,  0.05120728,  0.0940029 ,  0.07482506,  0.06782461])"
      ]
     },
     "execution_count": 59,
     "metadata": {},
     "output_type": "execute_result"
    }
   ],
   "source": [
    "pipeline = make_pipeline(StandardScaler(), SGDRegressor())\n",
    "X = data_pop.drop(['Track_pop'], axis = 1)\n",
    "y = data_pop['Track_pop']\n",
    "\n",
    "#pipeline.fit(X = X, y = y)\n",
    "    \n",
    "scores = cross_val_score(pipeline, X = X, y = y, cv = 5)\n",
    "scores"
   ]
  },
  {
   "cell_type": "code",
   "execution_count": null,
   "metadata": {},
   "outputs": [],
   "source": []
  }
 ],
 "metadata": {
  "kernelspec": {
   "display_name": "Python 3",
   "language": "python",
   "name": "python3"
  },
  "language_info": {
   "codemirror_mode": {
    "name": "ipython",
    "version": 3
   },
   "file_extension": ".py",
   "mimetype": "text/x-python",
   "name": "python",
   "nbconvert_exporter": "python",
   "pygments_lexer": "ipython3",
   "version": "3.7.1"
  }
 },
 "nbformat": 4,
 "nbformat_minor": 4
}
