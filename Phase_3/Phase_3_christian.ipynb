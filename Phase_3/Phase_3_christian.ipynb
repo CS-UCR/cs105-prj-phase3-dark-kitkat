{
 "cells": [
  {
   "cell_type": "code",
   "execution_count": 1,
   "metadata": {},
   "outputs": [],
   "source": [
    "import pandas as pd\n",
    "import numpy as np\n",
    "import seaborn as sns\n",
    "import matplotlib.pyplot as plt\n",
    "import string\n",
    "import operator\n",
    "import warnings\n",
    "warnings.simplefilter('ignore')\n",
    "%matplotlib inline"
   ]
  },
  {
   "cell_type": "markdown",
   "metadata": {},
   "source": [
    "# Some info about what our questions are"
   ]
  },
  {
   "cell_type": "markdown",
   "metadata": {},
   "source": [
    "## First we will clean the data"
   ]
  },
  {
   "cell_type": "code",
   "execution_count": 2,
   "metadata": {},
   "outputs": [],
   "source": [
    "columns = ['Artist', 'Title', 'Album', '#_of_views', 'Release_date', '#_feat_artists', \n",
    "           'Artist_pop', 'Genre', 'Followers', 'Danceability', 'Track_pop', 'Explicit', \n",
    "           'Energy', 'Valence', 'Duration', 'Loudness', '#_words', 'Lyrics']\n",
    "data = pd.read_csv('lyricDatasetUpdated.csv', names = columns)"
   ]
  },
  {
   "cell_type": "markdown",
   "metadata": {},
   "source": [
    "Based on the greatest similarity between track titles, the data from Spotify was concatenated to the current Genius dataset. Now the dataset has additional features from Spotify. Some of the feature descriptions are grabbed straight from the Spotify API. The full list of features are as follow:<br>\n",
    "\n",
    "1. **`Artist`** - Song artist<br>\n",
    "DESCRIPTION: Name of artist\n",
    "2. **`Title`** - Song title<br>\n",
    "DESCRIPTION: Name of song\n",
    "3. **`Album`** - Album Title<br>\n",
    "DESCRIPTION: Name of album the song is from.\n",
    "4. **`#_of_views`** - Number of pageviews for the lyric<br>\n",
    "DESCRIPTION: Amount of views the lyric page got on the Genius website.\n",
    "5. **`Release_date`** - Release date of song<br>\n",
    "DESCRIPTION: The date the song was released\n",
    "6. **`#_feat_artists`** - How many featured artists<br>\n",
    "DESCRIPTION: The amount of artists featured on song\n",
    "7. **`Artist_pop`** - Artist Popularity<br>\n",
    "DESCRIPTION: How popular an artist is on Spotify. Range is 0-100.\n",
    "8. **`Genre`** - Genre(s)<br>\n",
    "DESCRIPTION: Genre the artist is considered as, separated by ' / '.\n",
    "9. **`Followers`**<br>\n",
    "DESCRIPTION: The amount of users following an artist on Spotify\n",
    "10. **`Danceability`**<br>\n",
    "DESCRIPTION: Danceability describes how suitable a track is for dancing based on a combination of musical elements including tempo, rhythm stability, beat strength, and overall regularity. A value of 0.0 is least danceable and 1.0 is most danceable. (Gotten from Spotify)\n",
    "11. **`Track_pop`**<br>\n",
    "DESCRIPTION: Track popularity is separate from artist popularity. It's the metric grabbed from Spotify on how popular a track is.\n",
    "12. **`Explicit`**<br>\n",
    "DESCRIPTION: If a song has lyrics on mature themes, or foul language, it is considered explicit. This is a binary value.\n",
    "13. **`Energy`**<br>\n",
    "DESCRIPTION: Energy is a measure from 0.0 to 1.0 and represents a perceptual measure of intensity and activity. Typically, energetic tracks feel fast, loud, and noisy. For example, death metal has high energy, while a Bach prelude scores low on the scale. Perceptual features contributing to this attribute include dynamic range, perceived loudness, timbre, onset rate, and general entropy.\n",
    "14. **`Valence`**<br>\n",
    "DESCRIPTION: A measure from 0.0 to 1.0 describing the musical positiveness conveyed by a track. Tracks with high valence sound more positive (e.g. happy, cheerful, euphoric), while tracks with low valence sound more negative (e.g. sad, depressed, angry).\n",
    "15. **`Duration`** - Duration (in Milliseconds)<br>\n",
    "DESCRIPTION: The length of the song in milliseconds\n",
    "16. **`Loudness`**<br>\n",
    "DESCRIPTION: The overall loudness of a track in decibels (dB). Loudness values are averaged across the entire track and are useful for comparing relative loudness of tracks. Loudness is the quality of a sound that is the primary psychological correlate of physical strength (amplitude). Values typical range between -60 and 0 db.\n",
    "17. **`#_words`** - Total words in lyrics<br>\n",
    "DESCRIPTION: How many words each lyric has.\n",
    "18. **`Lyrics`**<br>\n",
    "DESCRIPTION: The lyrics for the specific song."
   ]
  },
  {
   "cell_type": "code",
   "execution_count": 3,
   "metadata": {},
   "outputs": [],
   "source": [
    "data['Genre'].fillna('hip hop', inplace = True)"
   ]
  },
  {
   "cell_type": "code",
   "execution_count": 4,
   "metadata": {},
   "outputs": [],
   "source": [
    "data.dropna(subset = ['Lyrics'], inplace = True)\n",
    "data.reset_index(drop = True, inplace = True)"
   ]
  },
  {
   "cell_type": "code",
   "execution_count": 5,
   "metadata": {},
   "outputs": [],
   "source": [
    "genres = data['Genre']\n",
    "g_list = list(genres)\n",
    "genre_list = ['country', 'hip hop', 'pop', 'rock', 'punk', 'metal', \n",
    "              'australian'] #Australian reggae is outlier"
   ]
  },
  {
   "cell_type": "code",
   "execution_count": 6,
   "metadata": {},
   "outputs": [],
   "source": [
    "correct_guesses = {}\n",
    "for index, genre in enumerate(g_list):\n",
    "    if type(genre) == float:\n",
    "        continue\n",
    "    else:\n",
    "        if len(genre) == 1:\n",
    "            print(genre)\n",
    "            split_genres = genre\n",
    "        else:\n",
    "            split_genres = genre.split(' / ') \n",
    "    for g in genre_list:\n",
    "        correct = 0\n",
    "        if len(split_genres) == 1 and split_genres[0] == 'rap':\n",
    "            correct_guesses['hip hop'] = correct\n",
    "        else:\n",
    "            for split in split_genres:\n",
    "                if g in split:\n",
    "                    correct += 1\n",
    "            correct_guesses[g] = correct\n",
    "    \n",
    "    correct_genre = max(correct_guesses, key=lambda key: correct_guesses[key])\n",
    "    if correct_genre == 'australian':\n",
    "        g_list[index] = 'pop'\n",
    "    elif correct_genre == 'punk':\n",
    "        g_list[index] = 'rock'\n",
    "    else:\n",
    "        g_list[index] = correct_genre\n",
    "    correct_guesses.clear()"
   ]
  },
  {
   "cell_type": "code",
   "execution_count": 7,
   "metadata": {},
   "outputs": [],
   "source": [
    "data['Genre'] = g_list"
   ]
  },
  {
   "cell_type": "code",
   "execution_count": 8,
   "metadata": {},
   "outputs": [],
   "source": [
    "data['Lyrics'] = data['Lyrics'].astype(str)\n",
    "data['Lyrics'] = data['Lyrics'].str.lower()\n",
    "data['Lyrics'] = data['Lyrics'].str.translate(string.punctuation)\n",
    "data['Lyrics'] = data['Lyrics'].str.replace('+', ' ').replace('\\\\', '').replace('\"', '')"
   ]
  },
  {
   "cell_type": "code",
   "execution_count": 9,
   "metadata": {},
   "outputs": [],
   "source": [
    "from vaderSentiment.vaderSentiment import SentimentIntensityAnalyzer\n",
    "sentiment = []\n",
    "analyzer = SentimentIntensityAnalyzer()\n",
    "for label, content in data['Lyrics'].items():\n",
    "    sentiment.append(analyzer.polarity_scores(content))"
   ]
  },
  {
   "cell_type": "code",
   "execution_count": 10,
   "metadata": {},
   "outputs": [],
   "source": [
    "neg = []\n",
    "neu = []\n",
    "pos = []\n",
    "compound = []"
   ]
  },
  {
   "cell_type": "code",
   "execution_count": 11,
   "metadata": {},
   "outputs": [],
   "source": [
    "for sentiments in sentiment:\n",
    "    neg.append(sentiments['neg'])\n",
    "    neu.append(sentiments['neu'])\n",
    "    pos.append(sentiments['pos'])\n",
    "    compound.append(sentiments['compound'])"
   ]
  },
  {
   "cell_type": "code",
   "execution_count": 12,
   "metadata": {},
   "outputs": [],
   "source": [
    "data['negative_score'] = neg\n",
    "data['neutral_score'] = neu\n",
    "data['positive_score'] = pos\n",
    "data['compound_score'] = compound"
   ]
  },
  {
   "cell_type": "markdown",
   "metadata": {},
   "source": [
    "# Classification goes below here\n",
    "We will conduct some experiments on which models to use, and which feature combinations work best with these models."
   ]
  },
  {
   "cell_type": "markdown",
   "metadata": {},
   "source": [
    "# Predict Popularity"
   ]
  },
  {
   "cell_type": "code",
   "execution_count": 13,
   "metadata": {},
   "outputs": [
    {
     "data": {
      "text/html": [
       "<div>\n",
       "<style scoped>\n",
       "    .dataframe tbody tr th:only-of-type {\n",
       "        vertical-align: middle;\n",
       "    }\n",
       "\n",
       "    .dataframe tbody tr th {\n",
       "        vertical-align: top;\n",
       "    }\n",
       "\n",
       "    .dataframe thead th {\n",
       "        text-align: right;\n",
       "    }\n",
       "</style>\n",
       "<table border=\"1\" class=\"dataframe\">\n",
       "  <thead>\n",
       "    <tr style=\"text-align: right;\">\n",
       "      <th></th>\n",
       "      <th>Artist</th>\n",
       "      <th>Title</th>\n",
       "      <th>Album</th>\n",
       "      <th>#_of_views</th>\n",
       "      <th>Release_date</th>\n",
       "      <th>#_feat_artists</th>\n",
       "      <th>Artist_pop</th>\n",
       "      <th>Genre</th>\n",
       "      <th>Followers</th>\n",
       "      <th>Danceability</th>\n",
       "      <th>...</th>\n",
       "      <th>Energy</th>\n",
       "      <th>Valence</th>\n",
       "      <th>Duration</th>\n",
       "      <th>Loudness</th>\n",
       "      <th>#_words</th>\n",
       "      <th>Lyrics</th>\n",
       "      <th>negative_score</th>\n",
       "      <th>neutral_score</th>\n",
       "      <th>positive_score</th>\n",
       "      <th>compound_score</th>\n",
       "    </tr>\n",
       "  </thead>\n",
       "  <tbody>\n",
       "    <tr>\n",
       "      <th>0</th>\n",
       "      <td>Miranda Lambert</td>\n",
       "      <td>Vice</td>\n",
       "      <td>The Weight of These Wings</td>\n",
       "      <td>42261</td>\n",
       "      <td>2016-07-18</td>\n",
       "      <td>0</td>\n",
       "      <td>72</td>\n",
       "      <td>country</td>\n",
       "      <td>2205152</td>\n",
       "      <td>0.568</td>\n",
       "      <td>...</td>\n",
       "      <td>0.562</td>\n",
       "      <td>0.247</td>\n",
       "      <td>240280</td>\n",
       "      <td>-7.775</td>\n",
       "      <td>233</td>\n",
       "      <td>sting of the needle dropping on a vinyl neon s...</td>\n",
       "      <td>0.034</td>\n",
       "      <td>0.868</td>\n",
       "      <td>0.098</td>\n",
       "      <td>0.9311</td>\n",
       "    </tr>\n",
       "  </tbody>\n",
       "</table>\n",
       "<p>1 rows × 22 columns</p>\n",
       "</div>"
      ],
      "text/plain": [
       "            Artist Title                      Album  #_of_views Release_date  \\\n",
       "0  Miranda Lambert  Vice  The Weight of These Wings       42261   2016-07-18   \n",
       "\n",
       "   #_feat_artists  Artist_pop    Genre  Followers  Danceability  ...  Energy  \\\n",
       "0               0          72  country    2205152         0.568  ...   0.562   \n",
       "\n",
       "  Valence  Duration  Loudness  #_words  \\\n",
       "0   0.247    240280    -7.775      233   \n",
       "\n",
       "                                              Lyrics  negative_score  \\\n",
       "0  sting of the needle dropping on a vinyl neon s...           0.034   \n",
       "\n",
       "  neutral_score  positive_score  compound_score  \n",
       "0         0.868           0.098          0.9311  \n",
       "\n",
       "[1 rows x 22 columns]"
      ]
     },
     "execution_count": 13,
     "metadata": {},
     "output_type": "execute_result"
    }
   ],
   "source": [
    "data.head(1)"
   ]
  },
  {
   "cell_type": "code",
   "execution_count": 14,
   "metadata": {},
   "outputs": [],
   "source": [
    "data_pop = data.loc[:,'Danceability':'Loudness']"
   ]
  },
  {
   "cell_type": "code",
   "execution_count": 15,
   "metadata": {},
   "outputs": [],
   "source": [
    "data_pop['Genre'] = data['Genre']"
   ]
  },
  {
   "cell_type": "code",
   "execution_count": 16,
   "metadata": {},
   "outputs": [
    {
     "data": {
      "text/plain": [
       "Danceability     0\n",
       "Track_pop        0\n",
       "Explicit        16\n",
       "Energy           0\n",
       "Valence          0\n",
       "Duration         0\n",
       "Loudness         0\n",
       "Genre            0\n",
       "dtype: int64"
      ]
     },
     "execution_count": 16,
     "metadata": {},
     "output_type": "execute_result"
    }
   ],
   "source": [
    "data_pop.isnull().sum()"
   ]
  },
  {
   "cell_type": "code",
   "execution_count": 17,
   "metadata": {},
   "outputs": [],
   "source": [
    "data_pop.dropna(subset = ['Explicit'], inplace = True)\n",
    "data_pop.reset_index(drop = True, inplace = True)"
   ]
  },
  {
   "cell_type": "code",
   "execution_count": 18,
   "metadata": {},
   "outputs": [],
   "source": [
    "data_pop['Explicit'] = data_pop['Explicit'].astype(int)"
   ]
  },
  {
   "cell_type": "code",
   "execution_count": 19,
   "metadata": {},
   "outputs": [],
   "source": [
    "data_pop = pd.concat([data_pop, pd.get_dummies(data_pop['Genre'], \n",
    "                    dummy_na=True)], axis = 1).drop(['Genre'], axis = 1)"
   ]
  },
  {
   "cell_type": "code",
   "execution_count": 20,
   "metadata": {},
   "outputs": [
    {
     "data": {
      "text/html": [
       "<div>\n",
       "<style scoped>\n",
       "    .dataframe tbody tr th:only-of-type {\n",
       "        vertical-align: middle;\n",
       "    }\n",
       "\n",
       "    .dataframe tbody tr th {\n",
       "        vertical-align: top;\n",
       "    }\n",
       "\n",
       "    .dataframe thead th {\n",
       "        text-align: right;\n",
       "    }\n",
       "</style>\n",
       "<table border=\"1\" class=\"dataframe\">\n",
       "  <thead>\n",
       "    <tr style=\"text-align: right;\">\n",
       "      <th></th>\n",
       "      <th>Danceability</th>\n",
       "      <th>Track_pop</th>\n",
       "      <th>Explicit</th>\n",
       "      <th>Energy</th>\n",
       "      <th>Valence</th>\n",
       "      <th>Duration</th>\n",
       "      <th>Loudness</th>\n",
       "      <th>country</th>\n",
       "      <th>hip hop</th>\n",
       "      <th>metal</th>\n",
       "      <th>pop</th>\n",
       "      <th>rock</th>\n",
       "      <th>NaN</th>\n",
       "    </tr>\n",
       "  </thead>\n",
       "  <tbody>\n",
       "    <tr>\n",
       "      <th>0</th>\n",
       "      <td>0.568</td>\n",
       "      <td>57</td>\n",
       "      <td>0</td>\n",
       "      <td>0.562</td>\n",
       "      <td>0.247</td>\n",
       "      <td>240280</td>\n",
       "      <td>-7.775</td>\n",
       "      <td>1</td>\n",
       "      <td>0</td>\n",
       "      <td>0</td>\n",
       "      <td>0</td>\n",
       "      <td>0</td>\n",
       "      <td>0</td>\n",
       "    </tr>\n",
       "  </tbody>\n",
       "</table>\n",
       "</div>"
      ],
      "text/plain": [
       "   Danceability  Track_pop  Explicit  Energy  Valence  Duration  Loudness  \\\n",
       "0         0.568         57         0   0.562    0.247    240280    -7.775   \n",
       "\n",
       "   country  hip hop  metal  pop  rock  NaN  \n",
       "0        1        0      0    0     0    0  "
      ]
     },
     "execution_count": 20,
     "metadata": {},
     "output_type": "execute_result"
    }
   ],
   "source": [
    "data_pop.head(1)"
   ]
  },
  {
   "cell_type": "code",
   "execution_count": 21,
   "metadata": {},
   "outputs": [],
   "source": [
    "from sklearn.datasets import load_boston\n",
    "import statsmodels.api as sm\n",
    "from sklearn.model_selection import train_test_split\n",
    "from sklearn.linear_model import LinearRegression\n",
    "from sklearn.linear_model import LogisticRegression\n",
    "from sklearn.feature_selection import RFE\n",
    "from sklearn.linear_model import RidgeCV, LassoCV, Ridge, Lasso\n",
    "from sklearn.preprocessing import StandardScaler\n",
    "from sklearn.pipeline import make_pipeline\n",
    "from sklearn.metrics import mean_squared_error\n",
    "from sklearn.ensemble import RandomForestClassifier\n",
    "from sklearn.model_selection import StratifiedKFold\n",
    "from sklearn.feature_selection import RFECV\n",
    "from sklearn.metrics import confusion_matrix \n",
    "from sklearn.model_selection import train_test_split \n",
    "from sklearn.tree import DecisionTreeClassifier\n",
    "from sklearn.linear_model import SGDRegressor\n",
    "from sklearn.model_selection import cross_val_score"
   ]
  },
  {
   "cell_type": "code",
   "execution_count": 22,
   "metadata": {},
   "outputs": [],
   "source": [
    "from sklearn.neighbors import KNeighborsClassifier\n",
    "from sklearn.ensemble import RandomForestClassifier\n",
    "from sklearn.neural_network import MLPClassifier\n",
    "from sklearn.svm import SVC\n",
    "import sklearn.metrics as metrics\n",
    "import itertools    \n",
    "import numpy as np"
   ]
  },
  {
   "cell_type": "code",
   "execution_count": 23,
   "metadata": {},
   "outputs": [
    {
     "data": {
      "text/plain": [
       "array([-0.04957238,  0.05014518,  0.10712958,  0.06261133,  0.06319604])"
      ]
     },
     "execution_count": 23,
     "metadata": {},
     "output_type": "execute_result"
    }
   ],
   "source": [
    "pipeline = make_pipeline(StandardScaler(), SGDRegressor())\n",
    "X = data_pop.drop(['Track_pop'], axis = 1)\n",
    "y = data_pop['Track_pop']\n",
    "\n",
    "pipeline.fit(X = X, y = y)\n",
    "    \n",
    "scores = cross_val_score(pipeline, X = X, y = y, cv = 5)\n",
    "scores"
   ]
  },
  {
   "cell_type": "code",
   "execution_count": 24,
   "metadata": {
    "scrolled": false
   },
   "outputs": [
    {
     "data": {
      "text/plain": [
       "Artist             object\n",
       "Title              object\n",
       "Album              object\n",
       "#_of_views          int64\n",
       "Release_date       object\n",
       "#_feat_artists      int64\n",
       "Artist_pop          int64\n",
       "Genre              object\n",
       "Followers           int64\n",
       "Danceability      float64\n",
       "Track_pop           int64\n",
       "Explicit           object\n",
       "Energy            float64\n",
       "Valence           float64\n",
       "Duration            int64\n",
       "Loudness          float64\n",
       "#_words             int64\n",
       "Lyrics             object\n",
       "negative_score    float64\n",
       "neutral_score     float64\n",
       "positive_score    float64\n",
       "compound_score    float64\n",
       "dtype: object"
      ]
     },
     "execution_count": 24,
     "metadata": {},
     "output_type": "execute_result"
    }
   ],
   "source": [
    "data.dtypes"
   ]
  },
  {
   "cell_type": "code",
   "execution_count": 25,
   "metadata": {},
   "outputs": [],
   "source": [
    "## Dim above and Chris below"
   ]
  },
  {
   "cell_type": "code",
   "execution_count": 26,
   "metadata": {},
   "outputs": [],
   "source": [
    "X = data.drop(['Genre', 'Artist', 'Title', 'Album', 'Release_date', '#_feat_artists', 'Explicit', 'Lyrics'], axis = 1)\n",
    "y = data['Genre']"
   ]
  },
  {
   "cell_type": "code",
   "execution_count": 27,
   "metadata": {},
   "outputs": [],
   "source": [
    "X_train, X_test, y_train, y_test = train_test_split(X,y, random_state = 0)\n",
    "\n",
    "pipeline = make_pipeline(StandardScaler(), DecisionTreeClassifier(max_depth = 5))\n",
    "dtree_model = pipeline.fit(X_train, y_train) \n",
    "dtree_predictions = dtree_model.predict(X_test) \n",
    "cm = confusion_matrix(y_test, dtree_predictions)"
   ]
  },
  {
   "cell_type": "code",
   "execution_count": 28,
   "metadata": {},
   "outputs": [],
   "source": [
    "#for index, record in enumerate(X_test.iterrows()):\n",
    "#    print('Predicted genre is:', dtree_predictions[index], '\\nReal genre is:', data.iloc[record[0]]['Genre'], '\\n')"
   ]
  },
  {
   "cell_type": "code",
   "execution_count": 32,
   "metadata": {},
   "outputs": [
    {
     "data": {
      "text/plain": [
       "['country', 'hip hop', 'pop', 'rock', 'punk', 'metal', 'australian']"
      ]
     },
     "execution_count": 32,
     "metadata": {},
     "output_type": "execute_result"
    }
   ],
   "source": [
    "## Below is mine \n",
    "# Source : https://github.com/alikaratana/Music-Genre-Classification/blob/master/GenreClassificationTutorial.ipynb\n",
    "genre_list"
   ]
  },
  {
   "cell_type": "code",
   "execution_count": 35,
   "metadata": {},
   "outputs": [],
   "source": [
    "def confusion_matrix(cm, classes,title='Confusion matrix',cmap=plt.cm.Blues):\n",
    "   \n",
    "    plt.imshow(cm, interpolation='nearest', cmap=cmap)\n",
    "    plt.title(title)\n",
    "    plt.colorbar()\n",
    "    tick_marks = np.arange(len(classes))\n",
    "    plt.xticks(tick_marks, classes, rotation=45)\n",
    "    plt.yticks(tick_marks, classes)\n",
    "\n",
    "    thresh = cm.max() / 2.\n",
    "    for i, j in itertools.product(range(cm.shape[0]), range(cm.shape[1])):\n",
    "        plt.text(j, i, cm[i, j],horizontalalignment=\"center\",color=\"white\" if cm[i, j] > thresh else \"black\")\n",
    "\n",
    "    plt.tight_layout()\n",
    "    plt.ylabel('True label')\n",
    "    plt.xlabel('Predicted label')\n",
    "\n",
    "\n",
    "def plot_cnf(model,dataset_x,dataset_y,the_y):\n",
    "    true_y=dataset_y\n",
    "    true_x=dataset_x\n",
    "    pred=model.predict(true_x)\n",
    "\n",
    "    print(\"---------------PERFORMANCE ANALYSIS FOR THE MODEL----------------\\n\")\n",
    "\n",
    "    print(\"Real Test dataset labels: \\n{}\\n\".format(true_y))\n",
    "    print(\"Predicted Test dataset labels: \\n{}\".format(pred))\n",
    "\n",
    "    cnf_matrix=metrics.confusion_matrix(true_y,pred)\n",
    "    plt.figure()\n",
    "    a=confusion_matrix(cnf_matrix,classes=genre_list,title='Confusion matrix')"
   ]
  },
  {
   "cell_type": "code",
   "execution_count": 36,
   "metadata": {
    "scrolled": false
   },
   "outputs": [
    {
     "name": "stdout",
     "output_type": "stream",
     "text": [
      "Max Accuracy is 0.911 on test dataset with 1 neighbors.\n",
      "\n",
      "Training Score: 1.000\n",
      "Test score: 0.911\n",
      "---------------PERFORMANCE ANALYSIS FOR THE MODEL----------------\n",
      "\n",
      "Real Test dataset labels: \n",
      "1831       rock\n",
      "361     hip hop\n",
      "1191    country\n",
      "2245    hip hop\n",
      "2534        pop\n",
      "         ...   \n",
      "1949      metal\n",
      "2890        pop\n",
      "1618       rock\n",
      "1555    hip hop\n",
      "402       metal\n",
      "Name: Genre, Length: 753, dtype: object\n",
      "\n",
      "Predicted Test dataset labels: \n",
      "['rock' 'hip hop' 'country' 'hip hop' 'pop' 'metal' 'rock' 'pop' 'hip hop'\n",
      " 'rock' 'hip hop' 'rock' 'rock' 'metal' 'rock' 'pop' 'pop' 'metal' 'metal'\n",
      " 'hip hop' 'hip hop' 'country' 'hip hop' 'hip hop' 'pop' 'metal' 'country'\n",
      " 'hip hop' 'pop' 'rock' 'hip hop' 'pop' 'rock' 'rock' 'hip hop' 'metal'\n",
      " 'pop' 'country' 'pop' 'country' 'country' 'country' 'metal' 'rock'\n",
      " 'metal' 'pop' 'rock' 'rock' 'rock' 'metal' 'pop' 'metal' 'hip hop'\n",
      " 'hip hop' 'country' 'rock' 'metal' 'hip hop' 'hip hop' 'hip hop'\n",
      " 'hip hop' 'metal' 'rock' 'pop' 'hip hop' 'country' 'rock' 'country'\n",
      " 'rock' 'rock' 'country' 'pop' 'rock' 'hip hop' 'hip hop' 'pop' 'metal'\n",
      " 'pop' 'hip hop' 'metal' 'metal' 'rock' 'hip hop' 'hip hop' 'metal'\n",
      " 'hip hop' 'hip hop' 'rock' 'pop' 'pop' 'hip hop' 'pop' 'hip hop' 'pop'\n",
      " 'hip hop' 'hip hop' 'hip hop' 'metal' 'rock' 'hip hop' 'rock' 'rock'\n",
      " 'pop' 'country' 'metal' 'rock' 'hip hop' 'country' 'rock' 'hip hop'\n",
      " 'rock' 'hip hop' 'country' 'rock' 'hip hop' 'hip hop' 'pop' 'hip hop'\n",
      " 'rock' 'country' 'metal' 'hip hop' 'pop' 'rock' 'hip hop' 'country'\n",
      " 'country' 'metal' 'hip hop' 'pop' 'rock' 'country' 'rock' 'metal' 'metal'\n",
      " 'rock' 'hip hop' 'rock' 'pop' 'hip hop' 'hip hop' 'hip hop' 'rock' 'rock'\n",
      " 'hip hop' 'hip hop' 'hip hop' 'metal' 'rock' 'hip hop' 'pop' 'hip hop'\n",
      " 'rock' 'country' 'hip hop' 'hip hop' 'hip hop' 'rock' 'hip hop' 'hip hop'\n",
      " 'rock' 'metal' 'country' 'metal' 'pop' 'rock' 'hip hop' 'pop' 'metal'\n",
      " 'rock' 'country' 'country' 'hip hop' 'rock' 'metal' 'rock' 'pop' 'rock'\n",
      " 'pop' 'metal' 'hip hop' 'metal' 'hip hop' 'hip hop' 'rock' 'pop'\n",
      " 'hip hop' 'metal' 'metal' 'pop' 'rock' 'hip hop' 'metal' 'pop' 'pop'\n",
      " 'pop' 'metal' 'country' 'metal' 'pop' 'hip hop' 'pop' 'hip hop' 'rock'\n",
      " 'pop' 'rock' 'country' 'pop' 'metal' 'hip hop' 'rock' 'metal' 'pop'\n",
      " 'rock' 'hip hop' 'metal' 'metal' 'country' 'pop' 'metal' 'pop' 'rock'\n",
      " 'pop' 'metal' 'rock' 'hip hop' 'pop' 'rock' 'rock' 'hip hop' 'metal'\n",
      " 'hip hop' 'rock' 'hip hop' 'hip hop' 'rock' 'pop' 'rock' 'metal' 'rock'\n",
      " 'rock' 'pop' 'rock' 'country' 'hip hop' 'metal' 'pop' 'country' 'pop'\n",
      " 'rock' 'metal' 'hip hop' 'hip hop' 'pop' 'hip hop' 'rock' 'pop' 'pop'\n",
      " 'hip hop' 'hip hop' 'country' 'pop' 'pop' 'metal' 'rock' 'metal'\n",
      " 'hip hop' 'country' 'rock' 'rock' 'pop' 'country' 'pop' 'metal' 'pop'\n",
      " 'country' 'pop' 'metal' 'metal' 'pop' 'pop' 'country' 'pop' 'pop'\n",
      " 'country' 'metal' 'pop' 'pop' 'pop' 'hip hop' 'pop' 'rock' 'pop' 'rock'\n",
      " 'hip hop' 'hip hop' 'hip hop' 'pop' 'pop' 'rock' 'pop' 'pop' 'country'\n",
      " 'country' 'pop' 'country' 'rock' 'pop' 'metal' 'pop' 'pop' 'rock'\n",
      " 'hip hop' 'hip hop' 'pop' 'metal' 'pop' 'country' 'rock' 'rock' 'hip hop'\n",
      " 'hip hop' 'metal' 'rock' 'pop' 'hip hop' 'metal' 'country' 'pop' 'pop'\n",
      " 'country' 'pop' 'hip hop' 'pop' 'rock' 'pop' 'metal' 'rock' 'pop'\n",
      " 'country' 'rock' 'pop' 'hip hop' 'pop' 'pop' 'country' 'country' 'rock'\n",
      " 'pop' 'hip hop' 'rock' 'pop' 'hip hop' 'metal' 'pop' 'rock' 'country'\n",
      " 'country' 'country' 'pop' 'pop' 'hip hop' 'pop' 'country' 'metal'\n",
      " 'country' 'metal' 'hip hop' 'hip hop' 'hip hop' 'rock' 'hip hop' 'rock'\n",
      " 'pop' 'pop' 'country' 'pop' 'pop' 'pop' 'country' 'metal' 'country'\n",
      " 'metal' 'pop' 'rock' 'rock' 'pop' 'pop' 'pop' 'pop' 'rock' 'metal' 'rock'\n",
      " 'country' 'rock' 'hip hop' 'metal' 'country' 'hip hop' 'pop' 'hip hop'\n",
      " 'rock' 'rock' 'hip hop' 'rock' 'metal' 'hip hop' 'country' 'rock' 'pop'\n",
      " 'rock' 'hip hop' 'pop' 'metal' 'pop' 'metal' 'hip hop' 'pop' 'country'\n",
      " 'rock' 'pop' 'hip hop' 'metal' 'metal' 'country' 'rock' 'rock' 'hip hop'\n",
      " 'metal' 'pop' 'hip hop' 'rock' 'rock' 'pop' 'metal' 'pop' 'hip hop'\n",
      " 'hip hop' 'hip hop' 'country' 'metal' 'rock' 'pop' 'rock' 'rock'\n",
      " 'hip hop' 'pop' 'pop' 'pop' 'hip hop' 'pop' 'pop' 'hip hop' 'hip hop'\n",
      " 'rock' 'metal' 'pop' 'hip hop' 'hip hop' 'rock' 'metal' 'country' 'metal'\n",
      " 'hip hop' 'hip hop' 'pop' 'metal' 'rock' 'rock' 'rock' 'metal' 'hip hop'\n",
      " 'hip hop' 'country' 'pop' 'country' 'hip hop' 'hip hop' 'metal' 'metal'\n",
      " 'country' 'pop' 'pop' 'rock' 'pop' 'hip hop' 'hip hop' 'rock' 'pop'\n",
      " 'country' 'country' 'hip hop' 'pop' 'country' 'pop' 'rock' 'metal'\n",
      " 'country' 'country' 'pop' 'pop' 'pop' 'metal' 'hip hop' 'metal' 'pop'\n",
      " 'pop' 'pop' 'metal' 'pop' 'pop' 'pop' 'pop' 'hip hop' 'hip hop' 'hip hop'\n",
      " 'pop' 'rock' 'pop' 'pop' 'rock' 'metal' 'pop' 'rock' 'country' 'pop'\n",
      " 'pop' 'rock' 'metal' 'country' 'hip hop' 'rock' 'metal' 'hip hop' 'pop'\n",
      " 'rock' 'country' 'rock' 'rock' 'hip hop' 'rock' 'hip hop' 'metal' 'pop'\n",
      " 'pop' 'country' 'rock' 'metal' 'hip hop' 'country' 'hip hop' 'metal'\n",
      " 'country' 'pop' 'hip hop' 'rock' 'pop' 'pop' 'hip hop' 'country' 'pop'\n",
      " 'hip hop' 'hip hop' 'country' 'pop' 'hip hop' 'hip hop' 'country'\n",
      " 'hip hop' 'hip hop' 'hip hop' 'pop' 'pop' 'country' 'rock' 'country'\n",
      " 'pop' 'pop' 'rock' 'rock' 'pop' 'pop' 'hip hop' 'country' 'hip hop' 'pop'\n",
      " 'rock' 'hip hop' 'hip hop' 'pop' 'pop' 'rock' 'hip hop' 'rock' 'rock'\n",
      " 'country' 'pop' 'country' 'pop' 'country' 'pop' 'hip hop' 'country'\n",
      " 'rock' 'rock' 'pop' 'hip hop' 'hip hop' 'rock' 'metal' 'country'\n",
      " 'hip hop' 'metal' 'pop' 'country' 'rock' 'pop' 'pop' 'hip hop' 'hip hop'\n",
      " 'pop' 'hip hop' 'hip hop' 'hip hop' 'pop' 'country' 'metal' 'rock'\n",
      " 'metal' 'pop' 'rock' 'hip hop' 'rock' 'hip hop' 'pop' 'pop' 'hip hop'\n",
      " 'pop' 'country' 'country' 'rock' 'hip hop' 'rock' 'pop' 'hip hop' 'metal'\n",
      " 'hip hop' 'country' 'rock' 'country' 'pop' 'country' 'rock' 'country'\n",
      " 'pop' 'hip hop' 'hip hop' 'country' 'pop' 'pop' 'metal' 'country'\n",
      " 'hip hop' 'hip hop' 'metal' 'metal' 'country' 'pop' 'pop' 'metal' 'pop'\n",
      " 'rock' 'hip hop' 'rock' 'metal' 'hip hop' 'pop' 'pop' 'pop' 'hip hop'\n",
      " 'hip hop' 'hip hop' 'pop' 'metal' 'rock' 'hip hop' 'hip hop' 'pop' 'rock'\n",
      " 'country' 'pop' 'pop' 'rock' 'rock' 'hip hop' 'pop' 'pop' 'hip hop' 'pop'\n",
      " 'pop' 'pop' 'pop' 'hip hop' 'hip hop' 'hip hop' 'pop' 'pop' 'rock'\n",
      " 'hip hop' 'pop' 'metal' 'country' 'hip hop' 'hip hop' 'rock' 'metal'\n",
      " 'pop' 'country' 'pop' 'metal' 'pop' 'pop' 'pop' 'rock' 'country' 'pop'\n",
      " 'pop' 'metal' 'hip hop' 'pop' 'pop' 'hip hop' 'hip hop' 'pop' 'pop'\n",
      " 'rock' 'pop' 'metal' 'hip hop' 'hip hop' 'metal' 'pop' 'rock' 'hip hop'\n",
      " 'pop' 'pop' 'hip hop' 'pop' 'hip hop' 'pop' 'rock' 'hip hop' 'pop']\n"
     ]
    },
    {
     "data": {
      "image/png": "[encoded data removed]",
      "text/plain": [
       "<Figure size 432x288 with 1 Axes>"
      ]
     },
     "metadata": {
      "needs_background": "light"
     },
     "output_type": "display_data"
    },
    {
     "data": {
      "image/png": "[encoded data removed]",
      "text/plain": [
       "<Figure size 432x288 with 2 Axes>"
      ]
     },
     "metadata": {
      "needs_background": "light"
     },
     "output_type": "display_data"
    }
   ],
   "source": [
    "results_knn=[]\n",
    "for i in range(1,11):\n",
    "    knn = KNeighborsClassifier(n_neighbors=i)\n",
    "    knn.fit(X_train,y_train)\n",
    "    results_knn.append(knn.score(X_test,y_test))\n",
    "    \n",
    "max_accuracy_knn = max(results_knn)\n",
    "best_k = 1 + results_knn.index(max(results_knn))\n",
    "\n",
    "print(\"Max Accuracy is {:.3f} on test dataset with {} neighbors.\\n\".format(max_accuracy_knn,best_k))\n",
    "\n",
    "plt.plot(np.arange(1,11),results_knn)\n",
    "plt.xlabel(\"n Neighbors\")\n",
    "plt.ylabel(\"Accuracy\")\n",
    "\n",
    "\n",
    "knn = KNeighborsClassifier(n_neighbors = best_k)\n",
    "knn.fit(X_train,y_train)\n",
    "print(\"Training Score: {:.3f}\".format(knn.score(X_train,y_train)))\n",
    "print(\"Test score: {:.3f}\".format(knn.score(X_test,y_test)))  \n",
    "\n",
    "plot_cnf(knn,X_test,y_test,y)"
   ]
  },
  {
   "cell_type": "code",
   "execution_count": null,
   "metadata": {},
   "outputs": [],
   "source": []
  }
 ],
 "metadata": {
  "kernelspec": {
   "display_name": "Python 3",
   "language": "python",
   "name": "python3"
  },
  "language_info": {
   "codemirror_mode": {
    "name": "ipython",
    "version": 3
   },
   "file_extension": ".py",
   "mimetype": "text/x-python",
   "name": "python",
   "nbconvert_exporter": "python",
   "pygments_lexer": "ipython3",
   "version": "3.7.4"
  }
 },
 "nbformat": 4,
 "nbformat_minor": 4
}
