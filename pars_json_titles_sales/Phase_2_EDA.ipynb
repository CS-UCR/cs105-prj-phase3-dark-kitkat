{
 "cells": [
  {
   "cell_type": "code",
   "execution_count": 1,
   "metadata": {},
   "outputs": [],
   "source": [
    "import pandas as pd\n",
    "import numpy as np\n",
    "import matplotlib.pyplot as plt"
   ]
  },
  {
   "cell_type": "markdown",
   "metadata": {},
   "source": [
    "<br>\n",
    "read data_1  -- albums names and sales(!) (scraped from wikipedia)<br>\n",
    "read lyricDataset -- albums names and lyrics(!) (API from Genius) "
   ]
  },
  {
   "cell_type": "code",
   "execution_count": 2,
   "metadata": {},
   "outputs": [],
   "source": [
    "df_1 = pd.read_csv('data_1.csv')\n",
    "columns = ['Artist', 'Title', 'Album', 'Lyric_views', 'Release_date', 'Featured_art',\n",
    "           '#_words', 'Lyrics']\n",
    "df_2 = pd.read_csv('lyricDataset.csv', names = columns)"
   ]
  },
  {
   "cell_type": "markdown",
   "metadata": {},
   "source": [
    "<br>\n",
    "drop unnecessary columns"
   ]
  },
  {
   "cell_type": "code",
   "execution_count": 3,
   "metadata": {},
   "outputs": [
    {
     "data": {
      "text/html": [
       "<div>\n",
       "<style scoped>\n",
       "    .dataframe tbody tr th:only-of-type {\n",
       "        vertical-align: middle;\n",
       "    }\n",
       "\n",
       "    .dataframe tbody tr th {\n",
       "        vertical-align: top;\n",
       "    }\n",
       "\n",
       "    .dataframe thead th {\n",
       "        text-align: right;\n",
       "    }\n",
       "</style>\n",
       "<table border=\"1\" class=\"dataframe\">\n",
       "  <thead>\n",
       "    <tr style=\"text-align: right;\">\n",
       "      <th></th>\n",
       "      <th>Artist</th>\n",
       "      <th>Album</th>\n",
       "      <th>Lyric_views</th>\n",
       "      <th>Lyrics</th>\n",
       "    </tr>\n",
       "  </thead>\n",
       "  <tbody>\n",
       "    <tr>\n",
       "      <th>0</th>\n",
       "      <td>Miranda Lambert</td>\n",
       "      <td>The Weight of These Wings</td>\n",
       "      <td>42261</td>\n",
       "      <td>Sting of the needle dropping on a vinyl\\nNeon ...</td>\n",
       "    </tr>\n",
       "    <tr>\n",
       "      <th>1</th>\n",
       "      <td>Miranda Lambert</td>\n",
       "      <td>The Weight of These Wings</td>\n",
       "      <td>40702</td>\n",
       "      <td>Hey there Mr. Tin Man\\nYou don't know how luck...</td>\n",
       "    </tr>\n",
       "    <tr>\n",
       "      <th>2</th>\n",
       "      <td>Miranda Lambert</td>\n",
       "      <td>Platinum</td>\n",
       "      <td>29992</td>\n",
       "      <td>You only love me for my big sunglasses\\nAnd my...</td>\n",
       "    </tr>\n",
       "    <tr>\n",
       "      <th>3</th>\n",
       "      <td>Miranda Lambert</td>\n",
       "      <td>Four the Record</td>\n",
       "      <td>29986</td>\n",
       "      <td>I cut my bangs with some rusty kitchen scissor...</td>\n",
       "    </tr>\n",
       "    <tr>\n",
       "      <th>4</th>\n",
       "      <td>Miranda Lambert</td>\n",
       "      <td>Platinum</td>\n",
       "      <td>26966</td>\n",
       "      <td>Stand on the bar  stomp your feet  start clapp...</td>\n",
       "    </tr>\n",
       "    <tr>\n",
       "      <th>...</th>\n",
       "      <td>...</td>\n",
       "      <td>...</td>\n",
       "      <td>...</td>\n",
       "      <td>...</td>\n",
       "    </tr>\n",
       "    <tr>\n",
       "      <th>1575</th>\n",
       "      <td>The Pharcyde</td>\n",
       "      <td>Labcabincalifornia</td>\n",
       "      <td>6382</td>\n",
       "      <td>You gotta get on up off of that bullshit  stop...</td>\n",
       "    </tr>\n",
       "    <tr>\n",
       "      <th>1576</th>\n",
       "      <td>The Pharcyde</td>\n",
       "      <td>Labcabincalifornia</td>\n",
       "      <td>0</td>\n",
       "      <td>I was standing  one of the cast of many\\nI wou...</td>\n",
       "    </tr>\n",
       "    <tr>\n",
       "      <th>1577</th>\n",
       "      <td>The Pharcyde</td>\n",
       "      <td>Labcabincalifornia</td>\n",
       "      <td>0</td>\n",
       "      <td>The way that momma raised us was pure faith\\nS...</td>\n",
       "    </tr>\n",
       "    <tr>\n",
       "      <th>1578</th>\n",
       "      <td>The Pharcyde</td>\n",
       "      <td>Labcabincalifornia</td>\n",
       "      <td>0</td>\n",
       "      <td>(yo  yo  yo)\\nIf you're listening (x3)\\n(yo  y...</td>\n",
       "    </tr>\n",
       "    <tr>\n",
       "      <th>1579</th>\n",
       "      <td>The Pharcyde</td>\n",
       "      <td>Humboldt Beginnings</td>\n",
       "      <td>0</td>\n",
       "      <td>And I still  gotta ask\\nYou could've told me\\n...</td>\n",
       "    </tr>\n",
       "  </tbody>\n",
       "</table>\n",
       "<p>1580 rows × 4 columns</p>\n",
       "</div>"
      ],
      "text/plain": [
       "               Artist                      Album  Lyric_views  \\\n",
       "0     Miranda Lambert  The Weight of These Wings        42261   \n",
       "1     Miranda Lambert  The Weight of These Wings        40702   \n",
       "2     Miranda Lambert                   Platinum        29992   \n",
       "3     Miranda Lambert            Four the Record        29986   \n",
       "4     Miranda Lambert                   Platinum        26966   \n",
       "...               ...                        ...          ...   \n",
       "1575     The Pharcyde         Labcabincalifornia         6382   \n",
       "1576     The Pharcyde         Labcabincalifornia            0   \n",
       "1577     The Pharcyde         Labcabincalifornia            0   \n",
       "1578     The Pharcyde         Labcabincalifornia            0   \n",
       "1579     The Pharcyde        Humboldt Beginnings            0   \n",
       "\n",
       "                                                 Lyrics  \n",
       "0     Sting of the needle dropping on a vinyl\\nNeon ...  \n",
       "1     Hey there Mr. Tin Man\\nYou don't know how luck...  \n",
       "2     You only love me for my big sunglasses\\nAnd my...  \n",
       "3     I cut my bangs with some rusty kitchen scissor...  \n",
       "4     Stand on the bar  stomp your feet  start clapp...  \n",
       "...                                                 ...  \n",
       "1575  You gotta get on up off of that bullshit  stop...  \n",
       "1576  I was standing  one of the cast of many\\nI wou...  \n",
       "1577  The way that momma raised us was pure faith\\nS...  \n",
       "1578  (yo  yo  yo)\\nIf you're listening (x3)\\n(yo  y...  \n",
       "1579  And I still  gotta ask\\nYou could've told me\\n...  \n",
       "\n",
       "[1580 rows x 4 columns]"
      ]
     },
     "execution_count": 3,
     "metadata": {},
     "output_type": "execute_result"
    }
   ],
   "source": [
    "lyrics = df_2.drop(['Title', 'Release_date', 'Featured_art', '#_words'], axis = 1)\n",
    "lyrics"
   ]
  },
  {
   "cell_type": "markdown",
   "metadata": {},
   "source": [
    "<br>\n",
    "leave in dataframe \"lyrics\" only those rows which has albums from dataframe df_1 with sales"
   ]
  },
  {
   "cell_type": "code",
   "execution_count": 4,
   "metadata": {},
   "outputs": [
    {
     "data": {
      "text/html": [
       "<div>\n",
       "<style scoped>\n",
       "    .dataframe tbody tr th:only-of-type {\n",
       "        vertical-align: middle;\n",
       "    }\n",
       "\n",
       "    .dataframe tbody tr th {\n",
       "        vertical-align: top;\n",
       "    }\n",
       "\n",
       "    .dataframe thead th {\n",
       "        text-align: right;\n",
       "    }\n",
       "</style>\n",
       "<table border=\"1\" class=\"dataframe\">\n",
       "  <thead>\n",
       "    <tr style=\"text-align: right;\">\n",
       "      <th></th>\n",
       "      <th>Artist</th>\n",
       "      <th>Album</th>\n",
       "      <th>Lyric_views</th>\n",
       "      <th>Lyrics</th>\n",
       "    </tr>\n",
       "  </thead>\n",
       "  <tbody>\n",
       "    <tr>\n",
       "      <th>122</th>\n",
       "      <td>Ariana Grande</td>\n",
       "      <td>Sweetener</td>\n",
       "      <td>3034628</td>\n",
       "      <td>You  you love it how I move you\\nYou love it h...</td>\n",
       "    </tr>\n",
       "    <tr>\n",
       "      <th>123</th>\n",
       "      <td>Ariana Grande</td>\n",
       "      <td>Dangerous Woman</td>\n",
       "      <td>2634773</td>\n",
       "      <td>I've been here all night (Ariana)\\nI've been h...</td>\n",
       "    </tr>\n",
       "    <tr>\n",
       "      <th>124</th>\n",
       "      <td>Ariana Grande</td>\n",
       "      <td>Sweetener</td>\n",
       "      <td>2628876</td>\n",
       "      <td>Right now  I'm in a state of mind\\nI wanna be ...</td>\n",
       "    </tr>\n",
       "    <tr>\n",
       "      <th>125</th>\n",
       "      <td>Ariana Grande</td>\n",
       "      <td>Sweetener</td>\n",
       "      <td>1824759</td>\n",
       "      <td>Lacigam gnihtemos od ot\\nThgin laiceps ruoy s'...</td>\n",
       "    </tr>\n",
       "    <tr>\n",
       "      <th>129</th>\n",
       "      <td>Ariana Grande</td>\n",
       "      <td>Sweetener</td>\n",
       "      <td>1138842</td>\n",
       "      <td>Mmm  yeah  yuh\\n\\nI thought you into my life (...</td>\n",
       "    </tr>\n",
       "    <tr>\n",
       "      <th>...</th>\n",
       "      <td>...</td>\n",
       "      <td>...</td>\n",
       "      <td>...</td>\n",
       "      <td>...</td>\n",
       "    </tr>\n",
       "    <tr>\n",
       "      <th>1519</th>\n",
       "      <td>Justin Timberlake</td>\n",
       "      <td>Man of the Woods</td>\n",
       "      <td>137506</td>\n",
       "      <td>Ain't no need of stopping  girl\\nYeah  there a...</td>\n",
       "    </tr>\n",
       "    <tr>\n",
       "      <th>1541</th>\n",
       "      <td>Travis Scott</td>\n",
       "      <td>Birds in the Trap Sing McKnight</td>\n",
       "      <td>4067071</td>\n",
       "      <td>Yeah\\n7:30 in the night  yeah\\nOoh-oooh  ooh\\n...</td>\n",
       "    </tr>\n",
       "    <tr>\n",
       "      <th>1544</th>\n",
       "      <td>Travis Scott</td>\n",
       "      <td>Birds in the Trap Sing McKnight</td>\n",
       "      <td>1847257</td>\n",
       "      <td>That coca\\n\\nI just poured an 8 in a liter\\nTh...</td>\n",
       "    </tr>\n",
       "    <tr>\n",
       "      <th>1549</th>\n",
       "      <td>Travis Scott</td>\n",
       "      <td>Birds in the Trap Sing McKnight</td>\n",
       "      <td>1134501</td>\n",
       "      <td>Hmm  hmm  meh  meh\\nMmm  meh  meh  meh\\nHmm  h...</td>\n",
       "    </tr>\n",
       "    <tr>\n",
       "      <th>1558</th>\n",
       "      <td>Travis Scott</td>\n",
       "      <td>Birds in the Trap Sing McKnight</td>\n",
       "      <td>681268</td>\n",
       "      <td>2 AM  howlin' outside\\nLookin' but I cannot fi...</td>\n",
       "    </tr>\n",
       "  </tbody>\n",
       "</table>\n",
       "<p>320 rows × 4 columns</p>\n",
       "</div>"
      ],
      "text/plain": [
       "                 Artist                            Album  Lyric_views  \\\n",
       "122       Ariana Grande                        Sweetener      3034628   \n",
       "123       Ariana Grande                  Dangerous Woman      2634773   \n",
       "124       Ariana Grande                        Sweetener      2628876   \n",
       "125       Ariana Grande                        Sweetener      1824759   \n",
       "129       Ariana Grande                        Sweetener      1138842   \n",
       "...                 ...                              ...          ...   \n",
       "1519  Justin Timberlake                 Man of the Woods       137506   \n",
       "1541       Travis Scott  Birds in the Trap Sing McKnight      4067071   \n",
       "1544       Travis Scott  Birds in the Trap Sing McKnight      1847257   \n",
       "1549       Travis Scott  Birds in the Trap Sing McKnight      1134501   \n",
       "1558       Travis Scott  Birds in the Trap Sing McKnight       681268   \n",
       "\n",
       "                                                 Lyrics  \n",
       "122   You  you love it how I move you\\nYou love it h...  \n",
       "123   I've been here all night (Ariana)\\nI've been h...  \n",
       "124   Right now  I'm in a state of mind\\nI wanna be ...  \n",
       "125   Lacigam gnihtemos od ot\\nThgin laiceps ruoy s'...  \n",
       "129   Mmm  yeah  yuh\\n\\nI thought you into my life (...  \n",
       "...                                                 ...  \n",
       "1519  Ain't no need of stopping  girl\\nYeah  there a...  \n",
       "1541  Yeah\\n7:30 in the night  yeah\\nOoh-oooh  ooh\\n...  \n",
       "1544  That coca\\n\\nI just poured an 8 in a liter\\nTh...  \n",
       "1549  Hmm  hmm  meh  meh\\nMmm  meh  meh  meh\\nHmm  h...  \n",
       "1558  2 AM  howlin' outside\\nLookin' but I cannot fi...  \n",
       "\n",
       "[320 rows x 4 columns]"
      ]
     },
     "execution_count": 4,
     "metadata": {},
     "output_type": "execute_result"
    }
   ],
   "source": [
    "albums = np.array(df_1['Album'])\n",
    "lyrics = lyrics[lyrics['Album'].isin(albums)]\n",
    "lyrics"
   ]
  },
  {
   "cell_type": "markdown",
   "metadata": {},
   "source": [
    "<br>\n",
    "now leave in dataframe \"sales\" only rows with albums from dataframe \"lyrics\""
   ]
  },
  {
   "cell_type": "code",
   "execution_count": 5,
   "metadata": {},
   "outputs": [],
   "source": [
    "albums = np.array(lyrics['Album'])\n",
    "sales = df_1[df_1['Album'].isin(albums)]"
   ]
  },
  {
   "cell_type": "code",
   "execution_count": 6,
   "metadata": {},
   "outputs": [
    {
     "data": {
      "text/html": [
       "<div>\n",
       "<style scoped>\n",
       "    .dataframe tbody tr th:only-of-type {\n",
       "        vertical-align: middle;\n",
       "    }\n",
       "\n",
       "    .dataframe tbody tr th {\n",
       "        vertical-align: top;\n",
       "    }\n",
       "\n",
       "    .dataframe thead th {\n",
       "        text-align: right;\n",
       "    }\n",
       "</style>\n",
       "<table border=\"1\" class=\"dataframe\">\n",
       "  <thead>\n",
       "    <tr style=\"text-align: right;\">\n",
       "      <th></th>\n",
       "      <th>Artist</th>\n",
       "      <th>Album</th>\n",
       "      <th>US sales</th>\n",
       "    </tr>\n",
       "  </thead>\n",
       "  <tbody>\n",
       "    <tr>\n",
       "      <th>0</th>\n",
       "      <td>Kendrick Lamar</td>\n",
       "      <td>Section.80</td>\n",
       "      <td>130000.0</td>\n",
       "    </tr>\n",
       "    <tr>\n",
       "      <th>2</th>\n",
       "      <td>Kendrick Lamar</td>\n",
       "      <td>To Pimp a Butterfly</td>\n",
       "      <td>1050000.0</td>\n",
       "    </tr>\n",
       "    <tr>\n",
       "      <th>4</th>\n",
       "      <td>Childish Gambino</td>\n",
       "      <td>Camp</td>\n",
       "      <td>242000.0</td>\n",
       "    </tr>\n",
       "    <tr>\n",
       "      <th>5</th>\n",
       "      <td>Childish Gambino</td>\n",
       "      <td>Because the Internet</td>\n",
       "      <td>796000.0</td>\n",
       "    </tr>\n",
       "    <tr>\n",
       "      <th>9</th>\n",
       "      <td>Bruno Mars</td>\n",
       "      <td>24K Magic</td>\n",
       "      <td>1000000.0</td>\n",
       "    </tr>\n",
       "    <tr>\n",
       "      <th>...</th>\n",
       "      <td>...</td>\n",
       "      <td>...</td>\n",
       "      <td>...</td>\n",
       "    </tr>\n",
       "    <tr>\n",
       "      <th>160</th>\n",
       "      <td>The Weeknd</td>\n",
       "      <td>Beauty Behind the Madness</td>\n",
       "      <td>1230000.0</td>\n",
       "    </tr>\n",
       "    <tr>\n",
       "      <th>161</th>\n",
       "      <td>The Weeknd</td>\n",
       "      <td>Starboy</td>\n",
       "      <td>484000.0</td>\n",
       "    </tr>\n",
       "    <tr>\n",
       "      <th>162</th>\n",
       "      <td>Wu-Tang Clan</td>\n",
       "      <td>Enter the Wu-Tang (36 Chambers)</td>\n",
       "      <td>3000000.0</td>\n",
       "    </tr>\n",
       "    <tr>\n",
       "      <th>163</th>\n",
       "      <td>Wu-Tang Clan</td>\n",
       "      <td>Wu-Tang Forever</td>\n",
       "      <td>2000000.0</td>\n",
       "    </tr>\n",
       "    <tr>\n",
       "      <th>164</th>\n",
       "      <td>Wu-Tang Clan</td>\n",
       "      <td>The W</td>\n",
       "      <td>1100000.0</td>\n",
       "    </tr>\n",
       "  </tbody>\n",
       "</table>\n",
       "<p>90 rows × 3 columns</p>\n",
       "</div>"
      ],
      "text/plain": [
       "               Artist                            Album   US sales\n",
       "0      Kendrick Lamar                       Section.80   130000.0\n",
       "2      Kendrick Lamar              To Pimp a Butterfly  1050000.0\n",
       "4    Childish Gambino                             Camp   242000.0\n",
       "5    Childish Gambino             Because the Internet   796000.0\n",
       "9          Bruno Mars                        24K Magic  1000000.0\n",
       "..                ...                              ...        ...\n",
       "160        The Weeknd        Beauty Behind the Madness  1230000.0\n",
       "161        The Weeknd                          Starboy   484000.0\n",
       "162      Wu-Tang Clan  Enter the Wu-Tang (36 Chambers)  3000000.0\n",
       "163      Wu-Tang Clan                  Wu-Tang Forever  2000000.0\n",
       "164      Wu-Tang Clan                            The W  1100000.0\n",
       "\n",
       "[90 rows x 3 columns]"
      ]
     },
     "execution_count": 6,
     "metadata": {},
     "output_type": "execute_result"
    }
   ],
   "source": [
    "sales"
   ]
  },
  {
   "cell_type": "code",
   "execution_count": 7,
   "metadata": {},
   "outputs": [],
   "source": [
    "sales.reset_index(drop=True, inplace=True)\n",
    "lyrics.reset_index(drop=True, inplace=True)"
   ]
  },
  {
   "cell_type": "code",
   "execution_count": 8,
   "metadata": {},
   "outputs": [
    {
     "data": {
      "text/plain": [
       "90"
      ]
     },
     "execution_count": 8,
     "metadata": {},
     "output_type": "execute_result"
    }
   ],
   "source": [
    "sales['Album'].nunique()"
   ]
  },
  {
   "cell_type": "code",
   "execution_count": 9,
   "metadata": {
    "scrolled": true
   },
   "outputs": [
    {
     "data": {
      "text/plain": [
       "90"
      ]
     },
     "execution_count": 9,
     "metadata": {},
     "output_type": "execute_result"
    }
   ],
   "source": [
    "lyrics['Album'].nunique()"
   ]
  },
  {
   "cell_type": "code",
   "execution_count": 10,
   "metadata": {},
   "outputs": [
    {
     "data": {
      "text/plain": [
       "0                            Sweetener\n",
       "1                      Dangerous Woman\n",
       "2                            Sweetener\n",
       "3                            Sweetener\n",
       "4                            Sweetener\n",
       "                    ...               \n",
       "315                   Man of the Woods\n",
       "316    Birds in the Trap Sing McKnight\n",
       "317    Birds in the Trap Sing McKnight\n",
       "318    Birds in the Trap Sing McKnight\n",
       "319    Birds in the Trap Sing McKnight\n",
       "Name: Album, Length: 320, dtype: object"
      ]
     },
     "execution_count": 10,
     "metadata": {},
     "output_type": "execute_result"
    }
   ],
   "source": [
    "lyrics['Album']"
   ]
  },
  {
   "cell_type": "code",
   "execution_count": null,
   "metadata": {},
   "outputs": [],
   "source": []
  },
  {
   "cell_type": "code",
   "execution_count": null,
   "metadata": {},
   "outputs": [],
   "source": []
  },
  {
   "cell_type": "code",
   "execution_count": null,
   "metadata": {},
   "outputs": [],
   "source": []
  },
  {
   "cell_type": "markdown",
   "metadata": {},
   "source": [
    "<br>\n",
    "take lyrics from \"lyrics\" and prepare it for analysis (take out punctuation and put in lowercase)"
   ]
  },
  {
   "cell_type": "code",
   "execution_count": 11,
   "metadata": {},
   "outputs": [],
   "source": [
    "str_array = lyrics['Lyrics'].to_numpy()"
   ]
  },
  {
   "cell_type": "code",
   "execution_count": 12,
   "metadata": {},
   "outputs": [],
   "source": [
    "length = len(str_array)"
   ]
  },
  {
   "cell_type": "code",
   "execution_count": 13,
   "metadata": {},
   "outputs": [],
   "source": [
    "import string\n",
    "for i in range(length):\n",
    "    str_array[i] = str_array[i].translate(string.punctuation).replace('+', ' ').lower()"
   ]
  },
  {
   "cell_type": "markdown",
   "metadata": {},
   "source": [
    "<br>\n",
    "Run sentiment_analysis for each string (lyrics) and store result in 'sent_result'"
   ]
  },
  {
   "cell_type": "code",
   "execution_count": 14,
   "metadata": {},
   "outputs": [],
   "source": [
    "sent_result = np.empty(length)"
   ]
  },
  {
   "cell_type": "code",
   "execution_count": 15,
   "metadata": {},
   "outputs": [],
   "source": [
    "from vaderSentiment.vaderSentiment import SentimentIntensityAnalyzer\n",
    "#note: depending on how you installed (e.g., using source code download versus pip install), you may need to import like this:\n",
    "#from vaderSentiment import SentimentIntensityAnalyzer\n",
    "\n",
    "analyzer = SentimentIntensityAnalyzer()\n",
    "for i in range(length):\n",
    "    sent_result[i] = analyzer.polarity_scores(str_array[i])['compound']"
   ]
  },
  {
   "cell_type": "code",
   "execution_count": 16,
   "metadata": {},
   "outputs": [
    {
     "data": {
      "text/plain": [
       "array([ 0.9973, -0.5122,  0.9897,  0.9224,  0.9986,  0.9938,  0.9923,\n",
       "       -0.9722, -0.9789,  0.9991,  0.9853,  0.9976,  0.8748,  0.9963,\n",
       "        0.9992,  0.9995, -0.9971,  0.8759,  0.9562,  0.9807,  0.6966,\n",
       "        0.9825,  0.9901,  0.9955,  0.9988, -0.9934,  0.9904,  0.9971,\n",
       "        0.9863, -0.8246,  0.9376,  0.9928, -0.9825, -0.9844,  0.9903,\n",
       "       -0.9547,  0.9877,  0.9821, -0.9114,  0.1672, -0.9924, -0.971 ,\n",
       "        0.5269,  0.9954, -0.9349, -0.9879, -0.9197, -0.999 , -0.9894,\n",
       "       -0.9993,  0.8901,  0.9947, -0.9939, -0.3773,  0.9945, -0.9822,\n",
       "        0.9579,  0.9974,  0.2669,  0.9932, -0.2826,  0.9958,  0.9463,\n",
       "       -0.9859, -0.7554,  0.9926,  0.9716,  0.9983,  0.9921,  0.9324,\n",
       "        0.986 ,  0.9039,  0.9995,  0.988 ,  0.9936,  0.9793,  0.9952,\n",
       "       -0.5499,  0.9936,  0.9618,  0.9751,  0.9951,  0.999 , -0.9522,\n",
       "       -0.9969, -0.9858, -0.9828, -0.9996,  0.9233, -0.9823, -0.9978,\n",
       "        0.8872, -0.9942, -0.979 , -0.9983, -0.9994, -0.9995,  0.9994,\n",
       "       -0.9997, -0.9983, -0.9969, -0.9933,  0.7768, -0.9998,  0.8935,\n",
       "       -0.1521,  0.9886,  0.9989,  0.9987,  0.9876,  0.9932, -0.765 ,\n",
       "        0.7667,  0.9064,  0.3189,  0.9998,  0.991 ,  0.9997,  0.9606,\n",
       "        0.9755,  0.8214,  0.9856,  0.998 ,  0.9994,  0.1186, -0.9778,\n",
       "        0.9439,  0.9973,  0.9923,  0.6579,  0.9974, -0.8667,  0.9679,\n",
       "        0.9803,  0.9951,  0.9967,  0.9971,  0.9705,  0.99  ,  0.9871,\n",
       "       -0.9978, -0.9995, -0.9908, -0.9924, -0.9949, -0.987 , -0.9984,\n",
       "        0.9128, -0.998 ,  0.9259, -0.9983,  0.9987, -0.9971,  0.9756,\n",
       "        0.9561,  0.9809,  0.9864, -0.5859, -0.9972, -0.9757,  0.9913,\n",
       "       -0.9601,  0.7   , -0.9915, -0.9974,  0.9757, -0.9986,  0.9792,\n",
       "       -0.9983, -0.9867, -0.9987, -0.9842,  0.9706, -0.9941, -0.9856,\n",
       "        0.9933, -0.999 , -0.9976, -0.9988, -0.9303,  0.9963,  0.997 ,\n",
       "        0.9934, -0.9204,  0.9878, -0.8331, -0.9829,  0.9042, -0.9953,\n",
       "        0.9996, -0.9989, -0.9991, -0.9952, -0.9984, -0.9772, -0.9992,\n",
       "       -0.9966, -0.9934,  0.9781,  0.6075, -0.9758,  0.9916,  0.9919,\n",
       "        0.9899, -0.9954,  0.9981, -0.1734, -0.9508,  0.9932, -0.9991,\n",
       "       -0.8081, -0.839 ,  0.9971, -0.9893, -0.9938,  0.9773, -0.5802,\n",
       "       -0.8676,  0.9978, -0.9659,  0.937 , -0.9995, -0.9953, -0.998 ,\n",
       "        0.6568, -0.9987, -0.994 ,  0.9986,  0.9907,  0.769 , -0.998 ,\n",
       "        0.9985, -0.9952,  0.9909, -0.9904, -0.9897,  0.9522, -0.9992,\n",
       "       -0.9964,  0.9933,  0.9972, -0.9725,  0.9715,  0.7587,  0.999 ,\n",
       "       -0.974 ,  0.9992, -0.7678,  0.9367, -0.9908,  0.9983,  0.9976,\n",
       "       -0.9422, -0.3736,  0.9854,  0.901 ,  0.4611, -0.9943,  0.9857,\n",
       "        0.802 ,  0.4054,  0.9879, -0.9417, -0.988 , -0.9726, -0.9865,\n",
       "        0.9725, -0.9612, -0.9951,  0.9324,  0.9608, -0.655 ,  0.9995,\n",
       "        0.9974, -0.9932, -0.9893,  0.9995, -0.9408,  0.9977,  0.9649,\n",
       "        0.9682, -0.9985,  0.8586, -0.9837,  0.9989,  0.8767,  0.9985,\n",
       "        0.985 , -0.8275,  0.6219,  0.7138,  0.9684,  0.9971,  0.9461,\n",
       "       -0.9707, -0.7078,  0.9096, -0.6705, -0.989 ,  0.6476, -0.982 ,\n",
       "        0.7206, -0.9858,  0.9963, -0.993 , -0.9986, -0.7968,  0.8943,\n",
       "       -0.9819, -0.9954, -0.9876, -0.9807,  0.9957,  0.7527, -0.9996,\n",
       "       -0.9719,  0.9965, -0.9854,  0.9938,  0.9515])"
      ]
     },
     "execution_count": 16,
     "metadata": {},
     "output_type": "execute_result"
    }
   ],
   "source": [
    "sent_result"
   ]
  },
  {
   "cell_type": "code",
   "execution_count": 17,
   "metadata": {},
   "outputs": [],
   "source": [
    "x = pd.Series(sent_result)"
   ]
  },
  {
   "cell_type": "code",
   "execution_count": 18,
   "metadata": {},
   "outputs": [],
   "source": [
    "lyrics = lyrics.assign(Sent = x)"
   ]
  },
  {
   "cell_type": "code",
   "execution_count": 19,
   "metadata": {},
   "outputs": [
    {
     "data": {
      "text/html": [
       "<div>\n",
       "<style scoped>\n",
       "    .dataframe tbody tr th:only-of-type {\n",
       "        vertical-align: middle;\n",
       "    }\n",
       "\n",
       "    .dataframe tbody tr th {\n",
       "        vertical-align: top;\n",
       "    }\n",
       "\n",
       "    .dataframe thead th {\n",
       "        text-align: right;\n",
       "    }\n",
       "</style>\n",
       "<table border=\"1\" class=\"dataframe\">\n",
       "  <thead>\n",
       "    <tr style=\"text-align: right;\">\n",
       "      <th></th>\n",
       "      <th>Artist</th>\n",
       "      <th>Album</th>\n",
       "      <th>Lyric_views</th>\n",
       "      <th>Lyrics</th>\n",
       "      <th>Sent</th>\n",
       "    </tr>\n",
       "  </thead>\n",
       "  <tbody>\n",
       "    <tr>\n",
       "      <th>0</th>\n",
       "      <td>Ariana Grande</td>\n",
       "      <td>Sweetener</td>\n",
       "      <td>3034628</td>\n",
       "      <td>you  you love it how i move you you love it ho...</td>\n",
       "      <td>0.9973</td>\n",
       "    </tr>\n",
       "    <tr>\n",
       "      <th>1</th>\n",
       "      <td>Ariana Grande</td>\n",
       "      <td>Dangerous Woman</td>\n",
       "      <td>2634773</td>\n",
       "      <td>i've been here all night (ariana) i've been he...</td>\n",
       "      <td>-0.5122</td>\n",
       "    </tr>\n",
       "    <tr>\n",
       "      <th>2</th>\n",
       "      <td>Ariana Grande</td>\n",
       "      <td>Sweetener</td>\n",
       "      <td>2628876</td>\n",
       "      <td>right now  i'm in a state of mind i wanna be i...</td>\n",
       "      <td>0.9897</td>\n",
       "    </tr>\n",
       "    <tr>\n",
       "      <th>3</th>\n",
       "      <td>Ariana Grande</td>\n",
       "      <td>Sweetener</td>\n",
       "      <td>1824759</td>\n",
       "      <td>lacigam gnihtemos od ot thgin laiceps ruoy s't...</td>\n",
       "      <td>0.9224</td>\n",
       "    </tr>\n",
       "    <tr>\n",
       "      <th>4</th>\n",
       "      <td>Ariana Grande</td>\n",
       "      <td>Sweetener</td>\n",
       "      <td>1138842</td>\n",
       "      <td>mmm  yeah  yuh  i thought you into my life (wh...</td>\n",
       "      <td>0.9986</td>\n",
       "    </tr>\n",
       "    <tr>\n",
       "      <th>...</th>\n",
       "      <td>...</td>\n",
       "      <td>...</td>\n",
       "      <td>...</td>\n",
       "      <td>...</td>\n",
       "      <td>...</td>\n",
       "    </tr>\n",
       "    <tr>\n",
       "      <th>315</th>\n",
       "      <td>Justin Timberlake</td>\n",
       "      <td>Man of the Woods</td>\n",
       "      <td>137506</td>\n",
       "      <td>ain't no need of stopping  girl yeah  there ai...</td>\n",
       "      <td>-0.9719</td>\n",
       "    </tr>\n",
       "    <tr>\n",
       "      <th>316</th>\n",
       "      <td>Travis Scott</td>\n",
       "      <td>Birds in the Trap Sing McKnight</td>\n",
       "      <td>4067071</td>\n",
       "      <td>yeah 7:30 in the night  yeah ooh-oooh  ooh  i ...</td>\n",
       "      <td>0.9965</td>\n",
       "    </tr>\n",
       "    <tr>\n",
       "      <th>317</th>\n",
       "      <td>Travis Scott</td>\n",
       "      <td>Birds in the Trap Sing McKnight</td>\n",
       "      <td>1847257</td>\n",
       "      <td>that coca  i just poured an 8 in a liter throw...</td>\n",
       "      <td>-0.9854</td>\n",
       "    </tr>\n",
       "    <tr>\n",
       "      <th>318</th>\n",
       "      <td>Travis Scott</td>\n",
       "      <td>Birds in the Trap Sing McKnight</td>\n",
       "      <td>1134501</td>\n",
       "      <td>hmm  hmm  meh  meh mmm  meh  meh  meh hmm  hmm...</td>\n",
       "      <td>0.9938</td>\n",
       "    </tr>\n",
       "    <tr>\n",
       "      <th>319</th>\n",
       "      <td>Travis Scott</td>\n",
       "      <td>Birds in the Trap Sing McKnight</td>\n",
       "      <td>681268</td>\n",
       "      <td>2 am  howlin' outside lookin' but i cannot fin...</td>\n",
       "      <td>0.9515</td>\n",
       "    </tr>\n",
       "  </tbody>\n",
       "</table>\n",
       "<p>320 rows × 5 columns</p>\n",
       "</div>"
      ],
      "text/plain": [
       "                Artist                            Album  Lyric_views  \\\n",
       "0        Ariana Grande                        Sweetener      3034628   \n",
       "1        Ariana Grande                  Dangerous Woman      2634773   \n",
       "2        Ariana Grande                        Sweetener      2628876   \n",
       "3        Ariana Grande                        Sweetener      1824759   \n",
       "4        Ariana Grande                        Sweetener      1138842   \n",
       "..                 ...                              ...          ...   \n",
       "315  Justin Timberlake                 Man of the Woods       137506   \n",
       "316       Travis Scott  Birds in the Trap Sing McKnight      4067071   \n",
       "317       Travis Scott  Birds in the Trap Sing McKnight      1847257   \n",
       "318       Travis Scott  Birds in the Trap Sing McKnight      1134501   \n",
       "319       Travis Scott  Birds in the Trap Sing McKnight       681268   \n",
       "\n",
       "                                                Lyrics    Sent  \n",
       "0    you  you love it how i move you you love it ho...  0.9973  \n",
       "1    i've been here all night (ariana) i've been he... -0.5122  \n",
       "2    right now  i'm in a state of mind i wanna be i...  0.9897  \n",
       "3    lacigam gnihtemos od ot thgin laiceps ruoy s't...  0.9224  \n",
       "4    mmm  yeah  yuh  i thought you into my life (wh...  0.9986  \n",
       "..                                                 ...     ...  \n",
       "315  ain't no need of stopping  girl yeah  there ai... -0.9719  \n",
       "316  yeah 7:30 in the night  yeah ooh-oooh  ooh  i ...  0.9965  \n",
       "317  that coca  i just poured an 8 in a liter throw... -0.9854  \n",
       "318  hmm  hmm  meh  meh mmm  meh  meh  meh hmm  hmm...  0.9938  \n",
       "319  2 am  howlin' outside lookin' but i cannot fin...  0.9515  \n",
       "\n",
       "[320 rows x 5 columns]"
      ]
     },
     "execution_count": 19,
     "metadata": {},
     "output_type": "execute_result"
    }
   ],
   "source": [
    "lyrics"
   ]
  },
  {
   "cell_type": "code",
   "execution_count": 20,
   "metadata": {},
   "outputs": [],
   "source": [
    "x = lyrics.groupby('Album')['Sent'].mean()"
   ]
  },
  {
   "cell_type": "code",
   "execution_count": 21,
   "metadata": {},
   "outputs": [],
   "source": [
    "x = x.to_frame()"
   ]
  },
  {
   "cell_type": "code",
   "execution_count": 22,
   "metadata": {},
   "outputs": [
    {
     "data": {
      "text/html": [
       "<div>\n",
       "<style scoped>\n",
       "    .dataframe tbody tr th:only-of-type {\n",
       "        vertical-align: middle;\n",
       "    }\n",
       "\n",
       "    .dataframe tbody tr th {\n",
       "        vertical-align: top;\n",
       "    }\n",
       "\n",
       "    .dataframe thead th {\n",
       "        text-align: right;\n",
       "    }\n",
       "</style>\n",
       "<table border=\"1\" class=\"dataframe\">\n",
       "  <thead>\n",
       "    <tr style=\"text-align: right;\">\n",
       "      <th></th>\n",
       "      <th>Sent</th>\n",
       "    </tr>\n",
       "    <tr>\n",
       "      <th>Album</th>\n",
       "      <th></th>\n",
       "    </tr>\n",
       "  </thead>\n",
       "  <tbody>\n",
       "    <tr>\n",
       "      <th>...And Justice for All</th>\n",
       "      <td>-0.269633</td>\n",
       "    </tr>\n",
       "    <tr>\n",
       "      <th>1000 Forms of Fear</th>\n",
       "      <td>-0.008975</td>\n",
       "    </tr>\n",
       "    <tr>\n",
       "      <th>1989</th>\n",
       "      <td>-0.309300</td>\n",
       "    </tr>\n",
       "    <tr>\n",
       "      <th>24K Magic</th>\n",
       "      <td>0.675413</td>\n",
       "    </tr>\n",
       "    <tr>\n",
       "      <th>4:44</th>\n",
       "      <td>0.279240</td>\n",
       "    </tr>\n",
       "    <tr>\n",
       "      <th>...</th>\n",
       "      <td>...</td>\n",
       "    </tr>\n",
       "    <tr>\n",
       "      <th>Views</th>\n",
       "      <td>0.993533</td>\n",
       "    </tr>\n",
       "    <tr>\n",
       "      <th>Wrapped in Red</th>\n",
       "      <td>0.990400</td>\n",
       "    </tr>\n",
       "    <tr>\n",
       "      <th>Wu-Tang Forever</th>\n",
       "      <td>-0.582620</td>\n",
       "    </tr>\n",
       "    <tr>\n",
       "      <th>X</th>\n",
       "      <td>-0.202040</td>\n",
       "    </tr>\n",
       "    <tr>\n",
       "      <th>Yeezus</th>\n",
       "      <td>-0.992500</td>\n",
       "    </tr>\n",
       "  </tbody>\n",
       "</table>\n",
       "<p>90 rows × 1 columns</p>\n",
       "</div>"
      ],
      "text/plain": [
       "                            Sent\n",
       "Album                           \n",
       "...And Justice for All -0.269633\n",
       "1000 Forms of Fear     -0.008975\n",
       "1989                   -0.309300\n",
       "24K Magic               0.675413\n",
       "4:44                    0.279240\n",
       "...                          ...\n",
       "Views                   0.993533\n",
       "Wrapped in Red          0.990400\n",
       "Wu-Tang Forever        -0.582620\n",
       "X                      -0.202040\n",
       "Yeezus                 -0.992500\n",
       "\n",
       "[90 rows x 1 columns]"
      ]
     },
     "execution_count": 22,
     "metadata": {},
     "output_type": "execute_result"
    }
   ],
   "source": [
    "x"
   ]
  },
  {
   "cell_type": "code",
   "execution_count": 23,
   "metadata": {},
   "outputs": [],
   "source": [
    "final = sales.set_index('Album').join(x)"
   ]
  },
  {
   "cell_type": "code",
   "execution_count": 24,
   "metadata": {},
   "outputs": [
    {
     "data": {
      "text/html": [
       "<div>\n",
       "<style scoped>\n",
       "    .dataframe tbody tr th:only-of-type {\n",
       "        vertical-align: middle;\n",
       "    }\n",
       "\n",
       "    .dataframe tbody tr th {\n",
       "        vertical-align: top;\n",
       "    }\n",
       "\n",
       "    .dataframe thead th {\n",
       "        text-align: right;\n",
       "    }\n",
       "</style>\n",
       "<table border=\"1\" class=\"dataframe\">\n",
       "  <thead>\n",
       "    <tr style=\"text-align: right;\">\n",
       "      <th></th>\n",
       "      <th>Artist</th>\n",
       "      <th>US sales</th>\n",
       "      <th>Sent</th>\n",
       "    </tr>\n",
       "    <tr>\n",
       "      <th>Album</th>\n",
       "      <th></th>\n",
       "      <th></th>\n",
       "      <th></th>\n",
       "    </tr>\n",
       "  </thead>\n",
       "  <tbody>\n",
       "    <tr>\n",
       "      <th>Section.80</th>\n",
       "      <td>Kendrick Lamar</td>\n",
       "      <td>130000.0</td>\n",
       "      <td>0.994700</td>\n",
       "    </tr>\n",
       "    <tr>\n",
       "      <th>To Pimp a Butterfly</th>\n",
       "      <td>Kendrick Lamar</td>\n",
       "      <td>1050000.0</td>\n",
       "      <td>-0.524400</td>\n",
       "    </tr>\n",
       "    <tr>\n",
       "      <th>Camp</th>\n",
       "      <td>Childish Gambino</td>\n",
       "      <td>242000.0</td>\n",
       "      <td>-0.122540</td>\n",
       "    </tr>\n",
       "    <tr>\n",
       "      <th>Because the Internet</th>\n",
       "      <td>Childish Gambino</td>\n",
       "      <td>796000.0</td>\n",
       "      <td>0.040944</td>\n",
       "    </tr>\n",
       "    <tr>\n",
       "      <th>24K Magic</th>\n",
       "      <td>Bruno Mars</td>\n",
       "      <td>1000000.0</td>\n",
       "      <td>0.675413</td>\n",
       "    </tr>\n",
       "    <tr>\n",
       "      <th>...</th>\n",
       "      <td>...</td>\n",
       "      <td>...</td>\n",
       "      <td>...</td>\n",
       "    </tr>\n",
       "    <tr>\n",
       "      <th>Beauty Behind the Madness</th>\n",
       "      <td>The Weeknd</td>\n",
       "      <td>1230000.0</td>\n",
       "      <td>0.315983</td>\n",
       "    </tr>\n",
       "    <tr>\n",
       "      <th>Starboy</th>\n",
       "      <td>The Weeknd</td>\n",
       "      <td>484000.0</td>\n",
       "      <td>-0.022817</td>\n",
       "    </tr>\n",
       "    <tr>\n",
       "      <th>Enter the Wu-Tang (36 Chambers)</th>\n",
       "      <td>Wu-Tang Clan</td>\n",
       "      <td>3000000.0</td>\n",
       "      <td>-0.358108</td>\n",
       "    </tr>\n",
       "    <tr>\n",
       "      <th>Wu-Tang Forever</th>\n",
       "      <td>Wu-Tang Clan</td>\n",
       "      <td>2000000.0</td>\n",
       "      <td>-0.582620</td>\n",
       "    </tr>\n",
       "    <tr>\n",
       "      <th>The W</th>\n",
       "      <td>Wu-Tang Clan</td>\n",
       "      <td>1100000.0</td>\n",
       "      <td>-0.995850</td>\n",
       "    </tr>\n",
       "  </tbody>\n",
       "</table>\n",
       "<p>90 rows × 3 columns</p>\n",
       "</div>"
      ],
      "text/plain": [
       "                                           Artist   US sales      Sent\n",
       "Album                                                                 \n",
       "Section.80                         Kendrick Lamar   130000.0  0.994700\n",
       "To Pimp a Butterfly                Kendrick Lamar  1050000.0 -0.524400\n",
       "Camp                             Childish Gambino   242000.0 -0.122540\n",
       "Because the Internet             Childish Gambino   796000.0  0.040944\n",
       "24K Magic                              Bruno Mars  1000000.0  0.675413\n",
       "...                                           ...        ...       ...\n",
       "Beauty Behind the Madness              The Weeknd  1230000.0  0.315983\n",
       "Starboy                                The Weeknd   484000.0 -0.022817\n",
       "Enter the Wu-Tang (36 Chambers)      Wu-Tang Clan  3000000.0 -0.358108\n",
       "Wu-Tang Forever                      Wu-Tang Clan  2000000.0 -0.582620\n",
       "The W                                Wu-Tang Clan  1100000.0 -0.995850\n",
       "\n",
       "[90 rows x 3 columns]"
      ]
     },
     "execution_count": 24,
     "metadata": {},
     "output_type": "execute_result"
    }
   ],
   "source": [
    "final"
   ]
  },
  {
   "cell_type": "code",
   "execution_count": 27,
   "metadata": {},
   "outputs": [
    {
     "data": {
      "text/plain": [
       "<matplotlib.collections.PathCollection at 0x7f3f572d29b0>"
      ]
     },
     "execution_count": 27,
     "metadata": {},
     "output_type": "execute_result"
    },
    {
     "data": {
      "image/png": "[encoded data removed]",
      "text/plain": [
       "<Figure size 432x288 with 1 Axes>"
      ]
     },
     "metadata": {
      "needs_background": "light"
     },
     "output_type": "display_data"
    }
   ],
   "source": [
    "plt.scatter(final['Sent'], final['US sales'])"
   ]
  },
  {
   "cell_type": "code",
   "execution_count": null,
   "metadata": {},
   "outputs": [],
   "source": []
  }
 ],
 "metadata": {
  "kernelspec": {
   "display_name": "Python 3",
   "language": "python",
   "name": "python3"
  },
  "language_info": {
   "codemirror_mode": {
    "name": "ipython",
    "version": 3
   },
   "file_extension": ".py",
   "mimetype": "text/x-python",
   "name": "python",
   "nbconvert_exporter": "python",
   "pygments_lexer": "ipython3",
   "version": "3.7.3"
  }
 },
 "nbformat": 4,
 "nbformat_minor": 4
}
