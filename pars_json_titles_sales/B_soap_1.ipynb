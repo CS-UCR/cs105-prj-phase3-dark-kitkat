{
 "cells": [
  {
   "cell_type": "code",
   "execution_count": 35,
   "metadata": {},
   "outputs": [],
   "source": [
    "import pandas as pd\n",
    "import numpy as np"
   ]
  },
  {
   "cell_type": "code",
   "execution_count": 188,
   "metadata": {},
   "outputs": [],
   "source": [
    "from bs4 import BeautifulSoup\n",
    "\n",
    "html_doc = \"<tbody><tr>\\n<th scope=\\\"col\\\" rowspan=\\\"2\\\" style=\\\"width:12em;\\\">Title\\n</th>\\n<th scope=\\\"col\\\" rowspan=\\\"2\\\" style=\\\"width:25em;\\\">Album details\\n</th>\\n<th scope=\\\"col\\\" colspan=\\\"10\\\">Peak chart positions\\n</th>\\n<th scope=\\\"col\\\" rowspan=\\\"2\\\">Sales figures\\n</th>\\n<th scope=\\\"col\\\" rowspan=\\\"2\\\" style=\\\"width:14em;\\\"><a href=\\\"/wiki/List_of_music_recording_certifications\\\" title=\\\"List of music recording certifications\\\">Certifications</a>\\n</th></tr>\\n<tr>\\n<th scope=\\\"col\\\" style=\\\"width:2.9em;font-size:90%;\\\"><a href=\\\"/wiki/Billboard_200\\\" title=\\\"Billboard 200\\\">US</a><br><sup id=\\\"cite_ref-US-200_3-0\\\" class=\\\"reference\\\"><a href=\\\"#cite_note-US-200-3\\\">[3]</a></sup>\\n</th>\\n<th scope=\\\"col\\\" style=\\\"width:2.9em;font-size:90%;\\\"><a href=\\\"/wiki/Top_R%26B/Hip-Hop_Albums\\\" title=\\\"Top R&amp;B/Hip-Hop Albums\\\">US<br>R&amp;B</a><br><sup id=\\\"cite_ref-US-R&amp;B-Al_4-0\\\" class=\\\"reference\\\"><a href=\\\"#cite_note-US-R&amp;B-Al-4\\\">[4]</a></sup>\\n</th>\\n<th scope=\\\"col\\\" style=\\\"width:2.9em;font-size:90%;\\\"><a href=\\\"/wiki/ARIA_Charts\\\" title=\\\"ARIA Charts\\\">AUS</a><br><sup id=\\\"cite_ref-AUS-Al_5-0\\\" class=\\\"reference\\\"><a href=\\\"#cite_note-AUS-Al-5\\\">[5]</a></sup>\\n</th>\\n<th scope=\\\"col\\\" style=\\\"width:2.9em;font-size:90%;\\\"><a href=\\\"/wiki/%C3%963_Austria_Top_40\\\" title=\\\"\\u00d63 Austria Top 40\\\">AUT</a><br><sup id=\\\"cite_ref-AUT_6-0\\\" class=\\\"reference\\\"><a href=\\\"#cite_note-AUT-6\\\">[6]</a></sup>\\n</th>\\n<th scope=\\\"col\\\" style=\\\"width:2.9em;font-size:90%;\\\"><a href=\\\"/wiki/Canadian_Albums_Chart\\\" title=\\\"Canadian Albums Chart\\\">CAN</a><br><sup id=\\\"cite_ref-CAN-Al_7-0\\\" class=\\\"reference\\\"><a href=\\\"#cite_note-CAN-Al-7\\\">[7]</a></sup>\\n</th>\\n<th scope=\\\"col\\\" style=\\\"width:2.9em;font-size:90%;\\\"><a href=\\\"/wiki/Syndicat_National_de_l%27%C3%89dition_Phonographique\\\" title=\\\"Syndicat National de l'\\u00c9dition Phonographique\\\">FRA</a><br><sup id=\\\"cite_ref-FRA_8-0\\\" class=\\\"reference\\\"><a href=\\\"#cite_note-FRA-8\\\">[8]</a></sup>\\n</th>\\n<th scope=\\\"col\\\" style=\\\"width:2.9em;font-size:90%;\\\"><a href=\\\"/wiki/GfK_Entertainment_Charts\\\" class=\\\"mw-redirect\\\" title=\\\"GfK Entertainment Charts\\\">GER</a><br><sup id=\\\"cite_ref-GER_9-0\\\" class=\\\"reference\\\"><a href=\\\"#cite_note-GER-9\\\">[9]</a></sup>\\n</th>\\n<th scope=\\\"col\\\" style=\\\"width:2.9em;font-size:90%;\\\"><a href=\\\"/wiki/MegaCharts#Mega_Album_Top_100\\\" class=\\\"mw-redirect\\\" title=\\\"MegaCharts\\\">NLD</a><br><sup id=\\\"cite_ref-NLD_10-0\\\" class=\\\"reference\\\"><a href=\\\"#cite_note-NLD-10\\\">[10]</a></sup>\\n</th>\\n<th scope=\\\"col\\\" style=\\\"width:2.9em;font-size:90%;\\\"><a href=\\\"/wiki/Swiss_Hitparade\\\" title=\\\"Swiss Hitparade\\\">SWI</a><br><sup id=\\\"cite_ref-SWI_11-0\\\" class=\\\"reference\\\"><a href=\\\"#cite_note-SWI-11\\\">[11]</a></sup>\\n</th>\\n<th scope=\\\"col\\\" style=\\\"width:2.9em;font-size:90%;\\\"><a href=\\\"/wiki/UK_Albums_Chart\\\" title=\\\"UK Albums Chart\\\">UK</a><br><sup id=\\\"cite_ref-UK-Al_12-0\\\" class=\\\"reference\\\"><a href=\\\"#cite_note-UK-Al-12\\\">[12]</a></sup>\\n</th></tr>\\n<tr>\\n<th scope=\\\"row\\\"><i><a href=\\\"/wiki/Enter_the_Wu-Tang_(36_Chambers)\\\" title=\\\"Enter the Wu-Tang (36 Chambers)\\\">Enter the Wu-Tang (36 Chambers)</a></i>\\n</th>\\n<td>\\n<ul><li>Released: November 9, 1993</li>\\n<li>Label: <a href=\\\"/wiki/Loud_Records\\\" title=\\\"Loud Records\\\">Loud</a></li>\\n<li>Formats: <a href=\\\"/wiki/Compact_disc\\\" title=\\\"Compact disc\\\">CD</a>, <a href=\\\"/wiki/LP_album\\\" class=\\\"mw-redirect\\\" title=\\\"LP album\\\">LP</a>, <a href=\\\"/wiki/Compact_Cassette\\\" class=\\\"mw-redirect\\\" title=\\\"Compact Cassette\\\">cassette</a></li></ul>\\n</td>\\n<td>41</td>\\n<td>8</td>\\n<td>\\u2014</td>\\n<td>\\u2014</td>\\n<td>\\u2014</td>\\n<td>\\u2014</td>\\n<td>\\u2014</td>\\n<td>\\u2014</td>\\n<td>\\u2014</td>\\n<td>83\\n</td>\\n<td>\\n<ul><li>US: 3,000,000<sup id=\\\"cite_ref-RIAA_13-0\\\" class=\\\"reference\\\"><a href=\\\"#cite_note-RIAA-13\\\">[13]</a></sup></li></ul>\\n</td>\\n<td>\\n<ul><li><a href=\\\"/wiki/Recording_Industry_Association_of_America\\\" title=\\\"Recording Industry Association of America\\\">RIAA</a>: 3\\u00d7 Platinum<sup id=\\\"cite_ref-RIAA_13-1\\\" class=\\\"reference\\\"><a href=\\\"#cite_note-RIAA-13\\\">[13]</a></sup></li>\\n<li><a href=\\\"/wiki/British_Phonographic_Industry\\\" title=\\\"British Phonographic Industry\\\">BPI</a>: Platinum<sup id=\\\"cite_ref-BPI_14-0\\\" class=\\\"reference\\\"><a href=\\\"#cite_note-BPI-14\\\">[14]</a></sup></li></ul>\\n</td></tr>\\n<tr>\\n<th scope=\\\"row\\\"><i><a href=\\\"/wiki/Wu-Tang_Forever\\\" title=\\\"Wu-Tang Forever\\\">Wu-Tang Forever</a></i>\\n</th>\\n<td>\\n<ul><li>Released: June 3, 1997</li>\\n<li>Label: Loud</li>\\n<li>Formats: CD, LP, cassette</li></ul>\\n</td>\\n<td>1</td>\\n<td>1</td>\\n<td>8</td>\\n<td>17</td>\\n<td>1</td>\\n<td>8</td>\\n<td>8</td>\\n<td>9</td>\\n<td>11</td>\\n<td>1\\n</td>\\n<td>\\n<ul><li>US: 2,000,000<sup id=\\\"cite_ref-yahoo_sales_15-0\\\" class=\\\"reference\\\"><a href=\\\"#cite_note-yahoo_sales-15\\\">[15]</a></sup></li></ul>\\n</td>\\n<td>\\n<ul><li>RIAA: 4\\u00d7 Platinum<sup id=\\\"cite_ref-RIAA_13-2\\\" class=\\\"reference\\\"><a href=\\\"#cite_note-RIAA-13\\\">[13]</a></sup></li>\\n<li><a href=\\\"/wiki/British_Phonographic_Industry\\\" title=\\\"British Phonographic Industry\\\">BPI</a>: Platinum<sup id=\\\"cite_ref-BPI_14-1\\\" class=\\\"reference\\\"><a href=\\\"#cite_note-BPI-14\\\">[14]</a></sup></li>\\n<li><a href=\\\"/wiki/Music_Canada\\\" title=\\\"Music Canada\\\">MC</a>: <span class=\\\"nowrap\\\">2\\u00d7 Platinum</span><sup id=\\\"cite_ref-CRIA_16-0\\\" class=\\\"reference\\\"><a href=\\\"#cite_note-CRIA-16\\\">[16]</a></sup></li></ul>\\n</td></tr>\\n<tr>\\n<th scope=\\\"row\\\"><i><a href=\\\"/wiki/The_W\\\" title=\\\"The W\\\">The W</a></i>\\n</th>\\n<td>\\n<ul><li>Released: November 21, 2000</li>\\n<li>Label: <a href=\\\"/wiki/Columbia_Records\\\" title=\\\"Columbia Records\\\">Columbia</a></li>\\n<li>Formats: CD, LP, cassette</li></ul>\\n</td>\\n<td>5</td>\\n<td>1</td>\\n<td>51</td>\\n<td>13</td>\\n<td>9</td>\\n<td>13</td>\\n<td>11</td>\\n<td>15</td>\\n<td>24</td>\\n<td>19\\n</td>\\n<td>\\n<ul><li>US: 1,100,000<sup id=\\\"cite_ref-yahoo_sales_15-1\\\" class=\\\"reference\\\"><a href=\\\"#cite_note-yahoo_sales-15\\\">[15]</a></sup></li></ul>\\n</td>\\n<td>\\n<ul><li>RIAA: Platinum<sup id=\\\"cite_ref-RIAA_13-3\\\" class=\\\"reference\\\"><a href=\\\"#cite_note-RIAA-13\\\">[13]</a></sup></li>\\n<li>BPI: Gold<sup id=\\\"cite_ref-BPI_14-2\\\" class=\\\"reference\\\"><a href=\\\"#cite_note-BPI-14\\\">[14]</a></sup></li>\\n<li>MC: Gold<sup id=\\\"cite_ref-CRIA_16-1\\\" class=\\\"reference\\\"><a href=\\\"#cite_note-CRIA-16\\\">[16]</a></sup></li>\\n<li>GER: Gold<sup id=\\\"cite_ref-wu-tang_clan_17-0\\\" class=\\\"reference\\\"><a href=\\\"#cite_note-wu-tang_clan-17\\\">[17]</a></sup></li></ul>\\n</td></tr>\\n<tr>\\n<th scope=\\\"row\\\"><i><a href=\\\"/wiki/Iron_Flag\\\" title=\\\"Iron Flag\\\">Iron Flag</a></i>\\n</th>\\n<td>\\n<ul><li>Released: December 18, 2001</li>\\n<li>Label: Columbia</li>\\n<li>Formats: CD, LP, cassette</li></ul>\\n</td>\\n<td>32</td>\\n<td>6</td>\\n<td>46</td>\\n<td>36</td>\\n<td>\\u2014</td>\\n<td>61</td>\\n<td>44</td>\\n<td>57</td>\\n<td>39</td>\\n<td>77\\n</td>\\n<td>\\n<ul><li>US: 687,000<sup id=\\\"cite_ref-yahoo_sales_15-2\\\" class=\\\"reference\\\"><a href=\\\"#cite_note-yahoo_sales-15\\\">[15]</a></sup></li></ul>\\n</td>\\n<td>\\n<ul><li>RIAA: Gold<sup id=\\\"cite_ref-RIAA_13-4\\\" class=\\\"reference\\\"><a href=\\\"#cite_note-RIAA-13\\\">[13]</a></sup></li></ul>\\n</td></tr>\\n<tr>\\n<th scope=\\\"row\\\"><i><a href=\\\"/wiki/8_Diagrams\\\" title=\\\"8 Diagrams\\\">8 Diagrams</a></i>\\n</th>\\n<td>\\n<ul><li>Released: December 11, 2007</li>\\n<li>Label: <a href=\\\"/wiki/SRC_Records\\\" title=\\\"SRC Records\\\">SRC</a></li>\\n<li>Formats: CD, LP</li></ul>\\n</td>\\n<td>25</td>\\n<td>9</td>\\n<td>74</td>\\n<td>\\u2014</td>\\n<td>\\u2014</td>\\n<td>84</td>\\n<td>79</td>\\n<td>95</td>\\n<td>19</td>\\n<td>114\\n</td>\\n<td>\\n<ul><li>US: 202,000<sup id=\\\"cite_ref-yahoo_sales_15-3\\\" class=\\\"reference\\\"><a href=\\\"#cite_note-yahoo_sales-15\\\">[15]</a></sup></li></ul>\\n</td>\\n<td>\\n</td></tr>\\n<tr>\\n<th scope=\\\"row\\\"><i><a href=\\\"/wiki/A_Better_Tomorrow_(album)\\\" title=\\\"A Better Tomorrow (album)\\\">A Better Tomorrow</a></i>\\n</th>\\n<td>\\n<ul><li>Released: December 2, 2014</li>\\n<li>Label: <a href=\\\"/wiki/Warner_Bros._Records\\\" class=\\\"mw-redirect\\\" title=\\\"Warner Bros. Records\\\">Warner Bros.</a></li>\\n<li>Formats: CD, <a href=\\\"/wiki/Music_download\\\" title=\\\"Music download\\\">digital download</a></li></ul>\\n</td>\\n<td>29</td>\\n<td>3</td>\\n<td>49</td>\\n<td>51</td>\\n<td>24</td>\\n<td>104</td>\\n<td>64</td>\\n<td>\\u2014</td>\\n<td>21</td>\\n<td>74\\n</td>\\n<td>\\n<ul><li>US: 60,000<sup id=\\\"cite_ref-18\\\" class=\\\"reference\\\"><a href=\\\"#cite_note-18\\\">[18]</a></sup></li></ul>\\n</td>\\n<td>\\n</td></tr>\\n<tr>\\n<th scope=\\\"row\\\"><i><a href=\\\"/wiki/Once_Upon_a_Time_in_Shaolin\\\" title=\\\"Once Upon a Time in Shaolin\\\">Once Upon a Time in Shaolin</a></i><sup id=\\\"cite_ref-19\\\" class=\\\"reference\\\"><a href=\\\"#cite_note-19\\\">[19]</a></sup>\\n</th>\\n<td>\\n<ul><li>Released: November 25, 2015</li>\\n<li>Label: EZCLZIV Scluzay<sup id=\\\"cite_ref-20\\\" class=\\\"reference\\\"><a href=\\\"#cite_note-20\\\">[20]</a></sup></li>\\n<li>Formats: CD</li></ul>\\n</td>\\n<td>\\u2014</td>\\n<td>\\u2014</td>\\n<td>\\u2014</td>\\n<td>\\u2014</td>\\n<td>\\u2014</td>\\n<td>\\u2014</td>\\n<td>\\u2014</td>\\n<td>\\u2014</td>\\n<td>\\u2014</td>\\n<td>\\u2014\\n</td>\\n<td>\\n<ul><li class=\\\"mw-empty-elt\\\"></ul>\\n</td>\\n<td>\\n</td></tr>\\n<tr>\\n<th scope=\\\"row\\\"><i><a href=\\\"/wiki/The_Saga_Continues_(Wu-Tang_Clan_album)\\\" title=\\\"The Saga Continues (Wu-Tang Clan album)\\\">The Saga Continues</a></i>\\n</th>\\n<td>\\n<ul><li>Released: October 13, 2017</li>\\n<li>Label: <a href=\\\"/wiki/Entertainment_One\\\" title=\\\"Entertainment One\\\">eOne</a></li>\\n<li>Formats: digital download, CD, LP</li></ul>\\n</td>\\n<td>15</td>\\n<td>8</td>\\n<td>\\u2014</td>\\n<td>29</td>\\n<td>21</td>\\n<td>69<br><sup id=\\\"cite_ref-21\\\" class=\\\"reference\\\"><a href=\\\"#cite_note-21\\\">[21]</a></sup></td>\\n<td>37</td>\\n<td>79</td>\\n<td>10</td>\\n<td>42\\n</td>\\n<td>\\n</td>\\n<td>\\n</td></tr>\\n<tr>\\n<td colspan=\\\"14\\\" style=\\\"font-size:90%\\\">\\\"\\u2014\\\" denotes a recording that did not chart or was not released in that territory.\\n</td></tr></tbody>\"\n",
    "\n",
    "soup = BeautifulSoup(html_doc, 'html.parser')\n",
    "tr = soup.find_all('tr')"
   ]
  },
  {
   "cell_type": "code",
   "execution_count": 189,
   "metadata": {},
   "outputs": [],
   "source": [
    "len_table = len(tr)"
   ]
  },
  {
   "cell_type": "code",
   "execution_count": 190,
   "metadata": {},
   "outputs": [],
   "source": [
    "def parse_table(table, len_table):\n",
    "    result = np.empty([0,2])\n",
    "    for i in range(2,len_table):\n",
    "        a = str(table[i])\n",
    "        delim = a.find('title=')\n",
    "        if delim == -1:\n",
    "            continue\n",
    "        a = a[delim + 6:]\n",
    "        delim = a.find('>')\n",
    "        album = a[:delim]\n",
    "        album = album.replace(\"'\", \"\")\n",
    "        delim = a.find('US:')\n",
    "        if delim == -1:\n",
    "            delim = a.find('US</a>:')\n",
    "            if delim == -1:\n",
    "                continue\n",
    "        a = a[delim:]\n",
    "        for i, c in enumerate(a):\n",
    "            if c.isdigit():\n",
    "                delim = i\n",
    "                break\n",
    "        a = a[delim:]\n",
    "        delim = a.find('<')\n",
    "        sale = a[:delim]\n",
    "        sale = float(sale.replace(',',''))\n",
    "        result = np.append(result, [[album, sale]],axis = 0)\n",
    "    return result"
   ]
  },
  {
   "cell_type": "code",
   "execution_count": 191,
   "metadata": {},
   "outputs": [],
   "source": [
    "result = parse_table(tr, len_table)"
   ]
  },
  {
   "cell_type": "code",
   "execution_count": 192,
   "metadata": {},
   "outputs": [
    {
     "data": {
      "text/plain": [
       "array([['\"Enter the Wu-Tang (36 Chambers)\"', '3000000.0'],\n",
       "       ['\"Wu-Tang Forever\"', '2000000.0'],\n",
       "       ['\"The W\"', '1100000.0'],\n",
       "       ['\"Iron Flag\"', '687000.0'],\n",
       "       ['\"8 Diagrams\"', '202000.0'],\n",
       "       ['\"A Better Tomorrow (album)\"', '60000.0']], dtype='<U33')"
      ]
     },
     "execution_count": 192,
     "metadata": {},
     "output_type": "execute_result"
    }
   ],
   "source": [
    "result"
   ]
  },
  {
   "cell_type": "code",
   "execution_count": 182,
   "metadata": {},
   "outputs": [
    {
     "data": {
      "text/plain": [
       "7"
      ]
     },
     "execution_count": 182,
     "metadata": {},
     "output_type": "execute_result"
    }
   ],
   "source": [
    "len(tr)"
   ]
  },
  {
   "cell_type": "code",
   "execution_count": 187,
   "metadata": {},
   "outputs": [
    {
     "data": {
      "text/plain": [
       "<tr>\n",
       "<th scope=\"row\"><i><a href=\"/wiki/Starboy_(album)\" title=\"Starboy (album)\">Starboy</a></i>\n",
       "</th>\n",
       "<td>\n",
       "<ul><li>Released: November 25, 2016<sup class=\"reference\" id=\"cite_ref-25\"><a href=\"#cite_note-25\">[24]</a></sup></li>\n",
       "<li>Label: XO, Republic</li>\n",
       "<li>Formats: CD, LP, digital download</li></ul>\n",
       "</td>\n",
       "<td>1</td>\n",
       "<td>1</td>\n",
       "<td>1</td>\n",
       "<td>10</td>\n",
       "<td>10</td>\n",
       "<td>3</td>\n",
       "<td>5</td>\n",
       "<td>1</td>\n",
       "<td>5</td>\n",
       "<td>1\n",
       "</td>\n",
       "<td>\n",
       "<ul><li>US: 209,000 + 275,000--&gt;<sup class=\"reference\" id=\"cite_ref-28\"><a href=\"#cite_note-28\">[B]</a></sup></li></ul>\n",
       "</td>\n",
       "<td>\n",
       "<ul><li>MC: 3× Platinum<sup class=\"reference\" id=\"cite_ref-MC_13-2\"><a href=\"#cite_note-MC-13\">[13]</a></sup></li>\n",
       "<li>ARIA: Gold<sup class=\"reference\" id=\"cite_ref-29\"><a href=\"#cite_note-29\">[27]</a></sup></li>\n",
       "<li>BPI: Platinum<sup class=\"reference\" id=\"cite_ref-BPI_14-2\"><a href=\"#cite_note-BPI-14\">[14]</a></sup></li>\n",
       "<li>BVMI: Gold<sup class=\"reference\" id=\"cite_ref-BVMI_21-1\"><a href=\"#cite_note-BVMI-21\">[20]</a></sup></li>\n",
       "<li>IFPI DEN: 3× Platinum<sup class=\"reference\" id=\"cite_ref-30\"><a href=\"#cite_note-30\">[28]</a></sup></li>\n",
       "<li>IFPI SWE: 2× Platinum<sup class=\"reference\" id=\"cite_ref-31\"><a href=\"#cite_note-31\">[29]</a></sup></li>\n",
       "<li>RIAA: 3× Platinum<sup class=\"reference\" id=\"cite_ref-RIAA_32-0\"><a href=\"#cite_note-RIAA-32\">[30]</a></sup></li>\n",
       "<li><a href=\"/wiki/Syndicat_National_de_l%27%C3%89dition_Phonographique\" title=\"Syndicat National de l'Édition Phonographique\">SNEP</a>: 2× Platinum<sup class=\"reference\" id=\"cite_ref-singles_cert_france_33-0\"><a href=\"#cite_note-singles_cert_france-33\">[31]</a></sup></li></ul>\n",
       "</td></tr>"
      ]
     },
     "execution_count": 187,
     "metadata": {},
     "output_type": "execute_result"
    }
   ],
   "source": [
    "tr[4]"
   ]
  },
  {
   "cell_type": "code",
   "execution_count": 186,
   "metadata": {},
   "outputs": [
    {
     "ename": "ValueError",
     "evalue": "could not convert string to float: '209000 + 275000--&gt;'",
     "output_type": "error",
     "traceback": [
      "\u001b[0;31m---------------------------------------------------------------------------\u001b[0m",
      "\u001b[0;31mValueError\u001b[0m                                Traceback (most recent call last)",
      "\u001b[0;32m<ipython-input-186-6df431f94e97>\u001b[0m in \u001b[0;36m<module>\u001b[0;34m\u001b[0m\n\u001b[1;32m     17\u001b[0m     \u001b[0mdelim\u001b[0m \u001b[0;34m=\u001b[0m \u001b[0ma\u001b[0m\u001b[0;34m.\u001b[0m\u001b[0mfind\u001b[0m\u001b[0;34m(\u001b[0m\u001b[0;34m'<'\u001b[0m\u001b[0;34m)\u001b[0m\u001b[0;34m\u001b[0m\u001b[0;34m\u001b[0m\u001b[0m\n\u001b[1;32m     18\u001b[0m     \u001b[0msale\u001b[0m \u001b[0;34m=\u001b[0m \u001b[0ma\u001b[0m\u001b[0;34m[\u001b[0m\u001b[0;34m:\u001b[0m\u001b[0mdelim\u001b[0m\u001b[0;34m]\u001b[0m\u001b[0;34m\u001b[0m\u001b[0;34m\u001b[0m\u001b[0m\n\u001b[0;32m---> 19\u001b[0;31m     \u001b[0msale\u001b[0m \u001b[0;34m=\u001b[0m \u001b[0mfloat\u001b[0m\u001b[0;34m(\u001b[0m\u001b[0msale\u001b[0m\u001b[0;34m.\u001b[0m\u001b[0mreplace\u001b[0m\u001b[0;34m(\u001b[0m\u001b[0;34m','\u001b[0m\u001b[0;34m,\u001b[0m\u001b[0;34m''\u001b[0m\u001b[0;34m)\u001b[0m\u001b[0;34m)\u001b[0m\u001b[0;34m\u001b[0m\u001b[0;34m\u001b[0m\u001b[0m\n\u001b[0m\u001b[1;32m     20\u001b[0m \u001b[0mprint\u001b[0m\u001b[0;34m(\u001b[0m\u001b[0malbum\u001b[0m\u001b[0;34m)\u001b[0m\u001b[0;34m\u001b[0m\u001b[0;34m\u001b[0m\u001b[0m\n\u001b[1;32m     21\u001b[0m \u001b[0mprint\u001b[0m\u001b[0;34m(\u001b[0m\u001b[0msale\u001b[0m\u001b[0;34m)\u001b[0m\u001b[0;34m\u001b[0m\u001b[0;34m\u001b[0m\u001b[0m\n",
      "\u001b[0;31mValueError\u001b[0m: could not convert string to float: '209000 + 275000--&gt;'"
     ]
    }
   ],
   "source": [
    "a = str(tr[4])\n",
    "delim = a.find('title=')\n",
    "if delim != -1:\n",
    "    a = a[delim + 6:]\n",
    "    delim = a.find('>')\n",
    "    album = a[:delim]\n",
    "    album = album.replace(\"'\", \"\")\n",
    "\n",
    "delim = a.find('US:')\n",
    "if delim != -1:\n",
    "    a = a[delim:]\n",
    "    for i, c in enumerate(a):\n",
    "        if c.isdigit():\n",
    "            delim = i\n",
    "            break\n",
    "    a = a[delim:]\n",
    "    delim = a.find('<')\n",
    "    sale = a[:delim]\n",
    "    sale = float(sale.replace(',',''))\n",
    "print(album)\n",
    "print(sale)"
   ]
  },
  {
   "cell_type": "code",
   "execution_count": null,
   "metadata": {},
   "outputs": [],
   "source": []
  }
 ],
 "metadata": {
  "kernelspec": {
   "display_name": "Python 3",
   "language": "python",
   "name": "python3"
  },
  "language_info": {
   "codemirror_mode": {
    "name": "ipython",
    "version": 3
   },
   "file_extension": ".py",
   "mimetype": "text/x-python",
   "name": "python",
   "nbconvert_exporter": "python",
   "pygments_lexer": "ipython3",
   "version": "3.6.8"
  }
 },
 "nbformat": 4,
 "nbformat_minor": 4
}
