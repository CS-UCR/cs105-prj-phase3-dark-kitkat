{
 "cells": [
  {
   "cell_type": "code",
   "execution_count": 193,
   "metadata": {},
   "outputs": [],
   "source": [
    "import pandas as pd\n",
    "import numpy as np\n",
    "\n",
    "from bs4 import BeautifulSoup"
   ]
  },
  {
   "cell_type": "code",
   "execution_count": 194,
   "metadata": {},
   "outputs": [],
   "source": [
    "def parse_table(table, len_table):\n",
    "    result = np.empty([0,2])\n",
    "    for i in range(2,len_table):\n",
    "        a = str(table[i])\n",
    "        delim = a.find('title=')\n",
    "        if delim == -1:\n",
    "            continue\n",
    "        a = a[delim + 6:]\n",
    "        delim = a.find('>')\n",
    "        album = a[:delim]\n",
    "        album = album.replace(\"'\", \"\")\n",
    "        delim = a.find('US:')\n",
    "        if delim == -1:\n",
    "            delim = a.find('US</a>:')\n",
    "            if delim == -1:\n",
    "                continue\n",
    "        a = a[delim:]\n",
    "        for i, c in enumerate(a):\n",
    "            if c.isdigit():\n",
    "                delim = i\n",
    "                break\n",
    "        a = a[delim:]\n",
    "        delim = a.find('<')\n",
    "        sale = a[:delim]\n",
    "        sale = float(sale.replace(',',''))\n",
    "        result = np.append(result, [[album, sale]],axis = 0)\n",
    "    return result"
   ]
  },
  {
   "cell_type": "code",
   "execution_count": 214,
   "metadata": {},
   "outputs": [],
   "source": [
    "with open (\"wiki_json.txt\", \"r\") as my_file:\n",
    "    data = my_file.readlines()\n",
    "    data = [x.strip() for x in data] "
   ]
  },
  {
   "cell_type": "code",
   "execution_count": 215,
   "metadata": {},
   "outputs": [
    {
     "data": {
      "text/plain": [
       "27"
      ]
     },
     "execution_count": 215,
     "metadata": {},
     "output_type": "execute_result"
    }
   ],
   "source": [
    "len_file = len(data)\n",
    "len_file"
   ]
  },
  {
   "cell_type": "code",
   "execution_count": 223,
   "metadata": {},
   "outputs": [
    {
     "data": {
      "text/plain": [
       "'\"<tbody><tr>\\\\n<th scope=\\\\\"col\\\\\" rowspan=\\\\\"2\\\\\" style=\\\\\"width:11em;\\\\\">Title\\\\n</th>\\\\n<th scope=\\\\\"col\\\\\" rowspan=\\\\\"2\\\\\" style=\\\\\"width:21em;\\\\\">Album details\\\\n</th>\\\\n<th scope=\\\\\"col\\\\\" colspan=\\\\\"10\\\\\">Peak chart positions\\\\n</th>\\\\n<th scope=\\\\\"col\\\\\" rowspan=\\\\\"2\\\\\" style=\\\\\"width:11em;\\\\\">Sales\\\\n</th>\\\\n<th scope=\\\\\"col\\\\\" rowspan=\\\\\"2\\\\\" style=\\\\\"width:14em;\\\\\"><a href=\\\\\"/wiki/List_of_music_recording_certifications\\\\\" title=\\\\\"List of music recording certifications\\\\\">Certifications</a>\\\\n</th></tr>\\\\n<tr>\\\\n<th scope=\\\\\"col\\\\\" style=\\\\\"width:2.5em;font-size:85%;\\\\\"><a href=\\\\\"/wiki/Billboard_200\\\\\" title=\\\\\"Billboard 200\\\\\">US</a><br><sup id=\\\\\"cite_ref-US-albums_2-2\\\\\" class=\\\\\"reference\\\\\"><a href=\\\\\"#cite_note-US-albums-2\\\\\">[2]</a></sup>\\\\n</th>\\\\n<th scope=\\\\\"col\\\\\" style=\\\\\"width:2.5em;font-size:85%;\\\\\"><a href=\\\\\"/wiki/Top_R%26B/Hip-Hop_Albums\\\\\" title=\\\\\"Top R&amp;B/Hip-Hop Albums\\\\\">US<br>R&amp;B/<br>HH</a><br><sup id=\\\\\"cite_ref-US-R&amp;B-albums_1-1\\\\\" class=\\\\\"reference\\\\\"><a href=\\\\\"#cite_note-US-R&amp;B-albums-1\\\\\">[1]</a></sup>\\\\n</th>\\\\n<th scope=\\\\\"col\\\\\" style=\\\\\"width:2.5em;font-size:85%;\\\\\"><a href=\\\\\"/wiki/ARIA_Charts\\\\\" title=\\\\\"ARIA Charts\\\\\">AUS</a><br><sup id=\\\\\"cite_ref-AUS_14-0\\\\\" class=\\\\\"reference\\\\\"><a href=\\\\\"#cite_note-AUS-14\\\\\">[14]</a></sup>\\\\n</th>\\\\n<th scope=\\\\\"col\\\\\" style=\\\\\"width:2.5em;font-size:85%;\\\\\"><a href=\\\\\"/wiki/Ultratop\\\\\" title=\\\\\"Ultratop\\\\\">BEL (FL)</a><br><sup id=\\\\\"cite_ref-BEL_15-0\\\\\" class=\\\\\"reference\\\\\"><a href=\\\\\"#cite_note-BEL-15\\\\\">[15]</a></sup>\\\\n</th>\\\\n<th scope=\\\\\"col\\\\\" style=\\\\\"width:2.5em;font-size:85%;\\\\\"><a href=\\\\\"/wiki/Canadian_Albums_Chart\\\\\" title=\\\\\"Canadian Albums Chart\\\\\">CAN</a><br><sup id=\\\\\"cite_ref-CAN-albums_16-0\\\\\" class=\\\\\"reference\\\\\"><a href=\\\\\"#cite_note-CAN-albums-16\\\\\">[16]</a></sup>\\\\n</th>\\\\n<th scope=\\\\\"col\\\\\" style=\\\\\"width:2.5em;font-size:85%;\\\\\"><a href=\\\\\"/wiki/Syndicat_National_de_l%27%C3%89dition_Phonographique\\\\\" title=\\\\\"Syndicat National de l\\'\\\\u00c9dition Phonographique\\\\\">FRA</a><br><sup id=\\\\\"cite_ref-FRA_17-0\\\\\" class=\\\\\"reference\\\\\"><a href=\\\\\"#cite_note-FRA-17\\\\\">[17]</a></sup>\\\\n</th>\\\\n<th scope=\\\\\"col\\\\\" style=\\\\\"width:2.5em;font-size:85%;\\\\\"><a href=\\\\\"/wiki/Irish_Albums_Chart\\\\\" title=\\\\\"Irish Albums Chart\\\\\">IRL</a><br><sup id=\\\\\"cite_ref-IRL_18-0\\\\\" class=\\\\\"reference\\\\\"><a href=\\\\\"#cite_note-IRL-18\\\\\">[18]</a></sup>\\\\n</th>\\\\n<th scope=\\\\\"col\\\\\" style=\\\\\"width:2.5em;font-size:85%;\\\\\"><a href=\\\\\"/wiki/Official_New_Zealand_Music_Chart\\\\\" title=\\\\\"Official New Zealand Music Chart\\\\\">NZ</a><br><sup id=\\\\\"cite_ref-NZ_19-0\\\\\" class=\\\\\"reference\\\\\"><a href=\\\\\"#cite_note-NZ-19\\\\\">[19]</a></sup>\\\\n</th>\\\\n<th scope=\\\\\"col\\\\\" style=\\\\\"width:2.5em;font-size:85%;\\\\\"><a href=\\\\\"/wiki/Swiss_Hitparade\\\\\" title=\\\\\"Swiss Hitparade\\\\\">SWI</a><br><sup id=\\\\\"cite_ref-SWI_20-0\\\\\" class=\\\\\"reference\\\\\"><a href=\\\\\"#cite_note-SWI-20\\\\\">[20]</a></sup>\\\\n</th>\\\\n<th scope=\\\\\"col\\\\\" style=\\\\\"width:2.5em;font-size:85%;\\\\\"><a href=\\\\\"/wiki/UK_Albums_Chart\\\\\" title=\\\\\"UK Albums Chart\\\\\">UK</a><br><sup id=\\\\\"cite_ref-UK_21-0\\\\\" class=\\\\\"reference\\\\\"><a href=\\\\\"#cite_note-UK-21\\\\\">[21]</a></sup>\\\\n</th></tr>\\\\n<tr>\\\\n<th scope=\\\\\"row\\\\\"><i><a href=\\\\\"/wiki/Section.80\\\\\" title=\\\\\"Section.80\\\\\">Section.80</a></i>\\\\n</th>\\\\n<td>\\\\n<ul><li>Released: July 2, 2011 <span style=\\\\\"font-size:85%;\\\\\">(US)</span><sup id=\\\\\"cite_ref-22\\\\\" class=\\\\\"reference\\\\\"><a href=\\\\\"#cite_note-22\\\\\">[22]</a></sup></li>\\\\n<li>Label: <a href=\\\\\"/wiki/Top_Dawg_Entertainment\\\\\" title=\\\\\"Top Dawg Entertainment\\\\\">Top Dawg</a></li>\\\\n<li>Format: <a href=\\\\\"/wiki/Compact_Disc\\\\\" class=\\\\\"mw-redirect\\\\\" title=\\\\\"Compact Disc\\\\\">CD</a>, <a href=\\\\\"/wiki/Music_download\\\\\" title=\\\\\"Music download\\\\\">digital download</a></li></ul>\\\\n</td>\\\\n<td>113</td>\\\\n<td>21</td>\\\\n<td>\\\\u2014</td>\\\\n<td>\\\\u2014</td>\\\\n<td>\\\\u2014</td>\\\\n<td>\\\\u2014</td>\\\\n<td>\\\\u2014</td>\\\\n<td>\\\\u2014</td>\\\\n<td>\\\\u2014</td>\\\\n<td>\\\\u2014\\\\n</td>\\\\n<td>\\\\n<ul><li>US: 130,000<sup id=\\\\\"cite_ref-24\\\\\" class=\\\\\"reference\\\\\"><a href=\\\\\"#cite_note-24\\\\\">[A]</a></sup></li>\\\\n<li>UK: 27,348<sup id=\\\\\"cite_ref-UK-sales-2017_25-0\\\\\" class=\\\\\"reference\\\\\"><a href=\\\\\"#cite_note-UK-sales-2017-25\\\\\">[24]</a></sup></li></ul>\\\\n</td>\\\\n<td>\\\\n<ul><li><a href=\\\\\"/wiki/Recording_Industry_Association_of_America\\\\\" title=\\\\\"Recording Industry Association of America\\\\\">RIAA</a>: Gold<sup id=\\\\\"cite_ref-RIAA_26-0\\\\\" class=\\\\\"reference\\\\\"><a href=\\\\\"#cite_note-RIAA-26\\\\\">[25]</a></sup></li></ul>\\\\n</td></tr>\\\\n<tr>\\\\n<th scope=\\\\\"row\\\\\"><i><a href=\\\\\"/wiki/Good_Kid,_M.A.A.D_City\\\\\" title=\\\\\"Good Kid, M.A.A.D City\\\\\">Good Kid, M.A.A.D City</a></i>\\\\n</th>\\\\n<td>\\\\n<ul><li>Release: October 22, 2012 <span style=\\\\\"font-size:85%;\\\\\">(US)</span><sup id=\\\\\"cite_ref-27\\\\\" class=\\\\\"reference\\\\\"><a href=\\\\\"#cite_note-27\\\\\">[26]</a></sup></li>\\\\n<li>Label: Top Dawg, <a href=\\\\\"/wiki/Aftermath_Entertainment\\\\\" title=\\\\\"Aftermath Entertainment\\\\\">Aftermath</a>, <a href=\\\\\"/wiki/Interscope_Records\\\\\" title=\\\\\"Interscope Records\\\\\">Interscope</a></li>\\\\n<li>Formats: CD, <a href=\\\\\"/wiki/LP_record\\\\\" title=\\\\\"LP record\\\\\">LP</a>, digital download</li></ul>\\\\n</td>\\\\n<td>2</td>\\\\n<td>1</td>\\\\n<td>23</td>\\\\n<td>46</td>\\\\n<td>2</td>\\\\n<td>57</td>\\\\n<td>26</td>\\\\n<td>7</td>\\\\n<td>38</td>\\\\n<td>16\\\\n</td>\\\\n<td>\\\\n<ul><li>US: 1,720,000<sup id=\\\\\"cite_ref-29\\\\\" class=\\\\\"reference\\\\\"><a href=\\\\\"#cite_note-29\\\\\">[B]</a></sup></li>\\\\n<li>UK: 193,333<sup id=\\\\\"cite_ref-UK-sales-2017_25-1\\\\\" class=\\\\\"reference\\\\\"><a href=\\\\\"#cite_note-UK-sales-2017-25\\\\\">[24]</a></sup></li></ul>\\\\n</td>\\\\n<td>\\\\n<ul><li>RIAA: 3\\\\u00d7 Platinum<sup id=\\\\\"cite_ref-RIAA_26-1\\\\\" class=\\\\\"reference\\\\\"><a href=\\\\\"#cite_note-RIAA-26\\\\\">[25]</a></sup></li>\\\\n<li><a href=\\\\\"/wiki/British_Phonographic_Industry\\\\\" title=\\\\\"British Phonographic Industry\\\\\">BPI</a>: Platinum<sup id=\\\\\"cite_ref-BPI_30-0\\\\\" class=\\\\\"reference\\\\\"><a href=\\\\\"#cite_note-BPI-30\\\\\">[28]</a></sup></li>\\\\n<li><a href=\\\\\"/wiki/Music_Canada\\\\\" title=\\\\\"Music Canada\\\\\">MC</a>: Gold<sup id=\\\\\"cite_ref-MC_31-0\\\\\" class=\\\\\"reference\\\\\"><a href=\\\\\"#cite_note-MC-31\\\\\">[29]</a></sup></li>\\\\n<li><a href=\\\\\"/wiki/Recorded_Music_NZ\\\\\" title=\\\\\"Recorded Music NZ\\\\\">RMNZ</a>: Platinum<sup id=\\\\\"cite_ref-32\\\\\" class=\\\\\"reference\\\\\"><a href=\\\\\"#cite_note-32\\\\\">[30]</a></sup></li></ul>\\\\n</td></tr>\\\\n<tr>\\\\n<th scope=\\\\\"row\\\\\"><i><a href=\\\\\"/wiki/To_Pimp_a_Butterfly\\\\\" title=\\\\\"To Pimp a Butterfly\\\\\">To Pimp a Butterfly</a></i>\\\\n</th>\\\\n<td>\\\\n<ul><li>Release: March 16, 2015 <span style=\\\\\"font-size:85%;\\\\\">(US)</span></li>\\\\n<li>Label: Top Dawg, Aftermath, Interscope Records</li>\\\\n<li>Formats: CD, LP, digital download</li></ul>\\\\n</td>\\\\n<td>1</td>\\\\n<td>1</td>\\\\n<td>1</td>\\\\n<td>4</td>\\\\n<td>1</td>\\\\n<td>17</td>\\\\n<td>6</td>\\\\n<td>1</td>\\\\n<td>3</td>\\\\n<td>1\\\\n</td>\\\\n<td>\\\\n<ul><li>US: 1,050,000<sup id=\\\\\"cite_ref-33\\\\\" class=\\\\\"reference\\\\\"><a href=\\\\\"#cite_note-33\\\\\">[C]</a></sup></li>\\\\n<li>UK: 170,162<sup id=\\\\\"cite_ref-UK-sales-2017_25-2\\\\\" class=\\\\\"reference\\\\\"><a href=\\\\\"#cite_note-UK-sales-2017-25\\\\\">[24]</a></sup></li></ul>\\\\n</td>\\\\n<td>\\\\n<ul><li>RIAA: Platinum<sup id=\\\\\"cite_ref-RIAA_26-2\\\\\" class=\\\\\"reference\\\\\"><a href=\\\\\"#cite_note-RIAA-26\\\\\">[25]</a></sup></li>\\\\n<li><a href=\\\\\"/wiki/Australian_Recording_Industry_Association\\\\\" title=\\\\\"Australian Recording Industry Association\\\\\">ARIA</a>: Gold<sup id=\\\\\"cite_ref-34\\\\\" class=\\\\\"reference\\\\\"><a href=\\\\\"#cite_note-34\\\\\">[31]</a></sup></li>\\\\n<li>BPI: Gold<sup id=\\\\\"cite_ref-BPI_30-1\\\\\" class=\\\\\"reference\\\\\"><a href=\\\\\"#cite_note-BPI-30\\\\\">[28]</a></sup></li></ul>\\\\n</td></tr>\\\\n<tr>\\\\n<th scope=\\\\\"row\\\\\"><i><a href=\\\\\"/wiki/Damn_(Kendrick_Lamar_album)\\\\\" title=\\\\\"Damn (Kendrick Lamar album)\\\\\">Damn</a></i>\\\\n</th>\\\\n<td>\\\\n<ul><li>Release: April 14, 2017 <span style=\\\\\"font-size:85%;\\\\\">(US)</span><sup id=\\\\\"cite_ref-35\\\\\" class=\\\\\"reference\\\\\"><a href=\\\\\"#cite_note-35\\\\\">[32]</a></sup></li>\\\\n<li>Label: Top Dawg, Aftermath, Interscope</li>\\\\n<li>Formats: CD, LP, digital download</li></ul>\\\\n</td>\\\\n<td>1</td>\\\\n<td>1</td>\\\\n<td>2</td>\\\\n<td>2</td>\\\\n<td>1</td>\\\\n<td>3</td>\\\\n<td>2</td>\\\\n<td>2</td>\\\\n<td>3</td>\\\\n<td>2\\\\n</td>\\\\n<td>\\\\n<ul><li>WW: 5,000,000 <sup id=\\\\\"cite_ref-37\\\\\" class=\\\\\"reference\\\\\"><a href=\\\\\"#cite_note-37\\\\\">[D]</a></sup></li>\\\\n<li>US: 1,002,000<sup id=\\\\\"cite_ref-39\\\\\" class=\\\\\"reference\\\\\"><a href=\\\\\"#cite_note-39\\\\\">[E]</a></sup></li></ul>\\\\n</td>\\\\n<td>\\\\n<ul><li>RIAA: 3\\\\u00d7 Platinum<sup id=\\\\\"cite_ref-riaacert_13-1\\\\\" class=\\\\\"reference\\\\\"><a href=\\\\\"#cite_note-riaacert-13\\\\\">[13]</a></sup></li>\\\\n<li>ARIA: Gold<sup id=\\\\\"cite_ref-40\\\\\" class=\\\\\"reference\\\\\"><a href=\\\\\"#cite_note-40\\\\\">[35]</a></sup></li>\\\\n<li>BPI: Gold<sup id=\\\\\"cite_ref-BPI_30-2\\\\\" class=\\\\\"reference\\\\\"><a href=\\\\\"#cite_note-BPI-30\\\\\">[28]</a></sup></li>\\\\n<li>RMNZ: 2\\\\u00d7 Platinum<sup id=\\\\\"cite_ref-41\\\\\" class=\\\\\"reference\\\\\"><a href=\\\\\"#cite_note-41\\\\\">[36]</a></sup></li>\\\\n<li><a href=\\\\\"/wiki/Syndicat_National_de_l%27%C3%89dition_Phonographique\\\\\" title=\\\\\"Syndicat National de l\\'\\\\u00c9dition Phonographique\\\\\">SNEP</a>: Platinum<sup id=\\\\\"cite_ref-SNEP_42-0\\\\\" class=\\\\\"reference\\\\\"><a href=\\\\\"#cite_note-SNEP-42\\\\\">[37]</a></sup></li></ul>\\\\n</td></tr>\\\\n<tr>\\\\n<td colspan=\\\\\"15\\\\\" style=\\\\\"font-size:90%\\\\\">\\\\\"\\\\u2014\\\\\" denotes a recording that did not chart or was not released in that territory.\\\\n</td></tr></tbody>\"'"
      ]
     },
     "execution_count": 223,
     "metadata": {},
     "output_type": "execute_result"
    }
   ],
   "source": [
    "data[0]"
   ]
  },
  {
   "cell_type": "code",
   "execution_count": null,
   "metadata": {},
   "outputs": [],
   "source": []
  },
  {
   "cell_type": "code",
   "execution_count": 222,
   "metadata": {},
   "outputs": [
    {
     "data": {
      "text/plain": [
       "array([['\\\\\"Section.80\\\\\"', '130000.0'],\n",
       "       ['\\\\\"Good', '1720000.0'],\n",
       "       ['\\\\\"To', '1050000.0'],\n",
       "       ['\\\\\"Damn', '1002000.0']], dtype='<U32')"
      ]
     },
     "execution_count": 222,
     "metadata": {},
     "output_type": "execute_result"
    }
   ],
   "source": [
    "html_doc = data[0]\n",
    "html_doc = html_doc[1:-1]\n",
    "soup = BeautifulSoup(html_doc, 'html.parser')\n",
    "tr = soup.find_all('tr')\n",
    "len_table = len(tr)\n",
    "result = parse_table(tr, len_table)\n",
    "result"
   ]
  },
  {
   "cell_type": "code",
   "execution_count": 191,
   "metadata": {},
   "outputs": [],
   "source": []
  }
 ],
 "metadata": {
  "kernelspec": {
   "display_name": "Python 3",
   "language": "python",
   "name": "python3"
  },
  "language_info": {
   "codemirror_mode": {
    "name": "ipython",
    "version": 3
   },
   "file_extension": ".py",
   "mimetype": "text/x-python",
   "name": "python",
   "nbconvert_exporter": "python",
   "pygments_lexer": "ipython3",
   "version": "3.6.8"
  }
 },
 "nbformat": 4,
 "nbformat_minor": 4
}
