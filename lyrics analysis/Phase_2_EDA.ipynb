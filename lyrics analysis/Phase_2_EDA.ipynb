{
 "cells": [
  {
   "cell_type": "code",
   "execution_count": 1,
   "metadata": {},
   "outputs": [],
   "source": [
    "import pandas as pd\n",
    "import numpy as np"
   ]
  },
  {
   "cell_type": "markdown",
   "metadata": {},
   "source": [
    "<br>\n",
    "read data_1  -- albums names and sales(!) (scraped from wikipedia)<br>\n",
    "read lyricDataset -- albums names and lyrics(!) (API from Genius) "
   ]
  },
  {
   "cell_type": "code",
   "execution_count": 2,
   "metadata": {},
   "outputs": [],
   "source": [
    "df_1 = pd.read_csv('data_1.csv')\n",
    "columns = ['Artist', 'Title', 'Album', 'Lyric_views', 'Release_date', 'Featured_art',\n",
    "           '#_words', 'Lyrics']\n",
    "df_2 = pd.read_csv('lyricDataset.csv', names = columns)"
   ]
  },
  {
   "cell_type": "markdown",
   "metadata": {},
   "source": [
    "<br>\n",
    "drop unnecessary columns"
   ]
  },
  {
   "cell_type": "code",
   "execution_count": 3,
   "metadata": {},
   "outputs": [],
   "source": [
    "lyrics = df_2.drop(['Title', 'Release_date', 'Featured_art', '#_words'], axis = 1)"
   ]
  },
  {
   "cell_type": "markdown",
   "metadata": {},
   "source": [
    "<br>\n",
    "leave in dataframe \"lyrics\" only those rows which has albums from dataframe df_1 with sales"
   ]
  },
  {
   "cell_type": "code",
   "execution_count": 4,
   "metadata": {},
   "outputs": [],
   "source": [
    "albums = np.array(df_1['Album'])\n",
    "lyrics = lyrics[lyrics['Album'].isin(albums)]"
   ]
  },
  {
   "cell_type": "markdown",
   "metadata": {},
   "source": [
    "<br>\n",
    "now leave in dataframe \"sales\" only rows with albums from dataframe \"lyrics\""
   ]
  },
  {
   "cell_type": "code",
   "execution_count": 5,
   "metadata": {},
   "outputs": [],
   "source": [
    "almums = np.array(lyrics['Album'])\n",
    "sales = df_1[df_1['Album'].isin(albums)]"
   ]
  },
  {
   "cell_type": "code",
   "execution_count": 6,
   "metadata": {},
   "outputs": [],
   "source": [
    "sales.reset_index(drop=True, inplace=True)\n",
    "lyrics.reset_index(drop=True, inplace=True)"
   ]
  },
  {
   "cell_type": "code",
   "execution_count": 7,
   "metadata": {},
   "outputs": [
    {
     "data": {
      "text/plain": [
       "168"
      ]
     },
     "execution_count": 7,
     "metadata": {},
     "output_type": "execute_result"
    }
   ],
   "source": [
    "sales['Album'].nunique()"
   ]
  },
  {
   "cell_type": "code",
   "execution_count": 8,
   "metadata": {},
   "outputs": [
    {
     "data": {
      "text/plain": [
       "90"
      ]
     },
     "execution_count": 8,
     "metadata": {},
     "output_type": "execute_result"
    }
   ],
   "source": [
    "lyrics['Album'].nunique()"
   ]
  },
  {
   "cell_type": "markdown",
   "metadata": {},
   "source": [
    "<br>\n",
    "take lyrics from \"lyrics\" and prepare it for analysis (take out punctuation and put in lowercase)"
   ]
  },
  {
   "cell_type": "code",
   "execution_count": 9,
   "metadata": {},
   "outputs": [],
   "source": [
    "str_array = lyrics['Lyrics'].to_numpy()"
   ]
  },
  {
   "cell_type": "code",
   "execution_count": 10,
   "metadata": {},
   "outputs": [],
   "source": [
    "length = len(str_array)"
   ]
  },
  {
   "cell_type": "code",
   "execution_count": 11,
   "metadata": {},
   "outputs": [],
   "source": [
    "import string\n",
    "for i in range(length):\n",
    "    str_array[i] = str_array[i].translate(string.punctuation).replace('+', ' ').lower()"
   ]
  },
  {
   "cell_type": "markdown",
   "metadata": {},
   "source": [
    "<br>\n",
    "Run sentiment_analysis for each string (lyrics) and store result in 'sent_result'"
   ]
  },
  {
   "cell_type": "code",
   "execution_count": 12,
   "metadata": {},
   "outputs": [],
   "source": [
    "sent_result = np.empty(length)"
   ]
  },
  {
   "cell_type": "code",
   "execution_count": 13,
   "metadata": {},
   "outputs": [],
   "source": [
    "from vaderSentiment.vaderSentiment import SentimentIntensityAnalyzer\n",
    "#note: depending on how you installed (e.g., using source code download versus pip install), you may need to import like this:\n",
    "#from vaderSentiment import SentimentIntensityAnalyzer\n",
    "\n",
    "analyzer = SentimentIntensityAnalyzer()\n",
    "for i in range(length):\n",
    "    sent_result[i] = analyzer.polarity_scores(str_array[i])['compound']"
   ]
  },
  {
   "cell_type": "code",
   "execution_count": 14,
   "metadata": {},
   "outputs": [
    {
     "data": {
      "text/plain": [
       "array([ 0.9973, -0.5122,  0.9897,  0.9224,  0.9986,  0.9938,  0.9923,\n",
       "       -0.9722, -0.9789,  0.9991,  0.9853,  0.9976,  0.8748,  0.9963,\n",
       "        0.9992,  0.9995, -0.9971,  0.8759,  0.9562,  0.9807,  0.6966,\n",
       "        0.9825,  0.9901,  0.9955,  0.9988, -0.9934,  0.9904,  0.9971,\n",
       "        0.9863, -0.8246,  0.9376,  0.9928, -0.9825, -0.9844,  0.9903,\n",
       "       -0.9547,  0.9877,  0.9821, -0.9114,  0.1672, -0.9924, -0.971 ,\n",
       "        0.5269,  0.9954, -0.9349, -0.9879, -0.9197, -0.999 , -0.9894,\n",
       "       -0.9993,  0.8901,  0.9947, -0.9939, -0.3773,  0.9945, -0.9822,\n",
       "        0.9579,  0.9974,  0.2669,  0.9932, -0.2826,  0.9958,  0.9463,\n",
       "       -0.9859, -0.7554,  0.9926,  0.9716,  0.9983,  0.9921,  0.9324,\n",
       "        0.986 ,  0.9039,  0.9995,  0.988 ,  0.9936,  0.9793,  0.9952,\n",
       "       -0.5499,  0.9936,  0.9618,  0.9751,  0.9951,  0.999 , -0.9522,\n",
       "       -0.9969, -0.9858, -0.9828, -0.9996,  0.9233, -0.9823, -0.9978,\n",
       "        0.8872, -0.9942, -0.979 , -0.9983, -0.9994, -0.9995,  0.9994,\n",
       "       -0.9997, -0.9983, -0.9969, -0.9933,  0.7768, -0.9998,  0.8935,\n",
       "       -0.1521,  0.9886,  0.9989,  0.9987,  0.9876,  0.9932, -0.765 ,\n",
       "        0.7667,  0.9064,  0.3189,  0.9998,  0.991 ,  0.9997,  0.9606,\n",
       "        0.9755,  0.8214,  0.9856,  0.998 ,  0.9994,  0.1186, -0.9778,\n",
       "        0.9439,  0.9973,  0.9923,  0.6579,  0.9974, -0.8667,  0.9679,\n",
       "        0.9803,  0.9951,  0.9967,  0.9971,  0.9705,  0.99  ,  0.9871,\n",
       "       -0.9978, -0.9995, -0.9908, -0.9924, -0.9949, -0.987 , -0.9984,\n",
       "        0.9128, -0.998 ,  0.9259, -0.9983,  0.9987, -0.9971,  0.9756,\n",
       "        0.9561,  0.9809,  0.9864, -0.5859, -0.9972, -0.9757,  0.9913,\n",
       "       -0.9601,  0.7   , -0.9915, -0.9974,  0.9757, -0.9986,  0.9792,\n",
       "       -0.9983, -0.9867, -0.9987, -0.9842,  0.9706, -0.9941, -0.9856,\n",
       "        0.9933, -0.999 , -0.9976, -0.9988, -0.9303,  0.9963,  0.997 ,\n",
       "        0.9934, -0.9204,  0.9878, -0.8331, -0.9829,  0.9042, -0.9953,\n",
       "        0.9996, -0.9989, -0.9991, -0.9952, -0.9984, -0.9772, -0.9992,\n",
       "       -0.9966, -0.9934,  0.9781,  0.6075, -0.9758,  0.9916,  0.9919,\n",
       "        0.9899, -0.9954,  0.9981, -0.1734, -0.9508,  0.9932, -0.9991,\n",
       "       -0.8081, -0.839 ,  0.9971, -0.9893, -0.9938,  0.9773, -0.5802,\n",
       "       -0.8676,  0.9978, -0.9659,  0.937 , -0.9995, -0.9953, -0.998 ,\n",
       "        0.6568, -0.9987, -0.994 ,  0.9986,  0.9907,  0.769 , -0.998 ,\n",
       "        0.9985, -0.9952,  0.9909, -0.9904, -0.9897,  0.9522, -0.9992,\n",
       "       -0.9964,  0.9933,  0.9972, -0.9725,  0.9715,  0.7587,  0.999 ,\n",
       "       -0.974 ,  0.9992, -0.7678,  0.9367, -0.9908,  0.9983,  0.9976,\n",
       "       -0.9422, -0.3736,  0.9854,  0.901 ,  0.4611, -0.9943,  0.9857,\n",
       "        0.802 ,  0.4054,  0.9879, -0.9417, -0.988 , -0.9726, -0.9865,\n",
       "        0.9725, -0.9612, -0.9951,  0.9324,  0.9608, -0.655 ,  0.9995,\n",
       "        0.9974, -0.9932, -0.9893,  0.9995, -0.9408,  0.9977,  0.9649,\n",
       "        0.9682, -0.9985,  0.8586, -0.9837,  0.9989,  0.8767,  0.9985,\n",
       "        0.985 , -0.8275,  0.6219,  0.7138,  0.9684,  0.9971,  0.9461,\n",
       "       -0.9707, -0.7078,  0.9096, -0.6705, -0.989 ,  0.6476, -0.982 ,\n",
       "        0.7206, -0.9858,  0.9963, -0.993 , -0.9986, -0.7968,  0.8943,\n",
       "       -0.9819, -0.9954, -0.9876, -0.9807,  0.9957,  0.7527, -0.9996,\n",
       "       -0.9719,  0.9965, -0.9854,  0.9938,  0.9515])"
      ]
     },
     "execution_count": 14,
     "metadata": {},
     "output_type": "execute_result"
    }
   ],
   "source": [
    "sent_result"
   ]
  },
  {
   "cell_type": "code",
   "execution_count": 15,
   "metadata": {},
   "outputs": [],
   "source": [
    "x = pd.Series(sent_result)"
   ]
  },
  {
   "cell_type": "code",
   "execution_count": 16,
   "metadata": {},
   "outputs": [],
   "source": [
    "lyrics = lyrics.assign(Sent = x)"
   ]
  },
  {
   "cell_type": "code",
   "execution_count": 17,
   "metadata": {},
   "outputs": [
    {
     "data": {
      "text/html": [
       "<div>\n",
       "<style scoped>\n",
       "    .dataframe tbody tr th:only-of-type {\n",
       "        vertical-align: middle;\n",
       "    }\n",
       "\n",
       "    .dataframe tbody tr th {\n",
       "        vertical-align: top;\n",
       "    }\n",
       "\n",
       "    .dataframe thead th {\n",
       "        text-align: right;\n",
       "    }\n",
       "</style>\n",
       "<table border=\"1\" class=\"dataframe\">\n",
       "  <thead>\n",
       "    <tr style=\"text-align: right;\">\n",
       "      <th></th>\n",
       "      <th>Artist</th>\n",
       "      <th>Album</th>\n",
       "      <th>Lyric_views</th>\n",
       "      <th>Lyrics</th>\n",
       "      <th>Sent</th>\n",
       "    </tr>\n",
       "  </thead>\n",
       "  <tbody>\n",
       "    <tr>\n",
       "      <th>0</th>\n",
       "      <td>Ariana Grande</td>\n",
       "      <td>Sweetener</td>\n",
       "      <td>3034628</td>\n",
       "      <td>you  you love it how i move you you love it ho...</td>\n",
       "      <td>0.9973</td>\n",
       "    </tr>\n",
       "    <tr>\n",
       "      <th>1</th>\n",
       "      <td>Ariana Grande</td>\n",
       "      <td>Dangerous Woman</td>\n",
       "      <td>2634773</td>\n",
       "      <td>i've been here all night (ariana) i've been he...</td>\n",
       "      <td>-0.5122</td>\n",
       "    </tr>\n",
       "    <tr>\n",
       "      <th>2</th>\n",
       "      <td>Ariana Grande</td>\n",
       "      <td>Sweetener</td>\n",
       "      <td>2628876</td>\n",
       "      <td>right now  i'm in a state of mind i wanna be i...</td>\n",
       "      <td>0.9897</td>\n",
       "    </tr>\n",
       "    <tr>\n",
       "      <th>3</th>\n",
       "      <td>Ariana Grande</td>\n",
       "      <td>Sweetener</td>\n",
       "      <td>1824759</td>\n",
       "      <td>lacigam gnihtemos od ot thgin laiceps ruoy s't...</td>\n",
       "      <td>0.9224</td>\n",
       "    </tr>\n",
       "    <tr>\n",
       "      <th>4</th>\n",
       "      <td>Ariana Grande</td>\n",
       "      <td>Sweetener</td>\n",
       "      <td>1138842</td>\n",
       "      <td>mmm  yeah  yuh  i thought you into my life (wh...</td>\n",
       "      <td>0.9986</td>\n",
       "    </tr>\n",
       "    <tr>\n",
       "      <th>...</th>\n",
       "      <td>...</td>\n",
       "      <td>...</td>\n",
       "      <td>...</td>\n",
       "      <td>...</td>\n",
       "      <td>...</td>\n",
       "    </tr>\n",
       "    <tr>\n",
       "      <th>315</th>\n",
       "      <td>Justin Timberlake</td>\n",
       "      <td>Man of the Woods</td>\n",
       "      <td>137506</td>\n",
       "      <td>ain't no need of stopping  girl yeah  there ai...</td>\n",
       "      <td>-0.9719</td>\n",
       "    </tr>\n",
       "    <tr>\n",
       "      <th>316</th>\n",
       "      <td>Travis Scott</td>\n",
       "      <td>Birds in the Trap Sing McKnight</td>\n",
       "      <td>4067071</td>\n",
       "      <td>yeah 7:30 in the night  yeah ooh-oooh  ooh  i ...</td>\n",
       "      <td>0.9965</td>\n",
       "    </tr>\n",
       "    <tr>\n",
       "      <th>317</th>\n",
       "      <td>Travis Scott</td>\n",
       "      <td>Birds in the Trap Sing McKnight</td>\n",
       "      <td>1847257</td>\n",
       "      <td>that coca  i just poured an 8 in a liter throw...</td>\n",
       "      <td>-0.9854</td>\n",
       "    </tr>\n",
       "    <tr>\n",
       "      <th>318</th>\n",
       "      <td>Travis Scott</td>\n",
       "      <td>Birds in the Trap Sing McKnight</td>\n",
       "      <td>1134501</td>\n",
       "      <td>hmm  hmm  meh  meh mmm  meh  meh  meh hmm  hmm...</td>\n",
       "      <td>0.9938</td>\n",
       "    </tr>\n",
       "    <tr>\n",
       "      <th>319</th>\n",
       "      <td>Travis Scott</td>\n",
       "      <td>Birds in the Trap Sing McKnight</td>\n",
       "      <td>681268</td>\n",
       "      <td>2 am  howlin' outside lookin' but i cannot fin...</td>\n",
       "      <td>0.9515</td>\n",
       "    </tr>\n",
       "  </tbody>\n",
       "</table>\n",
       "<p>320 rows × 5 columns</p>\n",
       "</div>"
      ],
      "text/plain": [
       "                Artist                            Album  Lyric_views  \\\n",
       "0        Ariana Grande                        Sweetener      3034628   \n",
       "1        Ariana Grande                  Dangerous Woman      2634773   \n",
       "2        Ariana Grande                        Sweetener      2628876   \n",
       "3        Ariana Grande                        Sweetener      1824759   \n",
       "4        Ariana Grande                        Sweetener      1138842   \n",
       "..                 ...                              ...          ...   \n",
       "315  Justin Timberlake                 Man of the Woods       137506   \n",
       "316       Travis Scott  Birds in the Trap Sing McKnight      4067071   \n",
       "317       Travis Scott  Birds in the Trap Sing McKnight      1847257   \n",
       "318       Travis Scott  Birds in the Trap Sing McKnight      1134501   \n",
       "319       Travis Scott  Birds in the Trap Sing McKnight       681268   \n",
       "\n",
       "                                                Lyrics    Sent  \n",
       "0    you  you love it how i move you you love it ho...  0.9973  \n",
       "1    i've been here all night (ariana) i've been he... -0.5122  \n",
       "2    right now  i'm in a state of mind i wanna be i...  0.9897  \n",
       "3    lacigam gnihtemos od ot thgin laiceps ruoy s't...  0.9224  \n",
       "4    mmm  yeah  yuh  i thought you into my life (wh...  0.9986  \n",
       "..                                                 ...     ...  \n",
       "315  ain't no need of stopping  girl yeah  there ai... -0.9719  \n",
       "316  yeah 7:30 in the night  yeah ooh-oooh  ooh  i ...  0.9965  \n",
       "317  that coca  i just poured an 8 in a liter throw... -0.9854  \n",
       "318  hmm  hmm  meh  meh mmm  meh  meh  meh hmm  hmm...  0.9938  \n",
       "319  2 am  howlin' outside lookin' but i cannot fin...  0.9515  \n",
       "\n",
       "[320 rows x 5 columns]"
      ]
     },
     "execution_count": 17,
     "metadata": {},
     "output_type": "execute_result"
    }
   ],
   "source": [
    "lyrics"
   ]
  },
  {
   "cell_type": "code",
   "execution_count": 18,
   "metadata": {},
   "outputs": [],
   "source": [
    "x = lyrics.groupby('Album')['Sent'].mean()"
   ]
  },
  {
   "cell_type": "code",
   "execution_count": 19,
   "metadata": {},
   "outputs": [
    {
     "data": {
      "text/plain": [
       "Album\n",
       "...And Justice for All   -0.269633\n",
       "1000 Forms of Fear       -0.008975\n",
       "1989                     -0.309300\n",
       "24K Magic                 0.675413\n",
       "4:44                      0.279240\n",
       "                            ...   \n",
       "Views                     0.993533\n",
       "Wrapped in Red            0.990400\n",
       "Wu-Tang Forever          -0.582620\n",
       "X                        -0.202040\n",
       "Yeezus                   -0.992500\n",
       "Name: Sent, Length: 90, dtype: float64"
      ]
     },
     "execution_count": 19,
     "metadata": {},
     "output_type": "execute_result"
    }
   ],
   "source": [
    "x"
   ]
  },
  {
   "cell_type": "code",
   "execution_count": null,
   "metadata": {},
   "outputs": [],
   "source": []
  }
 ],
 "metadata": {
  "kernelspec": {
   "display_name": "Python 3",
   "language": "python",
   "name": "python3"
  },
  "language_info": {
   "codemirror_mode": {
    "name": "ipython",
    "version": 3
   },
   "file_extension": ".py",
   "mimetype": "text/x-python",
   "name": "python",
   "nbconvert_exporter": "python",
   "pygments_lexer": "ipython3",
   "version": "3.7.3"
  }
 },
 "nbformat": 4,
 "nbformat_minor": 4
}
