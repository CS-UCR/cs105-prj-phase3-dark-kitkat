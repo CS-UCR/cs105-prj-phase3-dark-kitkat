{
 "cells": [
  {
   "cell_type": "code",
   "execution_count": 60,
   "metadata": {},
   "outputs": [],
   "source": [
    "import pandas as pd\n",
    "import numpy as np\n",
    "import matplotlib.pyplot as plt\n",
    "import string\n",
    "import operator"
   ]
  },
  {
   "cell_type": "markdown",
   "metadata": {},
   "source": [
    "# Music Analysis\n",
    "Our data has various features on music that can be valuable. A few issues come with the data we get, though.<br>\n",
    "First we create column names and create the Dataframe for the data."
   ]
  },
  {
   "cell_type": "code",
   "execution_count": 61,
   "metadata": {},
   "outputs": [
    {
     "data": {
      "text/html": [
       "<div>\n",
       "<style scoped>\n",
       "    .dataframe tbody tr th:only-of-type {\n",
       "        vertical-align: middle;\n",
       "    }\n",
       "\n",
       "    .dataframe tbody tr th {\n",
       "        vertical-align: top;\n",
       "    }\n",
       "\n",
       "    .dataframe thead th {\n",
       "        text-align: right;\n",
       "    }\n",
       "</style>\n",
       "<table border=\"1\" class=\"dataframe\">\n",
       "  <thead>\n",
       "    <tr style=\"text-align: right;\">\n",
       "      <th></th>\n",
       "      <th>Artist</th>\n",
       "      <th>Title</th>\n",
       "      <th>Album</th>\n",
       "      <th>#_of_views</th>\n",
       "      <th>Release_date</th>\n",
       "      <th>#_feat_artists</th>\n",
       "      <th>Artist_pop</th>\n",
       "      <th>Genre</th>\n",
       "      <th>Followers</th>\n",
       "      <th>Danceability</th>\n",
       "      <th>Energy</th>\n",
       "      <th>Valence</th>\n",
       "      <th>Duration</th>\n",
       "      <th>Loudness</th>\n",
       "      <th>#_words</th>\n",
       "      <th>Lyrics</th>\n",
       "    </tr>\n",
       "  </thead>\n",
       "  <tbody>\n",
       "    <tr>\n",
       "      <th>0</th>\n",
       "      <td>Miranda Lambert</td>\n",
       "      <td>Vice</td>\n",
       "      <td>The Weight of These Wings</td>\n",
       "      <td>42261</td>\n",
       "      <td>2016-07-18</td>\n",
       "      <td>0</td>\n",
       "      <td>74</td>\n",
       "      <td>contemporary country / country / country dawn ...</td>\n",
       "      <td>2184569</td>\n",
       "      <td>0.568</td>\n",
       "      <td>0.562</td>\n",
       "      <td>0.247</td>\n",
       "      <td>240280</td>\n",
       "      <td>-7.775</td>\n",
       "      <td>233</td>\n",
       "      <td>Sting of the needle dropping on a vinyl\\nNeon ...</td>\n",
       "    </tr>\n",
       "    <tr>\n",
       "      <th>1</th>\n",
       "      <td>Miranda Lambert</td>\n",
       "      <td>Tin Man</td>\n",
       "      <td>The Weight of These Wings</td>\n",
       "      <td>40702</td>\n",
       "      <td>2016-11-18</td>\n",
       "      <td>0</td>\n",
       "      <td>74</td>\n",
       "      <td>contemporary country / country / country dawn ...</td>\n",
       "      <td>2184569</td>\n",
       "      <td>0.425</td>\n",
       "      <td>0.372</td>\n",
       "      <td>0.292</td>\n",
       "      <td>259280</td>\n",
       "      <td>-10.920</td>\n",
       "      <td>147</td>\n",
       "      <td>Hey there Mr. Tin Man\\nYou don't know how luck...</td>\n",
       "    </tr>\n",
       "    <tr>\n",
       "      <th>2</th>\n",
       "      <td>Miranda Lambert</td>\n",
       "      <td>Little Red Wagon</td>\n",
       "      <td>Platinum</td>\n",
       "      <td>29992</td>\n",
       "      <td>2014-06-03</td>\n",
       "      <td>0</td>\n",
       "      <td>74</td>\n",
       "      <td>contemporary country / country / country dawn ...</td>\n",
       "      <td>2184569</td>\n",
       "      <td>0.584</td>\n",
       "      <td>0.813</td>\n",
       "      <td>0.774</td>\n",
       "      <td>204387</td>\n",
       "      <td>-7.221</td>\n",
       "      <td>255</td>\n",
       "      <td>You only love me for my big sunglasses\\nAnd my...</td>\n",
       "    </tr>\n",
       "    <tr>\n",
       "      <th>3</th>\n",
       "      <td>Miranda Lambert</td>\n",
       "      <td>Mama’s Broken Heart</td>\n",
       "      <td>Four the Record</td>\n",
       "      <td>29986</td>\n",
       "      <td>2013-01-14</td>\n",
       "      <td>0</td>\n",
       "      <td>74</td>\n",
       "      <td>contemporary country / country / country dawn ...</td>\n",
       "      <td>2184569</td>\n",
       "      <td>0.768</td>\n",
       "      <td>0.809</td>\n",
       "      <td>0.748</td>\n",
       "      <td>177773</td>\n",
       "      <td>-4.204</td>\n",
       "      <td>315</td>\n",
       "      <td>I cut my bangs with some rusty kitchen scissor...</td>\n",
       "    </tr>\n",
       "    <tr>\n",
       "      <th>4</th>\n",
       "      <td>Miranda Lambert</td>\n",
       "      <td>Somethin’ Bad</td>\n",
       "      <td>Platinum</td>\n",
       "      <td>26966</td>\n",
       "      <td>2014-05-19</td>\n",
       "      <td>1</td>\n",
       "      <td>74</td>\n",
       "      <td>contemporary country / country / country dawn ...</td>\n",
       "      <td>2184569</td>\n",
       "      <td>0.777</td>\n",
       "      <td>0.245</td>\n",
       "      <td>0.349</td>\n",
       "      <td>109107</td>\n",
       "      <td>-14.266</td>\n",
       "      <td>307</td>\n",
       "      <td>Stand on the bar  stomp your feet  start clapp...</td>\n",
       "    </tr>\n",
       "  </tbody>\n",
       "</table>\n",
       "</div>"
      ],
      "text/plain": [
       "            Artist                Title                      Album  \\\n",
       "0  Miranda Lambert                 Vice  The Weight of These Wings   \n",
       "1  Miranda Lambert              Tin Man  The Weight of These Wings   \n",
       "2  Miranda Lambert     Little Red Wagon                   Platinum   \n",
       "3  Miranda Lambert  Mama’s Broken Heart            Four the Record   \n",
       "4  Miranda Lambert        Somethin’ Bad                   Platinum   \n",
       "\n",
       "   #_of_views Release_date  #_feat_artists  Artist_pop  \\\n",
       "0       42261   2016-07-18               0          74   \n",
       "1       40702   2016-11-18               0          74   \n",
       "2       29992   2014-06-03               0          74   \n",
       "3       29986   2013-01-14               0          74   \n",
       "4       26966   2014-05-19               1          74   \n",
       "\n",
       "                                               Genre  Followers  Danceability  \\\n",
       "0  contemporary country / country / country dawn ...    2184569         0.568   \n",
       "1  contemporary country / country / country dawn ...    2184569         0.425   \n",
       "2  contemporary country / country / country dawn ...    2184569         0.584   \n",
       "3  contemporary country / country / country dawn ...    2184569         0.768   \n",
       "4  contemporary country / country / country dawn ...    2184569         0.777   \n",
       "\n",
       "   Energy  Valence  Duration  Loudness  #_words  \\\n",
       "0   0.562    0.247    240280    -7.775      233   \n",
       "1   0.372    0.292    259280   -10.920      147   \n",
       "2   0.813    0.774    204387    -7.221      255   \n",
       "3   0.809    0.748    177773    -4.204      315   \n",
       "4   0.245    0.349    109107   -14.266      307   \n",
       "\n",
       "                                              Lyrics  \n",
       "0  Sting of the needle dropping on a vinyl\\nNeon ...  \n",
       "1  Hey there Mr. Tin Man\\nYou don't know how luck...  \n",
       "2  You only love me for my big sunglasses\\nAnd my...  \n",
       "3  I cut my bangs with some rusty kitchen scissor...  \n",
       "4  Stand on the bar  stomp your feet  start clapp...  "
      ]
     },
     "execution_count": 61,
     "metadata": {},
     "output_type": "execute_result"
    }
   ],
   "source": [
    "columns = ['Artist', 'Title', 'Album', '#_of_views', 'Release_date', '#_feat_artists', 'Artist_pop', 'Genre', \n",
    "           'Followers', 'Danceability', 'Energy', 'Valence', 'Duration', 'Loudness', '#_words', 'Lyrics']\n",
    "music_df = pd.read_csv('lyricDataset.scv', names = columns)\n",
    "music_df.head()"
   ]
  },
  {
   "cell_type": "markdown",
   "metadata": {},
   "source": [
    "## Cleaning\n",
    "The genre column is a little confusing. Most songs have more than one genre, with some of the genres being sub-genres. For instance, instead of `contemporary country`, we can replace that with `country`. The same goes for `pop-punk`, `metalcore`, `indie pop`, etc. <br>\n",
    "Instead, we will bin the genres so that there are no sub-genres allowed. The only genres we want are `country`, `hip hop`, `pop`, `rock` and `metal`."
   ]
  },
  {
   "cell_type": "code",
   "execution_count": 62,
   "metadata": {},
   "outputs": [],
   "source": [
    "genres = music_df['Genre']\n",
    "g_list = list(genres)\n",
    "genre_list = ['country', 'hip hop', 'pop', 'rock', 'punk', 'metal', 'australian'] #Australian reggae is outlier"
   ]
  },
  {
   "cell_type": "code",
   "execution_count": 63,
   "metadata": {},
   "outputs": [],
   "source": [
    "correct_guesses = {}\n",
    "for index, genre in enumerate(g_list):\n",
    "    if type(genre) == float:\n",
    "        continue\n",
    "    else:\n",
    "        if len(genre) == 1:\n",
    "            print(genre)\n",
    "            split_genres = genre\n",
    "        else:\n",
    "            split_genres = genre.split(' / ') \n",
    "    for g in genre_list:\n",
    "        correct = 0\n",
    "        if len(split_genres) == 1 and split_genres[0] == 'rap':\n",
    "            correct_guesses['hip hop'] = correct\n",
    "        else:\n",
    "            for split in split_genres:\n",
    "                if g in split:\n",
    "                    correct += 1\n",
    "            correct_guesses[g] = correct\n",
    "    \n",
    "    correct_genre = max(correct_guesses, key=lambda key: correct_guesses[key])\n",
    "    if correct_genre == 'australian':\n",
    "        g_list[index] = 'pop'\n",
    "    elif correct_genre == 'punk':\n",
    "        g_list[index] = 'rock'\n",
    "    else:\n",
    "        g_list[index] = correct_genre\n",
    "    correct_guesses.clear()"
   ]
  },
  {
   "cell_type": "markdown",
   "metadata": {},
   "source": [
    "### Genre problems\n",
    "Some songs have strange genres, so we will convert those to `pop`. Some of the weird genres are `australian psychadelic` and `australian reggae`. The artists that have these genre tags are `Sticky Fingers` and `Tame Impala`. As far as I know, those artists are quite popular.<br>\n",
    "Below the new `corrected_genres` column is added, so only one genre is listed."
   ]
  },
  {
   "cell_type": "code",
   "execution_count": 64,
   "metadata": {},
   "outputs": [
    {
     "data": {
      "text/html": [
       "<div>\n",
       "<style scoped>\n",
       "    .dataframe tbody tr th:only-of-type {\n",
       "        vertical-align: middle;\n",
       "    }\n",
       "\n",
       "    .dataframe tbody tr th {\n",
       "        vertical-align: top;\n",
       "    }\n",
       "\n",
       "    .dataframe thead th {\n",
       "        text-align: right;\n",
       "    }\n",
       "</style>\n",
       "<table border=\"1\" class=\"dataframe\">\n",
       "  <thead>\n",
       "    <tr style=\"text-align: right;\">\n",
       "      <th></th>\n",
       "      <th>Artist</th>\n",
       "      <th>Title</th>\n",
       "      <th>Album</th>\n",
       "      <th>#_of_views</th>\n",
       "      <th>Release_date</th>\n",
       "      <th>#_feat_artists</th>\n",
       "      <th>Artist_pop</th>\n",
       "      <th>Genre</th>\n",
       "      <th>Followers</th>\n",
       "      <th>Danceability</th>\n",
       "      <th>Energy</th>\n",
       "      <th>Valence</th>\n",
       "      <th>Duration</th>\n",
       "      <th>Loudness</th>\n",
       "      <th>#_words</th>\n",
       "      <th>Lyrics</th>\n",
       "      <th>corrected_genres</th>\n",
       "    </tr>\n",
       "  </thead>\n",
       "  <tbody>\n",
       "    <tr>\n",
       "      <th>0</th>\n",
       "      <td>Miranda Lambert</td>\n",
       "      <td>Vice</td>\n",
       "      <td>The Weight of These Wings</td>\n",
       "      <td>42261</td>\n",
       "      <td>2016-07-18</td>\n",
       "      <td>0</td>\n",
       "      <td>74</td>\n",
       "      <td>contemporary country / country / country dawn ...</td>\n",
       "      <td>2184569</td>\n",
       "      <td>0.568</td>\n",
       "      <td>0.562</td>\n",
       "      <td>0.247</td>\n",
       "      <td>240280</td>\n",
       "      <td>-7.775</td>\n",
       "      <td>233</td>\n",
       "      <td>Sting of the needle dropping on a vinyl\\nNeon ...</td>\n",
       "      <td>country</td>\n",
       "    </tr>\n",
       "    <tr>\n",
       "      <th>1</th>\n",
       "      <td>Miranda Lambert</td>\n",
       "      <td>Tin Man</td>\n",
       "      <td>The Weight of These Wings</td>\n",
       "      <td>40702</td>\n",
       "      <td>2016-11-18</td>\n",
       "      <td>0</td>\n",
       "      <td>74</td>\n",
       "      <td>contemporary country / country / country dawn ...</td>\n",
       "      <td>2184569</td>\n",
       "      <td>0.425</td>\n",
       "      <td>0.372</td>\n",
       "      <td>0.292</td>\n",
       "      <td>259280</td>\n",
       "      <td>-10.920</td>\n",
       "      <td>147</td>\n",
       "      <td>Hey there Mr. Tin Man\\nYou don't know how luck...</td>\n",
       "      <td>country</td>\n",
       "    </tr>\n",
       "    <tr>\n",
       "      <th>2</th>\n",
       "      <td>Miranda Lambert</td>\n",
       "      <td>Little Red Wagon</td>\n",
       "      <td>Platinum</td>\n",
       "      <td>29992</td>\n",
       "      <td>2014-06-03</td>\n",
       "      <td>0</td>\n",
       "      <td>74</td>\n",
       "      <td>contemporary country / country / country dawn ...</td>\n",
       "      <td>2184569</td>\n",
       "      <td>0.584</td>\n",
       "      <td>0.813</td>\n",
       "      <td>0.774</td>\n",
       "      <td>204387</td>\n",
       "      <td>-7.221</td>\n",
       "      <td>255</td>\n",
       "      <td>You only love me for my big sunglasses\\nAnd my...</td>\n",
       "      <td>country</td>\n",
       "    </tr>\n",
       "    <tr>\n",
       "      <th>3</th>\n",
       "      <td>Miranda Lambert</td>\n",
       "      <td>Mama’s Broken Heart</td>\n",
       "      <td>Four the Record</td>\n",
       "      <td>29986</td>\n",
       "      <td>2013-01-14</td>\n",
       "      <td>0</td>\n",
       "      <td>74</td>\n",
       "      <td>contemporary country / country / country dawn ...</td>\n",
       "      <td>2184569</td>\n",
       "      <td>0.768</td>\n",
       "      <td>0.809</td>\n",
       "      <td>0.748</td>\n",
       "      <td>177773</td>\n",
       "      <td>-4.204</td>\n",
       "      <td>315</td>\n",
       "      <td>I cut my bangs with some rusty kitchen scissor...</td>\n",
       "      <td>country</td>\n",
       "    </tr>\n",
       "    <tr>\n",
       "      <th>4</th>\n",
       "      <td>Miranda Lambert</td>\n",
       "      <td>Somethin’ Bad</td>\n",
       "      <td>Platinum</td>\n",
       "      <td>26966</td>\n",
       "      <td>2014-05-19</td>\n",
       "      <td>1</td>\n",
       "      <td>74</td>\n",
       "      <td>contemporary country / country / country dawn ...</td>\n",
       "      <td>2184569</td>\n",
       "      <td>0.777</td>\n",
       "      <td>0.245</td>\n",
       "      <td>0.349</td>\n",
       "      <td>109107</td>\n",
       "      <td>-14.266</td>\n",
       "      <td>307</td>\n",
       "      <td>Stand on the bar  stomp your feet  start clapp...</td>\n",
       "      <td>country</td>\n",
       "    </tr>\n",
       "  </tbody>\n",
       "</table>\n",
       "</div>"
      ],
      "text/plain": [
       "            Artist                Title                      Album  \\\n",
       "0  Miranda Lambert                 Vice  The Weight of These Wings   \n",
       "1  Miranda Lambert              Tin Man  The Weight of These Wings   \n",
       "2  Miranda Lambert     Little Red Wagon                   Platinum   \n",
       "3  Miranda Lambert  Mama’s Broken Heart            Four the Record   \n",
       "4  Miranda Lambert        Somethin’ Bad                   Platinum   \n",
       "\n",
       "   #_of_views Release_date  #_feat_artists  Artist_pop  \\\n",
       "0       42261   2016-07-18               0          74   \n",
       "1       40702   2016-11-18               0          74   \n",
       "2       29992   2014-06-03               0          74   \n",
       "3       29986   2013-01-14               0          74   \n",
       "4       26966   2014-05-19               1          74   \n",
       "\n",
       "                                               Genre  Followers  Danceability  \\\n",
       "0  contemporary country / country / country dawn ...    2184569         0.568   \n",
       "1  contemporary country / country / country dawn ...    2184569         0.425   \n",
       "2  contemporary country / country / country dawn ...    2184569         0.584   \n",
       "3  contemporary country / country / country dawn ...    2184569         0.768   \n",
       "4  contemporary country / country / country dawn ...    2184569         0.777   \n",
       "\n",
       "   Energy  Valence  Duration  Loudness  #_words  \\\n",
       "0   0.562    0.247    240280    -7.775      233   \n",
       "1   0.372    0.292    259280   -10.920      147   \n",
       "2   0.813    0.774    204387    -7.221      255   \n",
       "3   0.809    0.748    177773    -4.204      315   \n",
       "4   0.245    0.349    109107   -14.266      307   \n",
       "\n",
       "                                              Lyrics corrected_genres  \n",
       "0  Sting of the needle dropping on a vinyl\\nNeon ...          country  \n",
       "1  Hey there Mr. Tin Man\\nYou don't know how luck...          country  \n",
       "2  You only love me for my big sunglasses\\nAnd my...          country  \n",
       "3  I cut my bangs with some rusty kitchen scissor...          country  \n",
       "4  Stand on the bar  stomp your feet  start clapp...          country  "
      ]
     },
     "execution_count": 64,
     "metadata": {},
     "output_type": "execute_result"
    }
   ],
   "source": [
    "music_df['corrected_genres'] = g_list\n",
    "music_df.head()"
   ]
  },
  {
   "cell_type": "markdown",
   "metadata": {},
   "source": [
    "## Sentiment Analysis\n",
    "Another column we want to add for analysis is the perceived sentiment of each lyric. Before we calculate the analysis, we need to clean up the lyric column. So, we remove punctuation and make everything lowercase. "
   ]
  },
  {
   "cell_type": "code",
   "execution_count": 65,
   "metadata": {},
   "outputs": [],
   "source": [
    "# Plot some stuff over time. Also, use sentiment\n",
    "music_df['Lyrics'] = music_df['Lyrics'].astype(str)\n",
    "music_df['Lyrics'] = music_df['Lyrics'].str.lower()\n",
    "music_df['Lyrics'] = music_df['Lyrics'].str.translate(string.punctuation)\n",
    "music_df['Lyrics'] = music_df['Lyrics'].str.replace('+', ' ').replace('\\\\', '').replace('\"', '')"
   ]
  },
  {
   "cell_type": "markdown",
   "metadata": {},
   "source": [
    "The library that calculates sentiment is called `vaderSentiment`. The description from the vader github states: VADER (Valence Aware Dictionary and sEntiment Reasoner) is a lexicon and rule-based sentiment analysis tool that is specifically attuned to sentiments expressed in social media.<br>\n",
    "Since this is based on sentiments expressed in social media, it may not be the best. The next step to take after this analysis is to look into training our own model on lyrics. For now, we will work with this sentiment analysis."
   ]
  },
  {
   "cell_type": "code",
   "execution_count": 66,
   "metadata": {},
   "outputs": [],
   "source": [
    "from vaderSentiment.vaderSentiment import SentimentIntensityAnalyzer\n",
    "sentiment = []\n",
    "analyzer = SentimentIntensityAnalyzer()\n",
    "for label, content in music_df['Lyrics'].items():\n",
    "    sentiment.append(analyzer.polarity_scores(content))"
   ]
  },
  {
   "cell_type": "markdown",
   "metadata": {},
   "source": [
    "### Sentiments\n",
    "There are 4 values this analyzer returns. The values are<br>\n",
    "1. The perceived negativaty of the lyrics.\n",
    "2. The perceived neutrality of the lyrics.\n",
    "3. The perceived positivity of the lyrics.\n",
    "4. The compound score that decides how negative, neutral and positive a lyric is."
   ]
  },
  {
   "cell_type": "markdown",
   "metadata": {},
   "source": [
    "For the negative, neutral and positive scores, the values range from `-1 to 1`.<br>\n",
    "The compound value ranges from `-10 to 10`."
   ]
  },
  {
   "cell_type": "code",
   "execution_count": 67,
   "metadata": {},
   "outputs": [],
   "source": [
    "neg = []\n",
    "neu = []\n",
    "pos = []\n",
    "compound = []"
   ]
  },
  {
   "cell_type": "code",
   "execution_count": 68,
   "metadata": {},
   "outputs": [],
   "source": [
    "for sentiments in sentiment:\n",
    "    neg.append(sentiments['neg'])\n",
    "    neu.append(sentiments['neu'])\n",
    "    pos.append(sentiments['pos'])\n",
    "    compound.append(sentiments['compound'])"
   ]
  },
  {
   "cell_type": "code",
   "execution_count": 69,
   "metadata": {},
   "outputs": [],
   "source": [
    "music_df['negative_score'] = neg\n",
    "music_df['neutral_score'] = neu\n",
    "music_df['positive_score'] = pos\n",
    "music_df['compound_score'] = compound"
   ]
  },
  {
   "cell_type": "code",
   "execution_count": 70,
   "metadata": {},
   "outputs": [
    {
     "data": {
      "text/html": [
       "<div>\n",
       "<style scoped>\n",
       "    .dataframe tbody tr th:only-of-type {\n",
       "        vertical-align: middle;\n",
       "    }\n",
       "\n",
       "    .dataframe tbody tr th {\n",
       "        vertical-align: top;\n",
       "    }\n",
       "\n",
       "    .dataframe thead th {\n",
       "        text-align: right;\n",
       "    }\n",
       "</style>\n",
       "<table border=\"1\" class=\"dataframe\">\n",
       "  <thead>\n",
       "    <tr style=\"text-align: right;\">\n",
       "      <th></th>\n",
       "      <th>Artist</th>\n",
       "      <th>Title</th>\n",
       "      <th>Album</th>\n",
       "      <th>#_of_views</th>\n",
       "      <th>Release_date</th>\n",
       "      <th>#_feat_artists</th>\n",
       "      <th>Artist_pop</th>\n",
       "      <th>Genre</th>\n",
       "      <th>Followers</th>\n",
       "      <th>Danceability</th>\n",
       "      <th>...</th>\n",
       "      <th>Valence</th>\n",
       "      <th>Duration</th>\n",
       "      <th>Loudness</th>\n",
       "      <th>#_words</th>\n",
       "      <th>Lyrics</th>\n",
       "      <th>corrected_genres</th>\n",
       "      <th>negative_score</th>\n",
       "      <th>neutral_score</th>\n",
       "      <th>positive_score</th>\n",
       "      <th>compound_score</th>\n",
       "    </tr>\n",
       "  </thead>\n",
       "  <tbody>\n",
       "    <tr>\n",
       "      <th>0</th>\n",
       "      <td>Miranda Lambert</td>\n",
       "      <td>Vice</td>\n",
       "      <td>The Weight of These Wings</td>\n",
       "      <td>42261</td>\n",
       "      <td>2016-07-18</td>\n",
       "      <td>0</td>\n",
       "      <td>74</td>\n",
       "      <td>contemporary country / country / country dawn ...</td>\n",
       "      <td>2184569</td>\n",
       "      <td>0.568</td>\n",
       "      <td>...</td>\n",
       "      <td>0.247</td>\n",
       "      <td>240280</td>\n",
       "      <td>-7.775</td>\n",
       "      <td>233</td>\n",
       "      <td>sting of the needle dropping on a vinyl neon s...</td>\n",
       "      <td>country</td>\n",
       "      <td>0.034</td>\n",
       "      <td>0.868</td>\n",
       "      <td>0.098</td>\n",
       "      <td>0.9311</td>\n",
       "    </tr>\n",
       "    <tr>\n",
       "      <th>1</th>\n",
       "      <td>Miranda Lambert</td>\n",
       "      <td>Tin Man</td>\n",
       "      <td>The Weight of These Wings</td>\n",
       "      <td>40702</td>\n",
       "      <td>2016-11-18</td>\n",
       "      <td>0</td>\n",
       "      <td>74</td>\n",
       "      <td>contemporary country / country / country dawn ...</td>\n",
       "      <td>2184569</td>\n",
       "      <td>0.425</td>\n",
       "      <td>...</td>\n",
       "      <td>0.292</td>\n",
       "      <td>259280</td>\n",
       "      <td>-10.920</td>\n",
       "      <td>147</td>\n",
       "      <td>hey there mr. tin man you don't know how lucky...</td>\n",
       "      <td>country</td>\n",
       "      <td>0.124</td>\n",
       "      <td>0.781</td>\n",
       "      <td>0.094</td>\n",
       "      <td>-0.2295</td>\n",
       "    </tr>\n",
       "    <tr>\n",
       "      <th>2</th>\n",
       "      <td>Miranda Lambert</td>\n",
       "      <td>Little Red Wagon</td>\n",
       "      <td>Platinum</td>\n",
       "      <td>29992</td>\n",
       "      <td>2014-06-03</td>\n",
       "      <td>0</td>\n",
       "      <td>74</td>\n",
       "      <td>contemporary country / country / country dawn ...</td>\n",
       "      <td>2184569</td>\n",
       "      <td>0.584</td>\n",
       "      <td>...</td>\n",
       "      <td>0.774</td>\n",
       "      <td>204387</td>\n",
       "      <td>-7.221</td>\n",
       "      <td>255</td>\n",
       "      <td>you only love me for my big sunglasses and my ...</td>\n",
       "      <td>country</td>\n",
       "      <td>0.048</td>\n",
       "      <td>0.780</td>\n",
       "      <td>0.172</td>\n",
       "      <td>0.9901</td>\n",
       "    </tr>\n",
       "    <tr>\n",
       "      <th>3</th>\n",
       "      <td>Miranda Lambert</td>\n",
       "      <td>Mama’s Broken Heart</td>\n",
       "      <td>Four the Record</td>\n",
       "      <td>29986</td>\n",
       "      <td>2013-01-14</td>\n",
       "      <td>0</td>\n",
       "      <td>74</td>\n",
       "      <td>contemporary country / country / country dawn ...</td>\n",
       "      <td>2184569</td>\n",
       "      <td>0.768</td>\n",
       "      <td>...</td>\n",
       "      <td>0.748</td>\n",
       "      <td>177773</td>\n",
       "      <td>-4.204</td>\n",
       "      <td>315</td>\n",
       "      <td>i cut my bangs with some rusty kitchen scissor...</td>\n",
       "      <td>country</td>\n",
       "      <td>0.146</td>\n",
       "      <td>0.763</td>\n",
       "      <td>0.091</td>\n",
       "      <td>-0.9398</td>\n",
       "    </tr>\n",
       "    <tr>\n",
       "      <th>4</th>\n",
       "      <td>Miranda Lambert</td>\n",
       "      <td>Somethin’ Bad</td>\n",
       "      <td>Platinum</td>\n",
       "      <td>26966</td>\n",
       "      <td>2014-05-19</td>\n",
       "      <td>1</td>\n",
       "      <td>74</td>\n",
       "      <td>contemporary country / country / country dawn ...</td>\n",
       "      <td>2184569</td>\n",
       "      <td>0.777</td>\n",
       "      <td>...</td>\n",
       "      <td>0.349</td>\n",
       "      <td>109107</td>\n",
       "      <td>-14.266</td>\n",
       "      <td>307</td>\n",
       "      <td>stand on the bar  stomp your feet  start clapp...</td>\n",
       "      <td>country</td>\n",
       "      <td>0.174</td>\n",
       "      <td>0.661</td>\n",
       "      <td>0.165</td>\n",
       "      <td>-0.9289</td>\n",
       "    </tr>\n",
       "  </tbody>\n",
       "</table>\n",
       "<p>5 rows × 21 columns</p>\n",
       "</div>"
      ],
      "text/plain": [
       "            Artist                Title                      Album  \\\n",
       "0  Miranda Lambert                 Vice  The Weight of These Wings   \n",
       "1  Miranda Lambert              Tin Man  The Weight of These Wings   \n",
       "2  Miranda Lambert     Little Red Wagon                   Platinum   \n",
       "3  Miranda Lambert  Mama’s Broken Heart            Four the Record   \n",
       "4  Miranda Lambert        Somethin’ Bad                   Platinum   \n",
       "\n",
       "   #_of_views Release_date  #_feat_artists  Artist_pop  \\\n",
       "0       42261   2016-07-18               0          74   \n",
       "1       40702   2016-11-18               0          74   \n",
       "2       29992   2014-06-03               0          74   \n",
       "3       29986   2013-01-14               0          74   \n",
       "4       26966   2014-05-19               1          74   \n",
       "\n",
       "                                               Genre  Followers  Danceability  \\\n",
       "0  contemporary country / country / country dawn ...    2184569         0.568   \n",
       "1  contemporary country / country / country dawn ...    2184569         0.425   \n",
       "2  contemporary country / country / country dawn ...    2184569         0.584   \n",
       "3  contemporary country / country / country dawn ...    2184569         0.768   \n",
       "4  contemporary country / country / country dawn ...    2184569         0.777   \n",
       "\n",
       "        ...        Valence  Duration  Loudness  #_words  \\\n",
       "0       ...          0.247    240280    -7.775      233   \n",
       "1       ...          0.292    259280   -10.920      147   \n",
       "2       ...          0.774    204387    -7.221      255   \n",
       "3       ...          0.748    177773    -4.204      315   \n",
       "4       ...          0.349    109107   -14.266      307   \n",
       "\n",
       "                                              Lyrics corrected_genres  \\\n",
       "0  sting of the needle dropping on a vinyl neon s...          country   \n",
       "1  hey there mr. tin man you don't know how lucky...          country   \n",
       "2  you only love me for my big sunglasses and my ...          country   \n",
       "3  i cut my bangs with some rusty kitchen scissor...          country   \n",
       "4  stand on the bar  stomp your feet  start clapp...          country   \n",
       "\n",
       "  negative_score  neutral_score  positive_score  compound_score  \n",
       "0          0.034          0.868           0.098          0.9311  \n",
       "1          0.124          0.781           0.094         -0.2295  \n",
       "2          0.048          0.780           0.172          0.9901  \n",
       "3          0.146          0.763           0.091         -0.9398  \n",
       "4          0.174          0.661           0.165         -0.9289  \n",
       "\n",
       "[5 rows x 21 columns]"
      ]
     },
     "execution_count": 70,
     "metadata": {},
     "output_type": "execute_result"
    }
   ],
   "source": [
    "music_df.head()"
   ]
  },
  {
   "cell_type": "markdown",
   "metadata": {},
   "source": [
    "## Various Genre Summaries\n",
    "Now that we've decreased the number of genres per song to just one genre, we can begin some analysis. First we group the dataframe by the corrected genres.<br>\n",
    "We can see `pop` has the most songs in this dataset, with `rock` having the least."
   ]
  },
  {
   "cell_type": "code",
   "execution_count": 71,
   "metadata": {},
   "outputs": [
    {
     "data": {
      "text/plain": [
       "pop        500\n",
       "hip hop    440\n",
       "country    220\n",
       "metal      220\n",
       "rock       180\n",
       "Name: corrected_genres, dtype: int64"
      ]
     },
     "execution_count": 71,
     "metadata": {},
     "output_type": "execute_result"
    }
   ],
   "source": [
    "music_df['corrected_genres'].value_counts()"
   ]
  },
  {
   "cell_type": "code",
   "execution_count": 75,
   "metadata": {},
   "outputs": [],
   "source": [
    "genre_analyze = music_df.groupby(['corrected_genres'])"
   ]
  },
  {
   "cell_type": "markdown",
   "metadata": {},
   "source": [
    "### Song Analytics\n",
    "Below we will get averages of some features all songs have. Those features are:\n",
    "1. How danceable a song is\n",
    "2. How much energy a song has\n",
    "3. The mood of a song\n",
    "4. How loud a song is\n",
    "5. How many words a song has\n",
    "6. How long songs are"
   ]
  },
  {
   "cell_type": "code",
   "execution_count": 76,
   "metadata": {},
   "outputs": [
    {
     "data": {
      "text/plain": [
       "array([[<matplotlib.axes._subplots.AxesSubplot object at 0x7efe53773240>,\n",
       "        <matplotlib.axes._subplots.AxesSubplot object at 0x7efe5189f908>,\n",
       "        <matplotlib.axes._subplots.AxesSubplot object at 0x7efe51878a20>],\n",
       "       [<matplotlib.axes._subplots.AxesSubplot object at 0x7efe4b8e8b38>,\n",
       "        <matplotlib.axes._subplots.AxesSubplot object at 0x7efe4b9c8c50>,\n",
       "        <matplotlib.axes._subplots.AxesSubplot object at 0x7efe4b9ce048>],\n",
       "       [<matplotlib.axes._subplots.AxesSubplot object at 0x7efe4b966588>,\n",
       "        <matplotlib.axes._subplots.AxesSubplot object at 0x7efe4bcbc358>,\n",
       "        <matplotlib.axes._subplots.AxesSubplot object at 0x7efe4bcbc390>]],\n",
       "      dtype=object)"
      ]
     },
     "execution_count": 76,
     "metadata": {},
     "output_type": "execute_result"
    },
    {
     "data": {
      "image/png": "[encoded data removed]",
      "text/plain": [
       "<Figure size 1440x1080 with 9 Axes>"
      ]
     },
     "metadata": {
      "needs_background": "light"
     },
     "output_type": "display_data"
    }
   ],
   "source": [
    "genre_analyze[['Danceability', 'Energy', 'Valence', 'Loudness', '#_words', 'Duration']].mean().plot.bar(subplots=True, layout=(3,3), figsize=(20,15))"
   ]
  },
  {
   "cell_type": "markdown",
   "metadata": {},
   "source": [
    "We will go feature-by-feature for these charts, noting interesting statistics about each feature."
   ]
  },
  {
   "cell_type": "markdown",
   "metadata": {},
   "source": [
    "`Danceability`:\n",
    "* As should be obvious, metal is the least danceable music amongst these genres.\n",
    "* Hip-hop is the most danceable genre. I assume this is because of the bass and drums incorporated into many hip-hop songs\n",
    "* Interestingly, country is almost as danceable as pop music. I can only imagine two stepping with country music"
   ]
  },
  {
   "cell_type": "markdown",
   "metadata": {},
   "source": [
    "`Energy`:\n",
    "* Metal has the most energy amongst these genres. Metal music usually has fast riffs and fast instrumentals.\n",
    "* Rock would be the next highest energy.\n",
    "* The last three seem to have around the same energy."
   ]
  },
  {
   "cell_type": "markdown",
   "metadata": {},
   "source": [
    "`Valence`:\n",
    "* The most positive genre seems to be rock. I would assume pop would be more positive.\n",
    "* The metal genre is the least positive, from the entire bunch. That makes sense, since metal music can be dark sometimes.\n",
    "* Hip-hop is almost as positive as rock\n",
    "* Something to note about this feature, is that the instrumentals are used to calculate valence as well."
   ]
  },
  {
   "cell_type": "markdown",
   "metadata": {},
   "source": [
    "`Loudness`:\n",
    "* The higher the loudness, the more loud the music is.\n",
    "* The most loud genre is metal. Next loudest is is pop.\n",
    "* Hip-hop is the generally the least loud."
   ]
  },
  {
   "cell_type": "markdown",
   "metadata": {},
   "source": [
    "`Number of words`:\n",
    "* Hip-hop has the highest average amount of words per song. Hip hop artists are usually lyricists.\n",
    "* Even though hip hop artists have the highest word count, it could be repititions.\n",
    "* The least wordy genre is metal. I assume this comes from metal being focused on instrumentals."
   ]
  },
  {
   "cell_type": "markdown",
   "metadata": {},
   "source": [
    "`Duration in milliseconds`:\n",
    "* The duration is close to the same for each genre.\n",
    "* Hip hop seems to have the highest duration."
   ]
  },
  {
   "cell_type": "markdown",
   "metadata": {},
   "source": [
    "## Sentiment Analytics\n",
    "Now we will focus on the sentiments calculated by the vader library."
   ]
  },
  {
   "cell_type": "code",
   "execution_count": 79,
   "metadata": {},
   "outputs": [
    {
     "data": {
      "text/plain": [
       "array([[<matplotlib.axes._subplots.AxesSubplot object at 0x7efe51395cc0>,\n",
       "        <matplotlib.axes._subplots.AxesSubplot object at 0x7efe5131bcc0>],\n",
       "       [<matplotlib.axes._subplots.AxesSubplot object at 0x7efe512cb160>,\n",
       "        <matplotlib.axes._subplots.AxesSubplot object at 0x7efe512715c0>]],\n",
       "      dtype=object)"
      ]
     },
     "execution_count": 79,
     "metadata": {},
     "output_type": "execute_result"
    },
    {
     "data": {
      "image/png": "[encoded data removed]",
      "text/plain": [
       "<Figure size 1080x720 with 4 Axes>"
      ]
     },
     "metadata": {
      "needs_background": "light"
     },
     "output_type": "display_data"
    }
   ],
   "source": [
    "genre_analyze[['negative_score', 'neutral_score', 'positive_score', 'compound_score']].mean().plot.bar(subplots=True, layout=(2,2), figsize=(15,10))"
   ]
  },
  {
   "cell_type": "markdown",
   "metadata": {},
   "source": [
    "The neutral scores don't have anything interesting going on, so we will ignore those. The compound scores are used to calculate positive, negative and neutral scores. So, compound scores may show similar results from negative and positive scores.<br>\n",
    "For the negative scores, metal music seems to generally be more negative. Close behind metal is hip-hop.<br>\n",
    "The most positive genre goes to pop. When I think of pop music, I imagine happy, catchy songs. So, this makes sense."
   ]
  },
  {
   "cell_type": "code",
   "execution_count": null,
   "metadata": {},
   "outputs": [],
   "source": [
    "#TODO Time series data, and some analysis on that."
   ]
  }
 ],
 "metadata": {
  "kernelspec": {
   "display_name": "Python 3",
   "language": "python",
   "name": "python3"
  },
  "language_info": {
   "codemirror_mode": {
    "name": "ipython",
    "version": 3
   },
   "file_extension": ".py",
   "mimetype": "text/x-python",
   "name": "python",
   "nbconvert_exporter": "python",
   "pygments_lexer": "ipython3",
   "version": "3.7.1"
  }
 },
 "nbformat": 4,
 "nbformat_minor": 2
}
