{
 "cells": [
  {
   "cell_type": "code",
   "execution_count": 44,
   "metadata": {},
   "outputs": [],
   "source": [
    "import pandas as pd\n",
    "import numpy as np\n",
    "import matplotlib.pyplot as plt\n",
    "import string\n",
    "import operator"
   ]
  },
  {
   "cell_type": "code",
   "execution_count": 45,
   "metadata": {},
   "outputs": [],
   "source": [
    "columns = ['Artist', 'Title', 'Album', '#_of_views', 'Release_date', '#_feat_artists', 'Artist_pop', 'Genre', \n",
    "           'Followers', 'Danceability', 'Energy', 'Valence', 'Duration', 'Loudness', '#_words', 'Lyrics']\n",
    "music_df = pd.read_csv('lyricDataset.scv', names = columns)"
   ]
  },
  {
   "cell_type": "code",
   "execution_count": 46,
   "metadata": {},
   "outputs": [],
   "source": [
    "genres = music_df['Genre']\n",
    "g_list = list(genres)\n",
    "genre_list = ['country', 'hip hop', 'pop', 'rock', 'punk', 'metal', 'australian'] #Australian reggae is outlier"
   ]
  },
  {
   "cell_type": "code",
   "execution_count": 47,
   "metadata": {},
   "outputs": [],
   "source": [
    "correct_guesses = {}\n",
    "for index, genre in enumerate(g_list):\n",
    "    if type(genre) == float:\n",
    "        continue\n",
    "    else:\n",
    "        if len(genre) == 1:\n",
    "            print(genre)\n",
    "            split_genres = genre\n",
    "        else:\n",
    "            split_genres = genre.split(' / ') \n",
    "    for g in genre_list:\n",
    "        correct = 0\n",
    "        if len(split_genres) == 1 and split_genres[0] == 'rap':\n",
    "            correct_guesses['hip hop'] = correct\n",
    "        else:\n",
    "            for split in split_genres:\n",
    "                if g in split:\n",
    "                    correct += 1\n",
    "            correct_guesses[g] = correct\n",
    "    \n",
    "    correct_genre = max(correct_guesses, key=lambda key: correct_guesses[key])\n",
    "    if correct_genre == 'australian':\n",
    "        g_list[index] = 'pop'\n",
    "    elif correct_genre == 'punk':\n",
    "        g_list[index] = 'rock'\n",
    "    else:\n",
    "        g_list[index] = correct_genre\n",
    "    correct_guesses.clear()"
   ]
  },
  {
   "cell_type": "code",
   "execution_count": 48,
   "metadata": {},
   "outputs": [
    {
     "data": {
      "text/html": [
       "<div>\n",
       "<style scoped>\n",
       "    .dataframe tbody tr th:only-of-type {\n",
       "        vertical-align: middle;\n",
       "    }\n",
       "\n",
       "    .dataframe tbody tr th {\n",
       "        vertical-align: top;\n",
       "    }\n",
       "\n",
       "    .dataframe thead th {\n",
       "        text-align: right;\n",
       "    }\n",
       "</style>\n",
       "<table border=\"1\" class=\"dataframe\">\n",
       "  <thead>\n",
       "    <tr style=\"text-align: right;\">\n",
       "      <th></th>\n",
       "      <th>Artist</th>\n",
       "      <th>Title</th>\n",
       "      <th>Album</th>\n",
       "      <th>#_of_views</th>\n",
       "      <th>Release_date</th>\n",
       "      <th>#_feat_artists</th>\n",
       "      <th>Artist_pop</th>\n",
       "      <th>Genre</th>\n",
       "      <th>Followers</th>\n",
       "      <th>Danceability</th>\n",
       "      <th>Energy</th>\n",
       "      <th>Valence</th>\n",
       "      <th>Duration</th>\n",
       "      <th>Loudness</th>\n",
       "      <th>#_words</th>\n",
       "      <th>Lyrics</th>\n",
       "      <th>corrected_genres</th>\n",
       "    </tr>\n",
       "  </thead>\n",
       "  <tbody>\n",
       "    <tr>\n",
       "      <th>0</th>\n",
       "      <td>Miranda Lambert</td>\n",
       "      <td>Vice</td>\n",
       "      <td>The Weight of These Wings</td>\n",
       "      <td>42261</td>\n",
       "      <td>2016-07-18</td>\n",
       "      <td>0</td>\n",
       "      <td>74</td>\n",
       "      <td>contemporary country / country / country dawn ...</td>\n",
       "      <td>2184569</td>\n",
       "      <td>0.568</td>\n",
       "      <td>0.562</td>\n",
       "      <td>0.247</td>\n",
       "      <td>240280</td>\n",
       "      <td>-7.775</td>\n",
       "      <td>233</td>\n",
       "      <td>Sting of the needle dropping on a vinyl\\nNeon ...</td>\n",
       "      <td>country</td>\n",
       "    </tr>\n",
       "    <tr>\n",
       "      <th>1</th>\n",
       "      <td>Miranda Lambert</td>\n",
       "      <td>Tin Man</td>\n",
       "      <td>The Weight of These Wings</td>\n",
       "      <td>40702</td>\n",
       "      <td>2016-11-18</td>\n",
       "      <td>0</td>\n",
       "      <td>74</td>\n",
       "      <td>contemporary country / country / country dawn ...</td>\n",
       "      <td>2184569</td>\n",
       "      <td>0.425</td>\n",
       "      <td>0.372</td>\n",
       "      <td>0.292</td>\n",
       "      <td>259280</td>\n",
       "      <td>-10.920</td>\n",
       "      <td>147</td>\n",
       "      <td>Hey there Mr. Tin Man\\nYou don't know how luck...</td>\n",
       "      <td>country</td>\n",
       "    </tr>\n",
       "    <tr>\n",
       "      <th>2</th>\n",
       "      <td>Miranda Lambert</td>\n",
       "      <td>Little Red Wagon</td>\n",
       "      <td>Platinum</td>\n",
       "      <td>29992</td>\n",
       "      <td>2014-06-03</td>\n",
       "      <td>0</td>\n",
       "      <td>74</td>\n",
       "      <td>contemporary country / country / country dawn ...</td>\n",
       "      <td>2184569</td>\n",
       "      <td>0.584</td>\n",
       "      <td>0.813</td>\n",
       "      <td>0.774</td>\n",
       "      <td>204387</td>\n",
       "      <td>-7.221</td>\n",
       "      <td>255</td>\n",
       "      <td>You only love me for my big sunglasses\\nAnd my...</td>\n",
       "      <td>country</td>\n",
       "    </tr>\n",
       "    <tr>\n",
       "      <th>3</th>\n",
       "      <td>Miranda Lambert</td>\n",
       "      <td>Mama’s Broken Heart</td>\n",
       "      <td>Four the Record</td>\n",
       "      <td>29986</td>\n",
       "      <td>2013-01-14</td>\n",
       "      <td>0</td>\n",
       "      <td>74</td>\n",
       "      <td>contemporary country / country / country dawn ...</td>\n",
       "      <td>2184569</td>\n",
       "      <td>0.768</td>\n",
       "      <td>0.809</td>\n",
       "      <td>0.748</td>\n",
       "      <td>177773</td>\n",
       "      <td>-4.204</td>\n",
       "      <td>315</td>\n",
       "      <td>I cut my bangs with some rusty kitchen scissor...</td>\n",
       "      <td>country</td>\n",
       "    </tr>\n",
       "    <tr>\n",
       "      <th>4</th>\n",
       "      <td>Miranda Lambert</td>\n",
       "      <td>Somethin’ Bad</td>\n",
       "      <td>Platinum</td>\n",
       "      <td>26966</td>\n",
       "      <td>2014-05-19</td>\n",
       "      <td>1</td>\n",
       "      <td>74</td>\n",
       "      <td>contemporary country / country / country dawn ...</td>\n",
       "      <td>2184569</td>\n",
       "      <td>0.777</td>\n",
       "      <td>0.245</td>\n",
       "      <td>0.349</td>\n",
       "      <td>109107</td>\n",
       "      <td>-14.266</td>\n",
       "      <td>307</td>\n",
       "      <td>Stand on the bar  stomp your feet  start clapp...</td>\n",
       "      <td>country</td>\n",
       "    </tr>\n",
       "  </tbody>\n",
       "</table>\n",
       "</div>"
      ],
      "text/plain": [
       "            Artist                Title                      Album  \\\n",
       "0  Miranda Lambert                 Vice  The Weight of These Wings   \n",
       "1  Miranda Lambert              Tin Man  The Weight of These Wings   \n",
       "2  Miranda Lambert     Little Red Wagon                   Platinum   \n",
       "3  Miranda Lambert  Mama’s Broken Heart            Four the Record   \n",
       "4  Miranda Lambert        Somethin’ Bad                   Platinum   \n",
       "\n",
       "   #_of_views Release_date  #_feat_artists  Artist_pop  \\\n",
       "0       42261   2016-07-18               0          74   \n",
       "1       40702   2016-11-18               0          74   \n",
       "2       29992   2014-06-03               0          74   \n",
       "3       29986   2013-01-14               0          74   \n",
       "4       26966   2014-05-19               1          74   \n",
       "\n",
       "                                               Genre  Followers  Danceability  \\\n",
       "0  contemporary country / country / country dawn ...    2184569         0.568   \n",
       "1  contemporary country / country / country dawn ...    2184569         0.425   \n",
       "2  contemporary country / country / country dawn ...    2184569         0.584   \n",
       "3  contemporary country / country / country dawn ...    2184569         0.768   \n",
       "4  contemporary country / country / country dawn ...    2184569         0.777   \n",
       "\n",
       "   Energy  Valence  Duration  Loudness  #_words  \\\n",
       "0   0.562    0.247    240280    -7.775      233   \n",
       "1   0.372    0.292    259280   -10.920      147   \n",
       "2   0.813    0.774    204387    -7.221      255   \n",
       "3   0.809    0.748    177773    -4.204      315   \n",
       "4   0.245    0.349    109107   -14.266      307   \n",
       "\n",
       "                                              Lyrics corrected_genres  \n",
       "0  Sting of the needle dropping on a vinyl\\nNeon ...          country  \n",
       "1  Hey there Mr. Tin Man\\nYou don't know how luck...          country  \n",
       "2  You only love me for my big sunglasses\\nAnd my...          country  \n",
       "3  I cut my bangs with some rusty kitchen scissor...          country  \n",
       "4  Stand on the bar  stomp your feet  start clapp...          country  "
      ]
     },
     "execution_count": 48,
     "metadata": {},
     "output_type": "execute_result"
    }
   ],
   "source": [
    "music_df['corrected_genres'] = g_list\n",
    "music_df.head()"
   ]
  },
  {
   "cell_type": "code",
   "execution_count": 49,
   "metadata": {},
   "outputs": [
    {
     "data": {
      "text/plain": [
       "pop        500\n",
       "hip hop    440\n",
       "country    220\n",
       "metal      220\n",
       "rock       180\n",
       "Name: corrected_genres, dtype: int64"
      ]
     },
     "execution_count": 49,
     "metadata": {},
     "output_type": "execute_result"
    }
   ],
   "source": [
    "music_df['corrected_genres'].value_counts()"
   ]
  },
  {
   "cell_type": "code",
   "execution_count": 50,
   "metadata": {},
   "outputs": [],
   "source": [
    "# Do something where you analyse genres\n",
    "genre_analyze = music_df.groupby(['corrected_genres'])"
   ]
  },
  {
   "cell_type": "code",
   "execution_count": 51,
   "metadata": {},
   "outputs": [
    {
     "data": {
      "image/png": "[encoded data removed]",
      "text/plain": [
       "<Figure size 1440x1080 with 9 Axes>"
      ]
     },
     "metadata": {
      "needs_background": "light"
     },
     "output_type": "display_data"
    }
   ],
   "source": [
    "genre_analyze[['Danceability', 'Energy', 'Valence', 'Loudness', '#_words', 'Duration']].mean().plot.bar(subplots=True, layout=(3,3), figsize=(20,15))"
   ]
  },
  {
   "cell_type": "code",
   "execution_count": 52,
   "metadata": {},
   "outputs": [],
   "source": [
    "# Plot some stuff over time. Also, use sentiment"
   ]
  },
  {
   "cell_type": "code",
   "execution_count": null,
   "metadata": {},
   "outputs": [],
   "source": []
  }
 ],
 "metadata": {
  "kernelspec": {
   "display_name": "Python 3",
   "language": "python",
   "name": "python3"
  },
  "language_info": {
   "codemirror_mode": {
    "name": "ipython",
    "version": 3
   },
   "file_extension": ".py",
   "mimetype": "text/x-python",
   "name": "python",
   "nbconvert_exporter": "python",
   "pygments_lexer": "ipython3",
   "version": "3.7.1"
  }
 },
 "nbformat": 4,
 "nbformat_minor": 2
}
